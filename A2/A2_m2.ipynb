{
 "cells": [
  {
   "cell_type": "markdown",
   "source": [
    "The codes have commented the ones thta applying the simple classifiers, as LR and NB, to the datasets with the pretrained word embeddings."
   ],
   "metadata": {
    "collapsed": false,
    "pycharm": {
     "name": "#%% md\n"
    },
    "id": "47aDT_rHBwOQ"
   }
  },
  {
   "cell_type": "code",
   "execution_count": 61,
   "outputs": [
    {
     "name": "stderr",
     "output_type": "stream",
     "text": [
      "[nltk_data] Downloading package punkt to /home/amber/nltk_data...\n",
      "[nltk_data]   Package punkt is already up-to-date!\n",
      "[nltk_data] Downloading package stopwords to /home/amber/nltk_data...\n",
      "[nltk_data]   Package stopwords is already up-to-date!\n",
      "[nltk_data] Downloading package averaged_perceptron_tagger to\n",
      "[nltk_data]     /home/amber/nltk_data...\n",
      "[nltk_data]   Package averaged_perceptron_tagger is already up-to-\n",
      "[nltk_data]       date!\n",
      "[nltk_data] Downloading package wordnet to /home/amber/nltk_data...\n",
      "[nltk_data]   Package wordnet is already up-to-date!\n"
     ]
    }
   ],
   "source": [
    "\n",
    "import pandas as pd\n",
    "import numpy as np\n",
    "import re, string\n",
    "import matplotlib.pyplot as plt\n",
    "import transformers\n",
    "import nltk\n",
    "\n",
    "from nltk.corpus import stopwords\n",
    "from nltk.tokenize import word_tokenize\n",
    "from nltk.stem import SnowballStemmer\n",
    "from nltk.corpus import wordnet\n",
    "from nltk.stem import WordNetLemmatizer\n",
    "\n",
    "nltk.download('punkt')\n",
    "nltk.download('stopwords')\n",
    "nltk.download('averaged_perceptron_tagger')\n",
    "nltk.download('wordnet')\n",
    "#for model-building\n",
    "from sklearn.model_selection import train_test_split\n",
    "from sklearn.linear_model import LogisticRegression\n",
    "from sklearn.naive_bayes import MultinomialNB\n",
    "from sklearn.metrics import classification_report\n",
    "import seaborn as sns\n",
    "import torch\n",
    "import gensim\n",
    "from gensim.models import Word2Vec\n"
   ],
   "metadata": {
    "pycharm": {
     "name": "#%%\n"
    },
    "colab": {
     "base_uri": "https://localhost:8080/"
    },
    "id": "EzNOaQPRBwOT",
    "outputId": "9a8f1f15-cba7-4094-ab8b-2028d19b3b75"
   }
  },
  {
   "cell_type": "markdown",
   "source": [],
   "metadata": {
    "collapsed": false,
    "id": "U3YGPZggBwOW"
   }
  },
  {
   "cell_type": "code",
   "execution_count": 62,
   "outputs": [],
   "source": [
    "df_train= pd.read_csv('/home/amber/Documents/NLP_Assignments/A2/data/TRAIN/old/labeled_10k.csv', encoding='cp1252')\n",
    "df_test=pd.read_csv('/home/amber/Documents/NLP_Assignments/A2/data/TEST/labeled_17k.csv', encoding='cp1252')"
   ],
   "metadata": {
    "pycharm": {
     "name": "#%%\n"
    },
    "id": "uRSTWslsBwOX"
   }
  },
  {
   "cell_type": "code",
   "execution_count": 63,
   "outputs": [],
   "source": [
    "# WORD-COUNT\n",
    "df_train['word_count'] = df_train['moment'].apply(lambda x: len(str(x).split()))\n"
   ],
   "metadata": {
    "collapsed": false,
    "pycharm": {
     "name": "#%%\n"
    }
   }
  },
  {
   "cell_type": "markdown",
   "source": [
    "##Data Cleaning"
   ],
   "metadata": {
    "collapsed": false
   }
  },
  {
   "cell_type": "code",
   "execution_count": 64,
   "outputs": [
    {
     "data": {
      "text/plain": "    hmid                                             moment          concepts  \\\n0  27674  I was happy when my son got 90% marks in his e...  education|family   \n1  27685          went to movies with my friends it was fun     entertainment   \n2  27691  A hot kiss with my girl friend last night made...           romance   \n3  27701  My son woke me up to a fantastic breakfast of ...       family|food   \n4  27712  My older daughter keeps patting my younger dau...            family   \n\n   agency  social   age country gender  married parenthood reflection  \\\n0       0       1  29.0     IND      m  married          y        24h   \n1       1       1  29.0     IND      m   single          y        24h   \n2       1       1  25.0     IND      m  married          y        24h   \n3       0       1    79     USA      f  widowed          y        24h   \n4       0       1    30     USA      f  married          y        24h   \n\n   word_count  \n0          12  \n1           9  \n2          12  \n3          17  \n4           9  ",
      "text/html": "<div>\n<style scoped>\n    .dataframe tbody tr th:only-of-type {\n        vertical-align: middle;\n    }\n\n    .dataframe tbody tr th {\n        vertical-align: top;\n    }\n\n    .dataframe thead th {\n        text-align: right;\n    }\n</style>\n<table border=\"1\" class=\"dataframe\">\n  <thead>\n    <tr style=\"text-align: right;\">\n      <th></th>\n      <th>hmid</th>\n      <th>moment</th>\n      <th>concepts</th>\n      <th>agency</th>\n      <th>social</th>\n      <th>age</th>\n      <th>country</th>\n      <th>gender</th>\n      <th>married</th>\n      <th>parenthood</th>\n      <th>reflection</th>\n      <th>word_count</th>\n    </tr>\n  </thead>\n  <tbody>\n    <tr>\n      <th>0</th>\n      <td>27674</td>\n      <td>I was happy when my son got 90% marks in his e...</td>\n      <td>education|family</td>\n      <td>0</td>\n      <td>1</td>\n      <td>29.0</td>\n      <td>IND</td>\n      <td>m</td>\n      <td>married</td>\n      <td>y</td>\n      <td>24h</td>\n      <td>12</td>\n    </tr>\n    <tr>\n      <th>1</th>\n      <td>27685</td>\n      <td>went to movies with my friends it was fun</td>\n      <td>entertainment</td>\n      <td>1</td>\n      <td>1</td>\n      <td>29.0</td>\n      <td>IND</td>\n      <td>m</td>\n      <td>single</td>\n      <td>y</td>\n      <td>24h</td>\n      <td>9</td>\n    </tr>\n    <tr>\n      <th>2</th>\n      <td>27691</td>\n      <td>A hot kiss with my girl friend last night made...</td>\n      <td>romance</td>\n      <td>1</td>\n      <td>1</td>\n      <td>25.0</td>\n      <td>IND</td>\n      <td>m</td>\n      <td>married</td>\n      <td>y</td>\n      <td>24h</td>\n      <td>12</td>\n    </tr>\n    <tr>\n      <th>3</th>\n      <td>27701</td>\n      <td>My son woke me up to a fantastic breakfast of ...</td>\n      <td>family|food</td>\n      <td>0</td>\n      <td>1</td>\n      <td>79</td>\n      <td>USA</td>\n      <td>f</td>\n      <td>widowed</td>\n      <td>y</td>\n      <td>24h</td>\n      <td>17</td>\n    </tr>\n    <tr>\n      <th>4</th>\n      <td>27712</td>\n      <td>My older daughter keeps patting my younger dau...</td>\n      <td>family</td>\n      <td>0</td>\n      <td>1</td>\n      <td>30</td>\n      <td>USA</td>\n      <td>f</td>\n      <td>married</td>\n      <td>y</td>\n      <td>24h</td>\n      <td>9</td>\n    </tr>\n  </tbody>\n</table>\n</div>"
     },
     "execution_count": 64,
     "metadata": {},
     "output_type": "execute_result"
    }
   ],
   "source": [
    "# Transfer the string to numeric data\n",
    "df_train['agency'] = df_train['agency'].map({'yes': 1, 'no': 0})\n",
    "df_train['social'] = df_train['social'].map({'yes': 1, 'no': 0})\n",
    "\n",
    "df_test['agency'] = df_test['agency'].map({'yes': 1, 'no': 0})\n",
    "df_test['social'] = df_test['social'].map({'yes': 1, 'no': 0})\n",
    "\n",
    "df_train.head()"
   ],
   "metadata": {
    "collapsed": false,
    "pycharm": {
     "name": "#%%\n"
    }
   }
  },
  {
   "cell_type": "code",
   "execution_count": 65,
   "outputs": [],
   "source": [
    "# convert the original data to lowercase, strip and remove punctuations\n",
    "def preprocess(text):\n",
    "    text = text.lower()\n",
    "    text=text.strip()\n",
    "    text=re.compile('<.*?>').sub('', text)\n",
    "    text = re.compile('[%s]' % re.escape(string.punctuation)).sub(' ', text)\n",
    "    text = re.sub('\\s+', ' ', text)\n",
    "    text = re.sub(r'\\[[0-9]*\\]',' ',text)\n",
    "    text=re.sub(r'[^\\w\\s]', '', str(text).lower().strip())\n",
    "    text = re.sub(r'\\d',' ',text)\n",
    "    text = re.sub(r'\\s+',' ',text)\n",
    "    return text\n",
    "\n",
    "# Lexicon - based\n",
    "# STOPWORD REMOVAL\n",
    "def stopword(string):\n",
    "    a= [i for i in string.split() if i not in stopwords.words('english')]\n",
    "    return ' '.join(a)#LEMMATIZATION\n",
    "# Initialize the lemmatizer\n",
    "\n",
    "# #2. STEMMING\n",
    "# # Initialize the stemmer\n",
    "# snow = SnowballStemmer('english')\n",
    "# def stemming(string):\n",
    "#     a=[snow.stem(i) for i in word_tokenize(string) ]\n",
    "#     return \" \".join(a)\n",
    "\n",
    "# 3.\n",
    "wl = WordNetLemmatizer()\n",
    "# This is a helper function to map NTLK position tags\n",
    "def get_wordnet_pos(tag):\n",
    "    if tag.startswith('J'):\n",
    "        return wordnet.ADJ\n",
    "    elif tag.startswith('V'):\n",
    "        return wordnet.VERB\n",
    "    elif tag.startswith('N'):\n",
    "        return wordnet.NOUN\n",
    "    elif tag.startswith('R'):\n",
    "        return wordnet.ADV\n",
    "    else:\n",
    "        return wordnet.NOUN# Tokenize the sentence\n",
    "# Tokenize the sentence\n",
    "def lemmatizer(string):\n",
    "    word_pos_tags = nltk.pos_tag(word_tokenize(string)) # Get position tags\n",
    "    a=[wl.lemmatize(tag[0], get_wordnet_pos(tag[1])) for idx, tag in enumerate(word_pos_tags)] # Map the position tag and lemmatize the word/token\n",
    "    return \" \".join(a)"
   ],
   "metadata": {
    "pycharm": {
     "name": "#%%\n"
    },
    "id": "xGvMVF2fBwOo"
   }
  },
  {
   "cell_type": "code",
   "execution_count": 66,
   "outputs": [
    {
     "data": {
      "text/plain": "   hmid                                             moment reflection age  \\\n0     0  I was able to spend the day with my fiance sho...        24h  28   \n1     1                    I was able to play with my cat.        24h  28   \n2     2   I was able to clean my room and gold my laundry.        24h  28   \n3     3  I spend the day at a party on the beach and I ...        24h  24   \n4     4  My cat greeting me when I got home from work -...        24h  24   \n\n  country gender                     duration married parenthood  \\\n0     USA      m  all_day_im_still_feeling_it  single          n   \n1     USA      m            at_least_one_hour  single          n   \n2     USA      m            at_least_one_hour  single          n   \n3     USA      m                   half_a_day  single          n   \n4     USA      m                   half_a_day  single          n   \n\n                  concepts  agency  social  \\\n0  shopping|family|romance       1       0   \n1                  animals       1       0   \n2                        0       1       0   \n3   vacation|party|weather       1       1   \n4                  animals       0       0   \n\n                                          clean_text  \n0           able spend day fiance shopping yesterday  \n1                                      able play cat  \n2                       able clean room gold laundry  \n3  spend day party beach happy see friend miss be...  \n4          cat greet get home work sweet cute loving  ",
      "text/html": "<div>\n<style scoped>\n    .dataframe tbody tr th:only-of-type {\n        vertical-align: middle;\n    }\n\n    .dataframe tbody tr th {\n        vertical-align: top;\n    }\n\n    .dataframe thead th {\n        text-align: right;\n    }\n</style>\n<table border=\"1\" class=\"dataframe\">\n  <thead>\n    <tr style=\"text-align: right;\">\n      <th></th>\n      <th>hmid</th>\n      <th>moment</th>\n      <th>reflection</th>\n      <th>age</th>\n      <th>country</th>\n      <th>gender</th>\n      <th>duration</th>\n      <th>married</th>\n      <th>parenthood</th>\n      <th>concepts</th>\n      <th>agency</th>\n      <th>social</th>\n      <th>clean_text</th>\n    </tr>\n  </thead>\n  <tbody>\n    <tr>\n      <th>0</th>\n      <td>0</td>\n      <td>I was able to spend the day with my fiance sho...</td>\n      <td>24h</td>\n      <td>28</td>\n      <td>USA</td>\n      <td>m</td>\n      <td>all_day_im_still_feeling_it</td>\n      <td>single</td>\n      <td>n</td>\n      <td>shopping|family|romance</td>\n      <td>1</td>\n      <td>0</td>\n      <td>able spend day fiance shopping yesterday</td>\n    </tr>\n    <tr>\n      <th>1</th>\n      <td>1</td>\n      <td>I was able to play with my cat.</td>\n      <td>24h</td>\n      <td>28</td>\n      <td>USA</td>\n      <td>m</td>\n      <td>at_least_one_hour</td>\n      <td>single</td>\n      <td>n</td>\n      <td>animals</td>\n      <td>1</td>\n      <td>0</td>\n      <td>able play cat</td>\n    </tr>\n    <tr>\n      <th>2</th>\n      <td>2</td>\n      <td>I was able to clean my room and gold my laundry.</td>\n      <td>24h</td>\n      <td>28</td>\n      <td>USA</td>\n      <td>m</td>\n      <td>at_least_one_hour</td>\n      <td>single</td>\n      <td>n</td>\n      <td>0</td>\n      <td>1</td>\n      <td>0</td>\n      <td>able clean room gold laundry</td>\n    </tr>\n    <tr>\n      <th>3</th>\n      <td>3</td>\n      <td>I spend the day at a party on the beach and I ...</td>\n      <td>24h</td>\n      <td>24</td>\n      <td>USA</td>\n      <td>m</td>\n      <td>half_a_day</td>\n      <td>single</td>\n      <td>n</td>\n      <td>vacation|party|weather</td>\n      <td>1</td>\n      <td>1</td>\n      <td>spend day party beach happy see friend miss be...</td>\n    </tr>\n    <tr>\n      <th>4</th>\n      <td>4</td>\n      <td>My cat greeting me when I got home from work -...</td>\n      <td>24h</td>\n      <td>24</td>\n      <td>USA</td>\n      <td>m</td>\n      <td>half_a_day</td>\n      <td>single</td>\n      <td>n</td>\n      <td>animals</td>\n      <td>0</td>\n      <td>0</td>\n      <td>cat greet get home work sweet cute loving</td>\n    </tr>\n  </tbody>\n</table>\n</div>"
     },
     "execution_count": 66,
     "metadata": {},
     "output_type": "execute_result"
    }
   ],
   "source": [
    "def finalpreprocess(string):\n",
    "    return lemmatizer(stopword(preprocess(string)))\n",
    "df_train['clean_text'] = df_train['moment'].apply(lambda x: finalpreprocess(x))\n",
    "df_train.head()\n",
    "\n",
    "df_test['clean_text'] = df_test['moment'].apply(lambda x: finalpreprocess(x))\n",
    "df_test.head()"
   ],
   "metadata": {
    "pycharm": {
     "name": "#%%\n"
    },
    "id": "RPOtTIucBwOp",
    "outputId": "73c7d32a-9ac6-49ea-efd2-a6b84fa71fb1",
    "colab": {
     "base_uri": "https://localhost:8080/",
     "height": 719
    }
   }
  },
  {
   "cell_type": "markdown",
   "source": [],
   "metadata": {
    "collapsed": false
   }
  },
  {
   "cell_type": "markdown",
   "source": [
    "TRAIN TEST SPLITTING OF LABELLED DATASET"
   ],
   "metadata": {
    "collapsed": false
   }
  },
  {
   "cell_type": "code",
   "execution_count": 67,
   "outputs": [],
   "source": [
    "#SPLITTING THE TRAINING DATASET INTO TRAINING AND VALIDATION\n",
    "\n",
    "# Input: \"reviewText\", \"rating\" and \"time\"\n",
    "# Target: \"log_votes\"\n",
    "#X_train, X_val, y_train, y_val = train_test_split(df_train[\"clean_text\"], df_train[\"agency\"],test_size=0.2,shuffle=True)\n",
    "\n",
    "X_train, X_val, y_train, y_val = train_test_split(df_train[\"clean_text\"], df_train[\"agency\"],test_size=0.2,shuffle=True)\n",
    "X_train_s, X_val_s, y_train_s, y_val_s = train_test_split(df_train[\"clean_text\"], df_train[\"social\"],test_size=0.2,shuffle=True)\n",
    "X_train_m, X_val_m, y_train_m, y_val_m = train_test_split(df_train[\"clean_text\"],pd.DataFrame({'agency':df_train[\"agency\"],'social':df_train[\"social\"]}),test_size=0.2,shuffle=True)\n",
    "# print(y_train_s)\n",
    "#print(len(X_train), len(y_train))\n"
   ],
   "metadata": {
    "pycharm": {
     "name": "#%%\n"
    },
    "id": "HKHjIB05BwOs"
   }
  },
  {
   "cell_type": "markdown",
   "source": [
    "3). Logistic Regression with Word2Vec"
   ],
   "metadata": {
    "collapsed": false,
    "pycharm": {
     "name": "#%% md\n"
    },
    "id": "1FmdwhShBwOv"
   }
  },
  {
   "cell_type": "markdown",
   "source": [
    "Tokenized with Bert"
   ],
   "metadata": {
    "collapsed": false,
    "pycharm": {
     "name": "#%% md\n"
    },
    "id": "AsbEQjVkBwOw"
   }
  },
  {
   "cell_type": "code",
   "execution_count": 68,
   "outputs": [],
   "source": [
    "from transformers import BertTokenizer\n",
    "from torch.utils.data import TensorDataset, DataLoader, RandomSampler, SequentialSampler\n",
    "tokenizer = BertTokenizer.from_pretrained('bert-base-uncased', do_lower_case=True, model_max_length=512)\n"
   ],
   "metadata": {
    "pycharm": {
     "name": "#%%\n"
    },
    "id": "cJxf5V8EBwOx"
   }
  },
  {
   "cell_type": "code",
   "execution_count": 69,
   "outputs": [
    {
     "name": "stdout",
     "output_type": "stream",
     "text": [
      "30522\n",
      "Max length:  155\n"
     ]
    }
   ],
   "source": [
    "# Concatenate train data and test data\n",
    "all_text = np.concatenate([df_train.moment.values, df_test.moment.values])\n",
    "# Encode our concatenated data\n",
    "encoded_text = [tokenizer.encode(i, add_special_tokens=True) for i in all_text]\n",
    "#print(encoded_text)\n",
    "embed_vocab = {}\n",
    "for word in tokenizer.vocab.keys():\n",
    "    embed_vocab[word] = True\n",
    "print(len(embed_vocab))\n",
    "# Find the maximum length\n",
    "max_len = max([len(i) for i in encoded_text])\n",
    "print('Max length: ', max_len)"
   ],
   "metadata": {
    "pycharm": {
     "name": "#%%\n"
    },
    "id": "cDfSQ6qQBwOx",
    "outputId": "ebb5f830-602c-4f3e-950c-4d0726d12fdd",
    "colab": {
     "base_uri": "https://localhost:8080/"
    }
   }
  },
  {
   "cell_type": "code",
   "execution_count": 70,
   "outputs": [],
   "source": [
    "text = df_train['clean_text']\n",
    "text_words = []\n",
    "text_vocab = {}\n",
    "for string in text:\n",
    "    # Don't include words that can't actually be mapped to a vector using embeddings\n",
    "    words = string.split()\n",
    "    filtered_words = []\n",
    "    for word in words:\n",
    "        text_vocab[word] = True\n",
    "        if embed_vocab.get(word) is not None:\n",
    "            filtered_words.append(word)\n",
    "    text_words.append(filtered_words)"
   ],
   "metadata": {
    "collapsed": false,
    "pycharm": {
     "name": "#%%\n"
    }
   }
  },
  {
   "cell_type": "code",
   "execution_count": 71,
   "outputs": [],
   "source": [
    "# print(text_words)"
   ],
   "metadata": {
    "collapsed": false,
    "pycharm": {
     "name": "#%%\n"
    }
   }
  },
  {
   "cell_type": "code",
   "execution_count": 72,
   "outputs": [
    {
     "name": "stdout",
     "output_type": "stream",
     "text": [
      "4544 words were found\n",
      "1391 words weren't found\n"
     ]
    }
   ],
   "source": [
    "def vocab_coverage(compared, base):  #, k):\n",
    "    hit, miss = 0, 0\n",
    "    for word in compared:\n",
    "        if base.get(word) is not None:\n",
    "            hit += 1\n",
    "        else:\n",
    "            miss += 1\n",
    "            #base[word] = np.random.uniform(-0.25, 0.25, k)\n",
    "    print(\"{} words were found\".format(hit))\n",
    "    print(\"{} words weren't found\".format(miss))\n",
    "    #print(\"new length of {} word_vectors\".format(len(embed_vocab)))\n",
    "\n",
    "vocab_coverage(text_vocab, embed_vocab)  # , 300)"
   ],
   "metadata": {
    "collapsed": false,
    "pycharm": {
     "name": "#%%\n"
    }
   }
  },
  {
   "cell_type": "code",
   "execution_count": 73,
   "outputs": [],
   "source": [
    "def preprocessing_data(data):\n",
    "    \"\"\"Perform required preprocessing steps for pretrained BERT.\n",
    "    @param    data (np.array): Array of texts to be processed.\n",
    "    @return   input_ids (torch.Tensor): Tensor of token ids to be fed to a model.\n",
    "    @return   attention_masks (torch.Tensor): Tensor of indices specifying which\n",
    "                  tokens should be attended to by the model.\n",
    "    \"\"\"\n",
    "    # Create empty lists to store outputs\n",
    "    input_ids = []\n",
    "    MAX_LEN = 128\n",
    "\n",
    "    # For every sentence...\n",
    "    for i in data:\n",
    "        # `encode_plus` will:\n",
    "        #    (1) Tokenize the sentence\n",
    "        #    (2) Add the `[CLS]` and `[SEP]` token to the start and end\n",
    "        #    (3) Truncate/Pad sentence to max length\n",
    "        #    (4) Map tokens to their IDs\n",
    "        #    (5) Create attention mask\n",
    "        #    (6) Return a dictionary of outputs\n",
    "        encoded_sent = tokenizer.encode_plus(\n",
    "            text = i ,  # Preprocess sentence\n",
    "            add_special_tokens=False,        # Add `[CLS]` and `[SEP]`\n",
    "            max_length=MAX_LEN,                  # Max length to truncate/pad\n",
    "            pad_to_max_length=True,         # Pad sentence to max length\n",
    "            #return_tensors='pt',           # Return PyTorch tensor\n",
    "            return_attention_mask=False      # Return attention mask\n",
    "            )\n",
    "\n",
    "        # Add the outputs to the lists\n",
    "        input_ids.append(encoded_sent.get('input_ids'))\n",
    "\n",
    "    # # Convert lists to tensors\n",
    "    # input_ids = torch.tensor(input_ids)\n",
    "    # attention_masks = torch.tensor(attention_masks)\n",
    "\n",
    "    return input_ids\n",
    "\n"
   ],
   "metadata": {
    "pycharm": {
     "name": "#%%\n"
    },
    "id": "8xlJ2nf3BwOy"
   }
  },
  {
   "cell_type": "markdown",
   "source": [],
   "metadata": {
    "collapsed": false,
    "id": "dHEjc6hgBwOy"
   }
  },
  {
   "cell_type": "code",
   "execution_count": 74,
   "outputs": [],
   "source": [
    "#prepare input under agency/sociality/combined class\n",
    "train_inputs = preprocessing_data(X_train)\n",
    "val_inputs = preprocessing_data(X_val)\n",
    "\n",
    "train_inputs_s = preprocessing_data(X_train_s)\n",
    "val_inputs_s = preprocessing_data(X_val_s)\n",
    "\n",
    "train_inputs_m = preprocessing_data(X_train_m)\n",
    "val_inputs_m = preprocessing_data(X_val_m)\n",
    "\n",
    "\n"
   ],
   "metadata": {
    "pycharm": {
     "name": "#%%\n"
    },
    "id": "LzMzVcKRBwOy",
    "colab": {
     "base_uri": "https://localhost:8080/"
    },
    "outputId": "17b828b1-5644-442f-e40e-0a9d2d41165a"
   }
  },
  {
   "cell_type": "code",
   "execution_count": 75,
   "outputs": [],
   "source": [
    "test_inputs = preprocessing_data(df_test['clean_text'])"
   ],
   "metadata": {
    "collapsed": false,
    "pycharm": {
     "name": "#%%\n"
    }
   }
  },
  {
   "cell_type": "markdown",
   "source": [
    "Basic classifiers under Bert tokenizer"
   ],
   "metadata": {
    "collapsed": false,
    "pycharm": {
     "name": "#%% md\n"
    },
    "id": "Pg2XMPgCBwOz"
   }
  },
  {
   "cell_type": "code",
   "execution_count": 76,
   "outputs": [
    {
     "name": "stdout",
     "output_type": "stream",
     "text": [
      "<class 'pandas.core.series.Series'>\n",
      "<torch.utils.data.dataset.TensorDataset object at 0x7feb90c43880>\n"
     ]
    }
   ],
   "source": [
    "import torch\n",
    "from torch.utils.data import TensorDataset, DataLoader\n",
    "\n",
    "batch_size = 32\n",
    "print(type(y_train))\n",
    "\n",
    "datasets = {\n",
    "    'train_a': TensorDataset(torch.tensor(train_inputs), torch.tensor(y_train.values)),\n",
    "    'val_a': TensorDataset(torch.tensor(val_inputs),  torch.tensor(y_val.values)),\n",
    "    'train_s': TensorDataset(torch.tensor(train_inputs_s),  torch.tensor(y_train_s.values)),\n",
    "    'val_s': TensorDataset(torch.tensor(val_inputs_s),  torch.tensor(y_val_s.values)),\n",
    "    'test': TensorDataset(torch.tensor(test_inputs),  torch.tensor(df_test['social'].values)),\n",
    "\n",
    "}\n",
    "print(datasets['train_a'])\n",
    "dataloaders = {\n",
    "    'train_a': DataLoader(datasets['train_a'], batch_size=batch_size),\n",
    "    'val_a': DataLoader(datasets['val_a'], batch_size=batch_size),\n",
    "    'train_s': DataLoader(datasets['train_s'], batch_size=batch_size),\n",
    "    'val_s': DataLoader(datasets['val_s'], batch_size=batch_size),\n",
    "    'test': DataLoader(datasets['test'], batch_size=batch_size),\n",
    "}"
   ],
   "metadata": {
    "pycharm": {
     "name": "#%%\n"
    },
    "id": "gNeS39X_BwO0"
   }
  },
  {
   "cell_type": "markdown",
   "source": [
    "2. [30 marks] Train an advanced classifier based on deep learning, such as fine-tuning BERT. You can try predicting both labels independently, or in a multi-task manner. Use part of the training data for validation, and keep aside the test data when choosing the best model.\n"
   ],
   "metadata": {
    "collapsed": false,
    "pycharm": {
     "name": "#%% md\n"
    },
    "id": "cE1MUmYaBwO1"
   }
  },
  {
   "cell_type": "markdown",
   "source": [],
   "metadata": {
    "collapsed": false,
    "id": "l8q6XsqaBwO2"
   }
  },
  {
   "cell_type": "code",
   "execution_count": 77,
   "outputs": [
    {
     "name": "stdout",
     "output_type": "stream",
     "text": [
      "running on the GPU\n"
     ]
    }
   ],
   "source": [
    "\n",
    "if torch.cuda.is_available():\n",
    "    device = torch.device(\"cuda:0\")\n",
    "    print(\"running on the GPU\")\n",
    "else:\n",
    "    device = torch.device(\"cpu\")\n",
    "    print(\"running on the CPU\")\n"
   ],
   "metadata": {
    "pycharm": {
     "name": "#%%\n"
    },
    "id": "O6sI2YXABwO2",
    "outputId": "91e14c35-1a01-403a-96b2-e1a216b9c60a",
    "colab": {
     "base_uri": "https://localhost:8080/"
    }
   }
  },
  {
   "cell_type": "code",
   "execution_count": 78,
   "outputs": [],
   "source": [
    "import torch\n",
    "import torch.nn as nn\n",
    "import torch.nn.functional as F\n",
    "\n",
    "class CNN(nn.Module):\n",
    "    \"\"\"An 1D Convulational Neural Network for Sentence Classification.\"\"\"\n",
    "    def __init__(self,\n",
    "                 pretrained_embedding=None,\n",
    "                 freeze_embedding=False,\n",
    "                 vocab_size=None,\n",
    "                 embed_dim=300,\n",
    "                 filter_sizes=[3, 4, 5],\n",
    "                 num_filters=[100, 100, 100],\n",
    "                 num_classes=2,\n",
    "                 dropout=0.5):\n",
    "        \"\"\"\n",
    "        The constructor for CNN_NLP class.\n",
    "\n",
    "        Args:\n",
    "            pretrained_embedding (torch.Tensor): Pretrained embeddings with\n",
    "                shape (vocab_size, embed_dim)\n",
    "            freeze_embedding (bool): Set to False to fine-tune pretraiend\n",
    "                vectors. Default: False\n",
    "            vocab_size (int): Need to be specified when not pretrained word\n",
    "                embeddings are not used.\n",
    "            embed_dim (int): Dimension of word vectors. Need to be specified\n",
    "                when pretrained word embeddings are not used. Default: 300\n",
    "            filter_sizes (List[int]): List of filter sizes. Default: [3, 4, 5]\n",
    "            num_filters (List[int]): List of number of filters, has the same\n",
    "                length as `filter_sizes`. Default: [100, 100, 100]\n",
    "            n_classes (int): Number of classes. Default: 2\n",
    "            dropout (float): Dropout rate. Default: 0.5\n",
    "        \"\"\"\n",
    "\n",
    "        super(CNN, self).__init__()\n",
    "        # Embedding layer\n",
    "        if pretrained_embedding is not None:\n",
    "            self.vocab_size, self.embed_dim = pretrained_embedding.shape\n",
    "            self.embedding = nn.Embedding.from_pretrained(pretrained_embedding,\n",
    "                                                          freeze=freeze_embedding)\n",
    "        else:\n",
    "            self.embed_dim = embed_dim\n",
    "            self.embedding = nn.Embedding(num_embeddings=vocab_size,\n",
    "                                          embedding_dim=self.embed_dim,\n",
    "                                          padding_idx=0,\n",
    "                                          max_norm=5.0)\n",
    "        # Conv Network\n",
    "        self.conv1d_list = nn.ModuleList([\n",
    "            nn.Conv1d(in_channels=self.embed_dim,\n",
    "                      out_channels=num_filters[i],\n",
    "                      kernel_size=filter_sizes[i])\n",
    "            for i in range(len(filter_sizes))\n",
    "        ])\n",
    "        # Fully-connected layer and Dropout\n",
    "        self.fc = nn.Linear(np.sum(num_filters), num_classes)\n",
    "        self.dropout = nn.Dropout(p=dropout)\n",
    "\n",
    "    def forward(self, input_ids):\n",
    "        \"\"\"Perform a forward pass through the network.\n",
    "\n",
    "        Args:\n",
    "            input_ids (torch.Tensor): A tensor of token ids with shape\n",
    "                (batch_size, max_sent_length)\n",
    "\n",
    "        Returns:\n",
    "            logits (torch.Tensor): Output logits with shape (batch_size,\n",
    "                n_classes)\n",
    "        \"\"\"\n",
    "\n",
    "        # Get embeddings from `input_ids`. Output shape: (b, max_len, embed_dim)\n",
    "        x_embed = self.embedding(input_ids).float()\n",
    "\n",
    "        # Permute `x_embed` to match input shape requirement of `nn.Conv1d`.\n",
    "        # Output shape: (b, embed_dim, max_len)\n",
    "        x_reshaped = x_embed.permute(0, 2, 1)\n",
    "\n",
    "        # Apply CNN and ReLU. Output shape: (b, num_filters[i], L_out)\n",
    "        x_conv_list = [F.relu(conv1d(x_reshaped)) for conv1d in self.conv1d_list]\n",
    "\n",
    "        # Max pooling. Output shape: (b, num_filters[i], 1)\n",
    "        x_pool_list = [F.max_pool1d(x_conv, kernel_size=x_conv.shape[2])\n",
    "            for x_conv in x_conv_list]\n",
    "\n",
    "        # Concatenate x_pool_list to feed the fully connected layer.\n",
    "        # Output shape: (b, sum(num_filters))\n",
    "        x_fc = torch.cat([x_pool.squeeze(dim=2) for x_pool in x_pool_list],\n",
    "                         dim=1)\n",
    "\n",
    "        # Compute logits. Output shape: (b, n_classes)\n",
    "        logits = self.fc(self.dropout(x_fc))\n",
    "\n",
    "        return logits\n"
   ],
   "metadata": {
    "pycharm": {
     "name": "#%%\n"
    },
    "id": "Ch4CEVv6BwO4"
   }
  },
  {
   "cell_type": "code",
   "execution_count": 79,
   "outputs": [],
   "source": [
    "import torch.optim as optim\n",
    "from transformers import AdamW\n",
    "def initilize_model(pretrained_embedding=None,\n",
    "                    freeze_embedding=False,\n",
    "                    vocab_size=None,\n",
    "                    embed_dim=300,\n",
    "                    filter_sizes=[3, 4, 5],\n",
    "                    num_filters=[100, 100, 100],\n",
    "                    num_classes=2,\n",
    "                    dropout=0.5,\n",
    "                    learning_rate=5e-5):\n",
    "    \"\"\"Instantiate a CNN model and an optimizer.\"\"\"\n",
    "\n",
    "    assert (len(filter_sizes) == len(num_filters)), \"filter_sizes and \\\n",
    "    num_filters need to be of the same length.\"\n",
    "\n",
    "    # Instantiate CNN model\n",
    "    cnn_model = CNN(pretrained_embedding=pretrained_embedding,\n",
    "                        freeze_embedding=freeze_embedding,\n",
    "                        vocab_size=vocab_size,\n",
    "                        embed_dim=embed_dim,\n",
    "                        filter_sizes=filter_sizes,\n",
    "                        num_filters=num_filters,\n",
    "                        num_classes=2,\n",
    "                        dropout=0.1)\n",
    "\n",
    "    # Send model to `device` (GPU/CPU)\n",
    "    cnn_model.to(device)\n",
    "    optimizer = AdamW(cnn_model.parameters(),\n",
    "                      lr=5e-5,    # Default learning rate\n",
    "                      eps=1e-8    # Default epsilon value\n",
    "                      )\n",
    "    # Instantiate Adadelta optimizer\n",
    "    # optimizer = optim.Adadelta(cnn_model.parameters(),\n",
    "    #                            lr=learning_rate,\n",
    "    #                            rho=0.95)\n",
    "\n",
    "    return cnn_model, optimizer\n"
   ],
   "metadata": {
    "collapsed": false,
    "pycharm": {
     "name": "#%%\n"
    }
   }
  },
  {
   "cell_type": "code",
   "execution_count": 80,
   "outputs": [],
   "source": [
    "import random\n",
    "import time\n",
    "\n",
    "# Specify loss function\n",
    "loss_fn = nn.CrossEntropyLoss()\n",
    "\n",
    "def set_seed(seed_value=42):\n",
    "    \"\"\"Set seed for reproducibility.\"\"\"\n",
    "\n",
    "    random.seed(seed_value)\n",
    "    np.random.seed(seed_value)\n",
    "    torch.manual_seed(seed_value)\n",
    "    torch.cuda.manual_seed_all(seed_value)\n",
    "\n",
    "def train(model, optimizer, train_dataloader, val_dataloader=None, epochs=10):\n",
    "    \"\"\"Train the CNN model.\"\"\"\n",
    "\n",
    "    # Tracking best validation accuracy\n",
    "    best_accuracy = 0\n",
    "\n",
    "    # Start training loop\n",
    "    print(\"Start training...\\n\")\n",
    "    print(f\"{'Epoch':^7} | {'Train Loss':^12} | {'Val Loss':^10} | {'Val Acc':^9} | {'Elapsed':^9}\")\n",
    "    print(\"-\"*60)\n",
    "\n",
    "    for epoch_i in range(epochs):\n",
    "        # =======================================\n",
    "        #               Training\n",
    "        # =======================================\n",
    "\n",
    "        t0_epoch = time.time()\n",
    "        total_loss = 0\n",
    "\n",
    "        model.train()\n",
    "\n",
    "        for step, batch in enumerate(train_dataloader):\n",
    "            # Load batch to GPU\n",
    "            b_input_ids, b_labels = tuple(t.to(device) for t in batch)\n",
    "\n",
    "            # Zero out any previously calculated gradients\n",
    "            model.zero_grad()\n",
    "\n",
    "            # Perform a forward pass. This will return logits.\n",
    "            logits = model(b_input_ids)\n",
    "\n",
    "            # Compute loss and accumulate the loss values\n",
    "            loss = loss_fn(logits, b_labels)\n",
    "            total_loss += loss.item()\n",
    "\n",
    "            # Perform a backward pass to calculate gradients\n",
    "            loss.backward()\n",
    "\n",
    "            # Update parameters\n",
    "            optimizer.step()\n",
    "\n",
    "        # Calculate the average loss over the entire training data\n",
    "        avg_train_loss = total_loss / len(train_dataloader)\n",
    "\n",
    "        # =======================================\n",
    "        #               Evaluation\n",
    "        # =======================================\n",
    "        if val_dataloader is not None:\n",
    "            val_loss, val_accuracy = evaluate(model, val_dataloader)\n",
    "\n",
    "            # Track the best accuracy\n",
    "            if val_accuracy > best_accuracy:\n",
    "                best_accuracy = val_accuracy\n",
    "\n",
    "            time_elapsed = time.time() - t0_epoch\n",
    "            print(f\"{epoch_i + 1:^7} | {avg_train_loss:^12.6f} | {val_loss:^10.6f} | {val_accuracy:^9.2f} | {time_elapsed:^9.2f}\")\n",
    "\n",
    "    print(\"\\n\")\n",
    "    print(f\"Training complete! Best accuracy: {best_accuracy:.2f}%.\")\n",
    "\n",
    "def evaluate(model, val_dataloader):\n",
    "    \"\"\"After the completion of each training epoch, measure the model's\n",
    "    performance on our validation set.\n",
    "    \"\"\"\n",
    "    # Put the model into the evaluation mode. The dropout layers are disabled\n",
    "    # during the test time.\n",
    "    model.eval()\n",
    "\n",
    "    # Tracking variables\n",
    "    val_accuracy = []\n",
    "    val_loss = []\n",
    "\n",
    "    # For each batch in our validation set...\n",
    "    for batch in val_dataloader:\n",
    "        # Load batch to GPU\n",
    "        b_input_ids, b_labels = tuple(t.to(device) for t in batch)\n",
    "\n",
    "        # Compute logits\n",
    "        with torch.no_grad():\n",
    "            logits = model(b_input_ids)\n",
    "\n",
    "        # Compute loss\n",
    "        loss = loss_fn(logits, b_labels)\n",
    "        val_loss.append(loss.item())\n",
    "\n",
    "        # Get the predictions\n",
    "        preds = torch.argmax(logits, dim=1).flatten()\n",
    "\n",
    "        # Calculate the accuracy rate\n",
    "        accuracy = (preds == b_labels).cpu().numpy().mean() * 100\n",
    "        val_accuracy.append(accuracy)\n",
    "\n",
    "    # Compute the average accuracy and loss over the validation set.\n",
    "    val_loss = np.mean(val_loss)\n",
    "    val_accuracy = np.mean(val_accuracy)\n",
    "\n",
    "    return val_loss, val_accuracy\n"
   ],
   "metadata": {
    "collapsed": false,
    "pycharm": {
     "name": "#%%\n"
    }
   }
  },
  {
   "cell_type": "code",
   "execution_count": 81,
   "outputs": [
    {
     "name": "stdout",
     "output_type": "stream",
     "text": [
      "Start training...\n",
      "\n",
      " Epoch  |  Train Loss  |  Val Loss  |  Val Acc  |  Elapsed \n",
      "------------------------------------------------------------\n",
      "   1    |   0.593139   |  0.564251  |   73.34   |   1.58   \n",
      "   2    |   0.532069   |  0.534442  |   73.86   |   1.54   \n",
      "   3    |   0.490541   |  0.505256  |   75.38   |   1.57   \n",
      "   4    |   0.449413   |  0.479815  |   77.46   |   1.54   \n",
      "   5    |   0.410737   |  0.461056  |   78.36   |   1.59   \n",
      "   6    |   0.375050   |  0.448150  |   79.40   |   1.56   \n",
      "   7    |   0.343196   |  0.439217  |   79.59   |   1.57   \n",
      "   8    |   0.314619   |  0.433326  |   79.83   |   1.55   \n",
      "   9    |   0.286759   |  0.429180  |   79.64   |   1.55   \n",
      "  10    |   0.260573   |  0.426809  |   79.73   |   1.60   \n",
      "  11    |   0.236882   |  0.425556  |   79.78   |   1.55   \n",
      "  12    |   0.214899   |  0.425236  |   80.07   |   1.57   \n",
      "  13    |   0.193307   |  0.426425  |   80.35   |   1.56   \n",
      "  14    |   0.175016   |  0.427790  |   80.30   |   1.58   \n",
      "  15    |   0.157038   |  0.430266  |   80.30   |   1.58   \n",
      "  16    |   0.141881   |  0.433160  |   80.45   |   1.56   \n",
      "  17    |   0.127545   |  0.436410  |   80.26   |   1.58   \n",
      "  18    |   0.114437   |  0.440588  |   80.26   |   1.56   \n",
      "  19    |   0.102967   |  0.445691  |   80.26   |   1.61   \n",
      "  20    |   0.091539   |  0.451033  |   80.11   |   1.56   \n",
      "\n",
      "\n",
      "Training complete! Best accuracy: 80.45%.\n"
     ]
    }
   ],
   "source": [
    "# CNN training\n",
    "set_seed(42)\n",
    "cnn, optimizer = initilize_model(vocab_size=len(embed_vocab),\n",
    "                                      embed_dim=300,\n",
    "                                      learning_rate=0.001,\n",
    "                                      dropout=0.1)\n",
    "train(cnn, optimizer, dataloaders['train_a'], dataloaders['val_a'], epochs=20)\n"
   ],
   "metadata": {
    "collapsed": false,
    "pycharm": {
     "name": "#%%\n"
    }
   }
  },
  {
   "cell_type": "code",
   "execution_count": 82,
   "outputs": [],
   "source": [
    "# torch.cuda.memory_stats()"
   ],
   "metadata": {
    "collapsed": false,
    "pycharm": {
     "name": "#%%\n"
    }
   }
  },
  {
   "cell_type": "markdown",
   "source": [],
   "metadata": {
    "collapsed": false,
    "id": "Xdyv6DLdBwO5"
   }
  },
  {
   "cell_type": "code",
   "execution_count": 83,
   "outputs": [],
   "source": [
    "import torch.nn.functional as F\n",
    "\n",
    "def predict(model, test_dataloader):\n",
    "    \"\"\"Perform a forward pass on the trained BERT model to predict probabilities\n",
    "    on the test set.\n",
    "    \"\"\"\n",
    "    # Put the model into the evaluation mode. The dropout layers are disabled during\n",
    "    # the test time.\n",
    "    model.eval()\n",
    "\n",
    "    all_logits = []\n",
    "\n",
    "\n",
    "    # For each batch in our test set...\n",
    "    for batch in test_dataloader:\n",
    "        # Load batch to GPU\n",
    "        b_input_ids, labels = tuple(t.to(device) for t in batch)\n",
    "\n",
    "        # Compute logits\n",
    "        with torch.no_grad():\n",
    "            logits = model(b_input_ids)\n",
    "        all_logits.append(logits)\n",
    "\n",
    "    # Concatenate logits from each batch\n",
    "    all_logits = torch.cat(all_logits, dim=0)\n",
    "\n",
    "    # Apply softmax to calculate probabilities\n",
    "    probs = F.softmax(all_logits, dim=1).cpu().numpy()\n",
    "\n",
    "    return probs"
   ],
   "metadata": {
    "collapsed": false,
    "pycharm": {
     "name": "#%%\n"
    }
   }
  },
  {
   "cell_type": "code",
   "execution_count": 84,
   "outputs": [],
   "source": [
    "from sklearn.metrics import accuracy_score, roc_curve, auc\n",
    "\n",
    "def evaluate_roc(probs, y_true):\n",
    "    \"\"\"\n",
    "    - Print AUC and accuracy on the test set\n",
    "    - Plot ROC\n",
    "    @params    probs (np.array): an array of predicted probabilities with shape (len(y_true), 2)\n",
    "    @params    y_true (np.array): an array of the true values with shape (len(y_true),)\n",
    "    \"\"\"\n",
    "    preds = probs[:, 1]\n",
    "    fpr, tpr, threshold = roc_curve(y_true, preds)\n",
    "    roc_auc = auc(fpr, tpr)\n",
    "    print(f'AUC: {roc_auc:.4f}')\n",
    "\n",
    "    # Get accuracy over the test set\n",
    "    y_pred = np.where(preds >= 0.5, 1, 0)\n",
    "    accuracy = accuracy_score(y_true, y_pred)\n",
    "    print(f'Accuracy: {accuracy*100:.2f}%')\n",
    "\n",
    "    # Plot ROC AUC\n",
    "    plt.title('Receiver Operating Characteristic')\n",
    "    plt.plot(fpr, tpr, 'b', label = 'AUC = %0.2f' % roc_auc)\n",
    "    plt.legend(loc = 'lower right')\n",
    "    plt.plot([0, 1], [0, 1],'r--')\n",
    "    plt.xlim([0, 1])\n",
    "    plt.ylim([0, 1])\n",
    "    plt.ylabel('True Positive Rate')\n",
    "    plt.xlabel('False Positive Rate')\n",
    "    plt.show()"
   ],
   "metadata": {
    "collapsed": false,
    "pycharm": {
     "name": "#%%\n"
    }
   }
  },
  {
   "cell_type": "code",
   "execution_count": 85,
   "outputs": [],
   "source": [
    "torch.cuda.empty_cache()"
   ],
   "metadata": {
    "collapsed": false,
    "pycharm": {
     "name": "#%%\n"
    }
   }
  },
  {
   "cell_type": "code",
   "execution_count": 86,
   "outputs": [
    {
     "name": "stdout",
     "output_type": "stream",
     "text": [
      "AUC: 0.8399\n",
      "Accuracy: 80.11%\n"
     ]
    },
    {
     "data": {
      "text/plain": "<Figure size 432x288 with 1 Axes>",
      "image/png": "[encoded data removed]"
     },
     "metadata": {
      "needs_background": "light"
     },
     "output_type": "display_data"
    },
    {
     "name": "stdout",
     "output_type": "stream",
     "text": [
      "              precision    recall  f1-score   support\n",
      "\n",
      "           0       0.51      0.66      0.58       435\n",
      "           1       0.91      0.84      0.87      1677\n",
      "\n",
      "    accuracy                           0.80      2112\n",
      "   macro avg       0.71      0.75      0.72      2112\n",
      "weighted avg       0.82      0.80      0.81      2112\n",
      "\n"
     ]
    }
   ],
   "source": [
    "probs_val = predict(cnn, dataloaders['val_a'])\n",
    "\n",
    "# Evaluate the Bert classifier\n",
    "evaluate_roc(probs_val, y_val)\n",
    "# Get predictions from the probabilities\n",
    "threshold = 0.5\n",
    "preds_val = np.where(probs_val[:, 1] > threshold, 1, 0)\n",
    "\n",
    "print(classification_report(preds_val, y_val ))"
   ],
   "metadata": {
    "collapsed": false,
    "pycharm": {
     "name": "#%%\n"
    }
   }
  },
  {
   "cell_type": "code",
   "execution_count": 87,
   "outputs": [
    {
     "name": "stdout",
     "output_type": "stream",
     "text": [
      "AUC: 0.7970\n",
      "Accuracy: 77.08%\n"
     ]
    },
    {
     "data": {
      "text/plain": "<Figure size 432x288 with 1 Axes>",
      "image/png": "[encoded data removed]"
     },
     "metadata": {
      "needs_background": "light"
     },
     "output_type": "display_data"
    },
    {
     "name": "stdout",
     "output_type": "stream",
     "text": [
      "              precision    recall  f1-score   support\n",
      "\n",
      "           0       0.48      0.65      0.55      3710\n",
      "           1       0.89      0.80      0.85     13505\n",
      "\n",
      "    accuracy                           0.77     17215\n",
      "   macro avg       0.68      0.73      0.70     17215\n",
      "weighted avg       0.80      0.77      0.78     17215\n",
      "\n"
     ]
    }
   ],
   "source": [
    "# Compute predicted probabilities on the test set\n",
    "probs_test = predict(cnn, dataloaders['test'])\n",
    "\n",
    "# Get predictions from the probabilities\n",
    "threshold = 0.5\n",
    "preds_test = np.where(probs_test[:, 1] > threshold, 1, 0)\n",
    "\n",
    "# Number of tweets predicted non-negative\n",
    "#print(\"Number of tweets predicted non-negative: \", preds_test.sum())\n",
    "\n",
    "# Evaluate the Bert classifier\n",
    "evaluate_roc(probs_test, df_test['agency'] )\n",
    "print(classification_report(preds_test, df_test['agency'] ))"
   ],
   "metadata": {
    "pycharm": {
     "name": "#%%\n"
    },
    "id": "vmFWiLqXBwO7"
   }
  },
  {
   "cell_type": "code",
   "execution_count": 88,
   "outputs": [
    {
     "name": "stdout",
     "output_type": "stream",
     "text": [
      "Start training...\n",
      "\n",
      " Epoch  |  Train Loss  |  Val Loss  |  Val Acc  |  Elapsed \n",
      "------------------------------------------------------------\n",
      "   1    |   0.648334   |  0.604778  |   67.38   |   1.56   \n",
      "   2    |   0.551593   |  0.518208  |   77.08   |   1.56   \n",
      "   3    |   0.457769   |  0.443427  |   80.87   |   1.60   \n",
      "   4    |   0.376761   |  0.388246  |   84.00   |   1.55   \n",
      "   5    |   0.313183   |  0.352104  |   85.70   |   1.58   \n",
      "   6    |   0.266262   |  0.329667  |   86.46   |   1.56   \n",
      "   7    |   0.230782   |  0.315667  |   87.22   |   1.57   \n",
      "   8    |   0.201157   |  0.306894  |   87.69   |   1.61   \n",
      "   9    |   0.176901   |  0.301215  |   87.97   |   1.56   \n",
      "  10    |   0.156121   |  0.297981  |   88.16   |   1.59   \n",
      "  11    |   0.137728   |  0.296307  |   88.12   |   1.56   \n",
      "  12    |   0.121807   |  0.296067  |   88.21   |   1.59   \n",
      "  13    |   0.107531   |  0.296518  |   88.49   |   1.58   \n",
      "  14    |   0.094692   |  0.297623  |   88.54   |   1.57   \n",
      "  15    |   0.083155   |  0.299574  |   88.49   |   1.56   \n",
      "  16    |   0.073113   |  0.302074  |   88.54   |   1.56   \n",
      "  17    |   0.063891   |  0.305138  |   88.40   |   1.61   \n",
      "  18    |   0.056150   |  0.308972  |   88.49   |   1.56   \n",
      "  19    |   0.049127   |  0.312892  |   88.45   |   1.59   \n",
      "  20    |   0.043174   |  0.317728  |   88.26   |   1.56   \n",
      "\n",
      "\n",
      "Training complete! Best accuracy: 88.54%.\n"
     ]
    }
   ],
   "source": [
    "# For sociality\n",
    "# CNN-rand: Word vectors are randomly initialized.\n",
    "set_seed(42)\n",
    "cnn_s, optimizer = initilize_model(vocab_size=len(embed_vocab),\n",
    "                                      embed_dim=300,\n",
    "                                      learning_rate=0.001,\n",
    "                                      dropout=0.1)\n",
    "train(cnn_s, optimizer, dataloaders['train_s'], dataloaders['val_s'], epochs=20)\n"
   ],
   "metadata": {
    "pycharm": {
     "name": "#%%\n"
    },
    "id": "alupBlRfBwO7"
   }
  },
  {
   "cell_type": "code",
   "execution_count": 89,
   "outputs": [
    {
     "name": "stdout",
     "output_type": "stream",
     "text": [
      "AUC: 0.9465\n",
      "Accuracy: 88.26%\n"
     ]
    },
    {
     "data": {
      "text/plain": "<Figure size 432x288 with 1 Axes>",
      "image/png": "[encoded data removed]"
     },
     "metadata": {
      "needs_background": "light"
     },
     "output_type": "display_data"
    },
    {
     "name": "stdout",
     "output_type": "stream",
     "text": [
      "              precision    recall  f1-score   support\n",
      "\n",
      "           0       0.89      0.87      0.88      1040\n",
      "           1       0.87      0.90      0.89      1072\n",
      "\n",
      "    accuracy                           0.88      2112\n",
      "   macro avg       0.88      0.88      0.88      2112\n",
      "weighted avg       0.88      0.88      0.88      2112\n",
      "\n"
     ]
    }
   ],
   "source": [
    "probs_val_s = predict(cnn_s,  dataloaders['val_s'])\n",
    "\n",
    "# Evaluate the Bert classifier\n",
    "evaluate_roc(probs_val_s, y_val_s)\n",
    "# Get predictions from the probabilities\n",
    "threshold = 0.5\n",
    "preds_val_s = np.where(probs_val_s[:, 1] > threshold, 1, 0)\n",
    "\n",
    "print(classification_report(preds_val_s, y_val_s ))\n"
   ],
   "metadata": {
    "pycharm": {
     "name": "#%%\n"
    },
    "id": "5PV-9SlPBwO7"
   }
  },
  {
   "cell_type": "code",
   "execution_count": 90,
   "outputs": [
    {
     "name": "stdout",
     "output_type": "stream",
     "text": [
      "AUC: 0.9403\n",
      "Accuracy: 87.45%\n"
     ]
    },
    {
     "data": {
      "text/plain": "<Figure size 432x288 with 1 Axes>",
      "image/png": "[encoded data removed]"
     },
     "metadata": {
      "needs_background": "light"
     },
     "output_type": "display_data"
    },
    {
     "name": "stdout",
     "output_type": "stream",
     "text": [
      "              precision    recall  f1-score   support\n",
      "\n",
      "           0       0.86      0.85      0.86      7503\n",
      "           1       0.89      0.89      0.89      9712\n",
      "\n",
      "    accuracy                           0.87     17215\n",
      "   macro avg       0.87      0.87      0.87     17215\n",
      "weighted avg       0.87      0.87      0.87     17215\n",
      "\n"
     ]
    }
   ],
   "source": [
    "# Compute predicted probabilities on the test set\n",
    "probs_test_s = predict(cnn_s, dataloaders['test'])\n",
    "# Evaluate the Bert classifier\n",
    "evaluate_roc(probs_test_s, df_test['social'] )\n",
    "# Get predictions from the probabilities\n",
    "preds_test_s = np.where(probs_test_s[:, 1] > threshold, 1, 0)\n",
    "\n",
    "# Number of tweets predicted non-negative\n",
    "# print(\"Number of tweets predicted non-negative: \", preds_test_s.sum())\n",
    "\n",
    "\n",
    "print(classification_report(preds_test_s, df_test['social'] ))"
   ],
   "metadata": {
    "pycharm": {
     "name": "#%%\n"
    },
    "id": "VSIat-PXBwO7"
   }
  },
  {
   "cell_type": "code",
   "execution_count": 91,
   "outputs": [
    {
     "data": {
      "text/plain": "['The day I stepped on the scale and my weight finally reached my goal.',\n 'I did a perler beads craft night with my best friend.',\n 'I wrote a great new song on the guitar after not feeling creative for a while.',\n 'Last week I took a chance on going to a networking happy hour and met many new contacts and potentially one day friends.',\n 'I saw my old friends at the village and talked about childhood memories.',\n 'My husband and I visited southern California and watched the sun set as we ate dinner at a restaurant on the beach.',\n 'My younger daughter started trying to walk on her own last week.',\n 'I found a free drawing app in the Play store, and it turned out to be better than a paid app I was considering buying.',\n 'I completed a half marathon row last night.',\n 'I saved up enough money to buy some snacks online.',\n 'I bought a scratch ticket and won a small amount of money.',\n 'Finding a good quality TV to buy at a good price made me really happy.',\n 'I was able to spend some time \"thrifting\", which meant that I was able to glance through some thrift stores to see if there were any \"goodies\" available.',\n 'I saw a movie called Jungle that made me pretty happy since i really enjoy watching movies.',\n 'I hooked up with a cute girl.',\n 'When I put the trophy that wins where are my brothers and my family I felt very happy',\n 'Buying my girlfriend back to school stuff as a gift.',\n 'I WAS ABLE TO SUCCESSFULLY NEGOTIATE MY RENT.',\n 'Something that made me happy was eating a home-cooked lunch.',\n 'I was happy when I had dinner with my new friends from my support group recently.']"
     },
     "execution_count": 91,
     "metadata": {},
     "output_type": "execute_result"
    }
   ],
   "source": [
    "output = df_test[preds_test==1]\n",
    "list(output.sample(20).moment)"
   ],
   "metadata": {
    "pycharm": {
     "name": "#%%\n"
    },
    "id": "kPFB8o5aBwO9"
   }
  },
  {
   "cell_type": "code",
   "execution_count": 92,
   "outputs": [
    {
     "data": {
      "text/plain": "[\"I went to an event at the library celebrating Harry Potter's birthday and I won two prizes from the raffle!\",\n 'All of my kids went to sleep and I got some peace and quiet',\n 'The day my younger brother graduated with his law degree.',\n 'When my baby slept through the night, a few weeks ago, and I got a good nights sleep, two nights in a row.',\n 'I went out to dinner with my mom.',\n 'I did provided salary appraisal for my employees',\n 'my friends are arranged with one wonderful trip so i have good plan with new dress and fancy foods are taken my bag the this trip was very interested and joyful so i feel very happy to the moment',\n 'Thinking about my brother in law when he was still alive.',\n 'I canned seven quarts of peas without losing a single jar in the pressure cooker.',\n 'Have an appointment with my girlfriend all day',\n 'My old friend contacted me out of the blue and offered me a money-making opportunity.',\n 'The day I got a promotion is an unforgettable moment in my life.',\n 'My sister confided in me about some personal things she was going through and it made me thankful that I have that good relationship with her.',\n \"Last week I was praised by my boss for something I did in front of everyone in the office which I didn't think was a great deal.\",\n 'I took a trip alone to the beach recently and jumping in the water was like an emotional reset, making me very happy.',\n 'I felt like a kid with joy when I first tasted a mochi.',\n 'Seeing my daughter before/after work',\n 'I took my mother shopping and to the Library and everything went really smoothly and she was in a great mood and energetic.',\n 'Watching my 8 week old baby smile.',\n 'I found out they are delivering my anniversary present Sunday.']"
     },
     "execution_count": 92,
     "metadata": {},
     "output_type": "execute_result"
    }
   ],
   "source": [
    "output_s = df_test[preds_test_s==1]\n",
    "list(output_s.sample(20).moment)"
   ],
   "metadata": {
    "pycharm": {
     "name": "#%%\n"
    },
    "id": "DZ37z32GBwO9"
   }
  },
  {
   "cell_type": "code",
   "execution_count": 92,
   "outputs": [],
   "source": [],
   "metadata": {
    "pycharm": {
     "name": "#%%\n"
    },
    "id": "tKytJlFWBwO-"
   }
  },
  {
   "cell_type": "code",
   "execution_count": 92,
   "outputs": [],
   "source": [],
   "metadata": {
    "pycharm": {
     "name": "#%%\n"
    },
    "id": "r1YZVhtOBwO-"
   }
  }
 ],
 "metadata": {
  "kernelspec": {
   "name": "pycharm-282d5b2f",
   "language": "python",
   "display_name": "PyCharm (NLP_Assignments)"
  },
  "language_info": {
   "codemirror_mode": {
    "name": "ipython",
    "version": 2
   },
   "file_extension": ".py",
   "mimetype": "text/x-python",
   "name": "python",
   "nbconvert_exporter": "python",
   "pygments_lexer": "ipython2",
   "version": "2.7.6"
  },
  "colab": {
   "name": "A2.ipynb",
   "provenance": []
  }
 },
 "nbformat": 4,
 "nbformat_minor": 0
}