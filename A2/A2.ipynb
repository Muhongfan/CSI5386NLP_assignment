{
 "cells": [
  {
   "cell_type": "markdown",
   "source": [
    "The codes have commented the ones thta applying the simple classifiers, as LR and NB, to the datasets with the pretrained word embeddings."
   ],
   "metadata": {
    "collapsed": false,
    "pycharm": {
     "name": "#%% md\n"
    },
    "id": "47aDT_rHBwOQ"
   }
  },
  {
   "cell_type": "code",
   "execution_count": 1,
   "outputs": [
    {
     "name": "stderr",
     "output_type": "stream",
     "text": [
      "[nltk_data] Downloading package punkt to /home/amber/nltk_data...\n",
      "[nltk_data]   Package punkt is already up-to-date!\n",
      "[nltk_data] Downloading package stopwords to /home/amber/nltk_data...\n",
      "[nltk_data]   Package stopwords is already up-to-date!\n",
      "[nltk_data] Downloading package averaged_perceptron_tagger to\n",
      "[nltk_data]     /home/amber/nltk_data...\n",
      "[nltk_data]   Package averaged_perceptron_tagger is already up-to-\n",
      "[nltk_data]       date!\n",
      "[nltk_data] Downloading package wordnet to /home/amber/nltk_data...\n",
      "[nltk_data]   Package wordnet is already up-to-date!\n"
     ]
    }
   ],
   "source": [
    "\n",
    "import pandas as pd\n",
    "import numpy as np\n",
    "import re, string\n",
    "import matplotlib.pyplot as plt\n",
    "import transformers\n",
    "import nltk\n",
    "\n",
    "from nltk.corpus import stopwords\n",
    "from nltk.tokenize import word_tokenize\n",
    "from nltk.stem import SnowballStemmer\n",
    "from nltk.corpus import wordnet\n",
    "from nltk.stem import WordNetLemmatizer\n",
    "\n",
    "nltk.download('punkt')\n",
    "nltk.download('stopwords')\n",
    "nltk.download('averaged_perceptron_tagger')\n",
    "nltk.download('wordnet')\n",
    "#for model-building\n",
    "from sklearn.model_selection import train_test_split\n",
    "from sklearn.linear_model import LogisticRegression\n",
    "from sklearn.naive_bayes import MultinomialNB\n",
    "from sklearn.metrics import classification_report\n",
    "import seaborn as sns\n",
    "import torch\n",
    "import gensim\n",
    "from gensim.models import Word2Vec\n"
   ],
   "metadata": {
    "pycharm": {
     "name": "#%%\n"
    },
    "colab": {
     "base_uri": "https://localhost:8080/"
    },
    "id": "EzNOaQPRBwOT",
    "outputId": "9a8f1f15-cba7-4094-ab8b-2028d19b3b75"
   }
  },
  {
   "cell_type": "markdown",
   "source": [],
   "metadata": {
    "collapsed": false,
    "id": "U3YGPZggBwOW"
   }
  },
  {
   "cell_type": "code",
   "execution_count": 2,
   "outputs": [],
   "source": [
    "df_train= pd.read_csv('/home/amber/Documents/NLP_Assignments/A2/data/TRAIN/old/labeled_10k.csv', encoding='cp1252')\n",
    "df_test=pd.read_csv('/home/amber/Documents/NLP_Assignments/A2/data/TEST/labeled_17k.csv', encoding='cp1252')"
   ],
   "metadata": {
    "pycharm": {
     "name": "#%%\n"
    },
    "id": "uRSTWslsBwOX"
   }
  },
  {
   "cell_type": "code",
   "source": [
    "df_train.head()"
   ],
   "metadata": {
    "pycharm": {
     "name": "#%%\n"
    },
    "id": "wZwo-OdfBwOY",
    "outputId": "f791421d-75a6-41fa-ce61-0d1274da4406"
   },
   "execution_count": 3,
   "outputs": [
    {
     "data": {
      "text/plain": "    hmid                                             moment          concepts  \\\n0  27674  I was happy when my son got 90% marks in his e...  education|family   \n1  27685          went to movies with my friends it was fun     entertainment   \n2  27691  A hot kiss with my girl friend last night made...           romance   \n3  27701  My son woke me up to a fantastic breakfast of ...       family|food   \n4  27712  My older daughter keeps patting my younger dau...            family   \n\n  agency social   age country gender  married parenthood reflection  \n0     no    yes  29.0     IND      m  married          y        24h  \n1    yes    yes  29.0     IND      m   single          y        24h  \n2    yes    yes  25.0     IND      m  married          y        24h  \n3     no    yes    79     USA      f  widowed          y        24h  \n4     no    yes    30     USA      f  married          y        24h  ",
      "text/html": "<div>\n<style scoped>\n    .dataframe tbody tr th:only-of-type {\n        vertical-align: middle;\n    }\n\n    .dataframe tbody tr th {\n        vertical-align: top;\n    }\n\n    .dataframe thead th {\n        text-align: right;\n    }\n</style>\n<table border=\"1\" class=\"dataframe\">\n  <thead>\n    <tr style=\"text-align: right;\">\n      <th></th>\n      <th>hmid</th>\n      <th>moment</th>\n      <th>concepts</th>\n      <th>agency</th>\n      <th>social</th>\n      <th>age</th>\n      <th>country</th>\n      <th>gender</th>\n      <th>married</th>\n      <th>parenthood</th>\n      <th>reflection</th>\n    </tr>\n  </thead>\n  <tbody>\n    <tr>\n      <th>0</th>\n      <td>27674</td>\n      <td>I was happy when my son got 90% marks in his e...</td>\n      <td>education|family</td>\n      <td>no</td>\n      <td>yes</td>\n      <td>29.0</td>\n      <td>IND</td>\n      <td>m</td>\n      <td>married</td>\n      <td>y</td>\n      <td>24h</td>\n    </tr>\n    <tr>\n      <th>1</th>\n      <td>27685</td>\n      <td>went to movies with my friends it was fun</td>\n      <td>entertainment</td>\n      <td>yes</td>\n      <td>yes</td>\n      <td>29.0</td>\n      <td>IND</td>\n      <td>m</td>\n      <td>single</td>\n      <td>y</td>\n      <td>24h</td>\n    </tr>\n    <tr>\n      <th>2</th>\n      <td>27691</td>\n      <td>A hot kiss with my girl friend last night made...</td>\n      <td>romance</td>\n      <td>yes</td>\n      <td>yes</td>\n      <td>25.0</td>\n      <td>IND</td>\n      <td>m</td>\n      <td>married</td>\n      <td>y</td>\n      <td>24h</td>\n    </tr>\n    <tr>\n      <th>3</th>\n      <td>27701</td>\n      <td>My son woke me up to a fantastic breakfast of ...</td>\n      <td>family|food</td>\n      <td>no</td>\n      <td>yes</td>\n      <td>79</td>\n      <td>USA</td>\n      <td>f</td>\n      <td>widowed</td>\n      <td>y</td>\n      <td>24h</td>\n    </tr>\n    <tr>\n      <th>4</th>\n      <td>27712</td>\n      <td>My older daughter keeps patting my younger dau...</td>\n      <td>family</td>\n      <td>no</td>\n      <td>yes</td>\n      <td>30</td>\n      <td>USA</td>\n      <td>f</td>\n      <td>married</td>\n      <td>y</td>\n      <td>24h</td>\n    </tr>\n  </tbody>\n</table>\n</div>"
     },
     "execution_count": 3,
     "metadata": {},
     "output_type": "execute_result"
    }
   ]
  },
  {
   "cell_type": "code",
   "execution_count": 4,
   "outputs": [
    {
     "data": {
      "text/plain": "    hmid                                             moment          concepts  \\\n0  27674  I was happy when my son got 90% marks in his e...  education|family   \n1  27685          went to movies with my friends it was fun     entertainment   \n2  27691  A hot kiss with my girl friend last night made...           romance   \n3  27701  My son woke me up to a fantastic breakfast of ...       family|food   \n4  27712  My older daughter keeps patting my younger dau...            family   \n\n   agency  social   age country gender  married parenthood reflection  \n0       0       1  29.0     IND      m  married          y        24h  \n1       1       1  29.0     IND      m   single          y        24h  \n2       1       1  25.0     IND      m  married          y        24h  \n3       0       1    79     USA      f  widowed          y        24h  \n4       0       1    30     USA      f  married          y        24h  ",
      "text/html": "<div>\n<style scoped>\n    .dataframe tbody tr th:only-of-type {\n        vertical-align: middle;\n    }\n\n    .dataframe tbody tr th {\n        vertical-align: top;\n    }\n\n    .dataframe thead th {\n        text-align: right;\n    }\n</style>\n<table border=\"1\" class=\"dataframe\">\n  <thead>\n    <tr style=\"text-align: right;\">\n      <th></th>\n      <th>hmid</th>\n      <th>moment</th>\n      <th>concepts</th>\n      <th>agency</th>\n      <th>social</th>\n      <th>age</th>\n      <th>country</th>\n      <th>gender</th>\n      <th>married</th>\n      <th>parenthood</th>\n      <th>reflection</th>\n    </tr>\n  </thead>\n  <tbody>\n    <tr>\n      <th>0</th>\n      <td>27674</td>\n      <td>I was happy when my son got 90% marks in his e...</td>\n      <td>education|family</td>\n      <td>0</td>\n      <td>1</td>\n      <td>29.0</td>\n      <td>IND</td>\n      <td>m</td>\n      <td>married</td>\n      <td>y</td>\n      <td>24h</td>\n    </tr>\n    <tr>\n      <th>1</th>\n      <td>27685</td>\n      <td>went to movies with my friends it was fun</td>\n      <td>entertainment</td>\n      <td>1</td>\n      <td>1</td>\n      <td>29.0</td>\n      <td>IND</td>\n      <td>m</td>\n      <td>single</td>\n      <td>y</td>\n      <td>24h</td>\n    </tr>\n    <tr>\n      <th>2</th>\n      <td>27691</td>\n      <td>A hot kiss with my girl friend last night made...</td>\n      <td>romance</td>\n      <td>1</td>\n      <td>1</td>\n      <td>25.0</td>\n      <td>IND</td>\n      <td>m</td>\n      <td>married</td>\n      <td>y</td>\n      <td>24h</td>\n    </tr>\n    <tr>\n      <th>3</th>\n      <td>27701</td>\n      <td>My son woke me up to a fantastic breakfast of ...</td>\n      <td>family|food</td>\n      <td>0</td>\n      <td>1</td>\n      <td>79</td>\n      <td>USA</td>\n      <td>f</td>\n      <td>widowed</td>\n      <td>y</td>\n      <td>24h</td>\n    </tr>\n    <tr>\n      <th>4</th>\n      <td>27712</td>\n      <td>My older daughter keeps patting my younger dau...</td>\n      <td>family</td>\n      <td>0</td>\n      <td>1</td>\n      <td>30</td>\n      <td>USA</td>\n      <td>f</td>\n      <td>married</td>\n      <td>y</td>\n      <td>24h</td>\n    </tr>\n  </tbody>\n</table>\n</div>"
     },
     "execution_count": 4,
     "metadata": {},
     "output_type": "execute_result"
    }
   ],
   "source": [
    "# Transfer the string to numeric data\n",
    "df_train['agency'] = df_train['agency'].map({'yes': 1, 'no': 0})\n",
    "df_train['social'] = df_train['social'].map({'yes': 1, 'no': 0})\n",
    "\n",
    "df_test['agency'] = df_test['agency'].map({'yes': 1, 'no': 0})\n",
    "df_test['social'] = df_test['social'].map({'yes': 1, 'no': 0})\n",
    "\n",
    "df_train.head()"
   ],
   "metadata": {
    "pycharm": {
     "name": "#%%\n"
    },
    "id": "Pj4jlcHbBwOn",
    "outputId": "001ba2e4-325d-446c-d4f9-a84d76e3fbff",
    "colab": {
     "base_uri": "https://localhost:8080/",
     "height": 302
    }
   }
  },
  {
   "cell_type": "markdown",
   "source": [
    "After import the dataset, we catch the glimpse on the brief information of the dataset. As shown with the information of the first 5 data."
   ],
   "metadata": {
    "collapsed": false
   }
  },
  {
   "cell_type": "markdown",
   "source": [
    "##Exploratory Data Analysis (EDA)"
   ],
   "metadata": {
    "collapsed": false
   }
  },
  {
   "cell_type": "markdown",
   "source": [
    "1. Statistical exploration on the text\n",
    "As this is the text related task predict the targets based on the text data collected, the \"moment\" column will be first analyzed with the statistical figures to explore the hidden relationship behind the word counts."
   ],
   "metadata": {
    "collapsed": false
   }
  },
  {
   "cell_type": "code",
   "execution_count": 5,
   "outputs": [
    {
     "data": {
      "text/plain": "count    10560.000000\nmean        13.441761\nstd          7.578976\nmin          2.000000\n25%          8.000000\n50%         12.000000\n75%         17.000000\nmax         70.000000\nName: moment, dtype: float64"
     },
     "execution_count": 5,
     "metadata": {},
     "output_type": "execute_result"
    }
   ],
   "source": [
    "moment = df_train[df_train['moment'].notnull()]\n",
    "len_count = df_train['moment'].apply(lambda x: len(x.split()))\n",
    "len_count.describe()"
   ],
   "metadata": {
    "collapsed": false,
    "pycharm": {
     "name": "#%%\n"
    }
   }
  },
  {
   "cell_type": "markdown",
   "source": [
    "It can be seen that the min words count for a single text in \"moment\" is 2, which is interesting to see if the description on the target can be fully expressed by two words. As to figure out whether it is fully described by the min words, and also the representation of the maximum description, they are combined to show the representation, which considered for further model design."
   ],
   "metadata": {
    "collapsed": false
   }
  },
  {
   "cell_type": "code",
   "execution_count": 6,
   "outputs": [
    {
     "data": {
      "text/plain": "5379    Cousin's Marriage\nName: moment, dtype: object"
     },
     "execution_count": 6,
     "metadata": {},
     "output_type": "execute_result"
    }
   ],
   "source": [
    "df_train[\"moment\"][len_count ==2]"
   ],
   "metadata": {
    "collapsed": false,
    "pycharm": {
     "name": "#%%\n"
    }
   }
  },
  {
   "cell_type": "code",
   "execution_count": 7,
   "outputs": [
    {
     "data": {
      "text/plain": "8167    Ozma was happy to have Dorothy beside her, for...\nName: moment, dtype: object"
     },
     "execution_count": 7,
     "metadata": {},
     "output_type": "execute_result"
    }
   ],
   "source": [
    "df_train[\"moment\"][len_count ==70]"
   ],
   "metadata": {
    "collapsed": false,
    "pycharm": {
     "name": "#%%\n"
    }
   }
  },
  {
   "cell_type": "markdown",
   "source": [
    "2. The distribution of the targets\n",
    "As the task is to classify the agency and the sociality, the distribution of the targets should be first explored."
   ],
   "metadata": {
    "collapsed": false
   }
  },
  {
   "cell_type": "code",
   "execution_count": 8,
   "outputs": [
    {
     "name": "stderr",
     "output_type": "stream",
     "text": [
      "<ipython-input-8-75910c44ceec>:4: UserWarning: Matplotlib is currently using module://ipykernel.pylab.backend_inline, which is a non-GUI backend, so cannot show the figure.\n",
      "  fig.show()\n"
     ]
    },
    {
     "data": {
      "text/plain": "<Figure size 432x288 with 2 Axes>",
      "image/png": "[encoded data removed]"
     },
     "metadata": {
      "needs_background": "light"
     },
     "output_type": "display_data"
    }
   ],
   "source": [
    "\n",
    "fig, ax =plt.subplots(1,2)\n",
    "sns.barplot(df_train['agency'].value_counts().index, df_train['agency'].value_counts(), ax=ax[0])\n",
    "sns.barplot(df_train['social'].value_counts().index, df_train['social'].value_counts(),  ax=ax[1])\n",
    "fig.show()"
   ],
   "metadata": {
    "collapsed": false,
    "pycharm": {
     "name": "#%%\n"
    }
   }
  },
  {
   "cell_type": "markdown",
   "source": [
    "As above, the distribution for the agency class is imbalanced, thus leading to the discussion for imbalanced classification if necessary."
   ],
   "metadata": {
    "collapsed": false
   }
  },
  {
   "cell_type": "markdown",
   "source": [],
   "metadata": {
    "collapsed": false
   }
  },
  {
   "cell_type": "markdown",
   "source": [
    "3. Number of words in a \"moment\" for agency classification\n",
    "The detailed exploration on agency.\n"
   ],
   "metadata": {
    "collapsed": false
   }
  },
  {
   "cell_type": "code",
   "execution_count": 9,
   "outputs": [
    {
     "name": "stdout",
     "output_type": "stream",
     "text": [
      "nan\n",
      "nan\n"
     ]
    }
   ],
   "source": [
    "# WORD-COUNT\n",
    "df_train['word_count'] = df_train['moment'].apply(lambda x: len(str(x).split()))\n",
    "print(df_train[df_train['agency']==\"yes\"]['word_count'].mean())\n",
    "print(df_train[df_train['agency']==\"no\"]['word_count'].mean())"
   ],
   "metadata": {
    "collapsed": false,
    "pycharm": {
     "name": "#%%\n"
    }
   }
  },
  {
   "cell_type": "code",
   "execution_count": 10,
   "outputs": [
    {
     "data": {
      "text/plain": "<Figure size 720x288 with 2 Axes>",
      "image/png": "[encoded data removed]"
     },
     "metadata": {
      "needs_background": "light"
     },
     "output_type": "display_data"
    }
   ],
   "source": [
    "fig,(ax1,ax2)=plt.subplots(1,2,figsize=(10,4))\n",
    "train_words=df_train[df_train['agency']=='yes']['word_count']\n",
    "ax1.hist(train_words,color='red')\n",
    "ax1.set_title('Agency - yes')\n",
    "train_words=df_train[df_train['agency']=='no']['word_count']\n",
    "ax2.hist(train_words,color='green')\n",
    "ax2.set_title('Agency - no')\n",
    "fig.suptitle('Words per \"moment\"')\n",
    "plt.show()"
   ],
   "metadata": {
    "collapsed": false,
    "pycharm": {
     "name": "#%%\n"
    }
   }
  },
  {
   "cell_type": "markdown",
   "source": [
    "The distribution of both 'yes' and 'no' classes of agency is the same, which will contribute to the further discussion for imbalanced class."
   ],
   "metadata": {
    "collapsed": false
   }
  },
  {
   "cell_type": "code",
   "execution_count": 11,
   "outputs": [
    {
     "data": {
      "text/plain": "<AxesSubplot:xlabel='word numbers', ylabel='# of moments'>"
     },
     "execution_count": 11,
     "metadata": {},
     "output_type": "execute_result"
    },
    {
     "data": {
      "text/plain": "<Figure size 432x288 with 1 Axes>",
      "image/png": "[encoded data removed]"
     },
     "metadata": {
      "needs_background": "light"
     },
     "output_type": "display_data"
    }
   ],
   "source": [
    "length_order = [\"0-4\", \"5-9\", \"10-14\", \"15-19\", \"20-24\", \"25-29\", \"30-34\", \"35-39\", \\\n",
    "                \"40-44\", \"45-49\", \">=50\"]\n",
    "length_category = df_train['word_count'].apply(lambda x: length_order[min(10, int(x/5))])\n",
    "length_counts = pd.DataFrame(length_category.value_counts()).reset_index()\n",
    "length_counts.columns = ['word numbers', '# of moments']\n",
    "\n",
    "sns.barplot(x='word numbers', y='# of moments', data=length_counts, order=length_order)\n"
   ],
   "metadata": {
    "collapsed": false,
    "pycharm": {
     "name": "#%%\n"
    }
   }
  },
  {
   "cell_type": "markdown",
   "source": [
    "##Data Cleaning"
   ],
   "metadata": {
    "collapsed": false
   }
  },
  {
   "cell_type": "code",
   "execution_count": 12,
   "outputs": [
    {
     "data": {
      "text/plain": "hmid           0\nmoment         0\nconcepts       0\nagency         0\nsocial         0\nage            9\ncountry       22\ngender         6\nmarried       15\nparenthood     9\nreflection     0\nword_count     0\ndtype: int64"
     },
     "execution_count": 12,
     "metadata": {},
     "output_type": "execute_result"
    }
   ],
   "source": [
    "# Missing values\n",
    "df_train.isna().sum()"
   ],
   "metadata": {
    "pycharm": {
     "name": "#%%\n"
    },
    "id": "Bw8kon85BwOn",
    "outputId": "809887cc-4890-4d2a-fe12-f16a0b0c68f6",
    "colab": {
     "base_uri": "https://localhost:8080/"
    }
   }
  },
  {
   "cell_type": "markdown",
   "source": [
    "As 9 missing values in \"age\", 22 in \"country\", 6 in \"gender\", 15 in marriage condition, 9 in \"parenthood\", and None in others."
   ],
   "metadata": {
    "collapsed": false,
    "pycharm": {
     "name": "#%% md\n"
    },
    "id": "itImQ-pDBwOo"
   }
  },
  {
   "cell_type": "code",
   "execution_count": 13,
   "outputs": [],
   "source": [
    "# convert the original data to lowercase, strip and remove punctuations\n",
    "def preprocess(text):\n",
    "    text = text.lower()\n",
    "    text=text.strip()\n",
    "    text=re.compile('<.*?>').sub('', text)\n",
    "    text = re.compile('[%s]' % re.escape(string.punctuation)).sub(' ', text)\n",
    "    text = re.sub('\\s+', ' ', text)\n",
    "    text = re.sub(r'\\[[0-9]*\\]',' ',text)\n",
    "    text=re.sub(r'[^\\w\\s]', '', str(text).lower().strip())\n",
    "    text = re.sub(r'\\d',' ',text)\n",
    "    text = re.sub(r'\\s+',' ',text)\n",
    "    return text\n",
    "\n",
    "# Lexicon - based\n",
    "# STOPWORD REMOVAL\n",
    "def stopword(string):\n",
    "    a= [i for i in string.split() if i not in stopwords.words('english')]\n",
    "    return ' '.join(a)#LEMMATIZATION\n",
    "# Initialize the lemmatizer\n",
    "\n",
    "# #2. STEMMING\n",
    "# # Initialize the stemmer\n",
    "# snow = SnowballStemmer('english')\n",
    "# def stemming(string):\n",
    "#     a=[snow.stem(i) for i in word_tokenize(string) ]\n",
    "#     return \" \".join(a)\n",
    "\n",
    "# 3.\n",
    "wl = WordNetLemmatizer()\n",
    "# This is a helper function to map NTLK position tags\n",
    "def get_wordnet_pos(tag):\n",
    "    if tag.startswith('J'):\n",
    "        return wordnet.ADJ\n",
    "    elif tag.startswith('V'):\n",
    "        return wordnet.VERB\n",
    "    elif tag.startswith('N'):\n",
    "        return wordnet.NOUN\n",
    "    elif tag.startswith('R'):\n",
    "        return wordnet.ADV\n",
    "    else:\n",
    "        return wordnet.NOUN# Tokenize the sentence\n",
    "# Tokenize the sentence\n",
    "def lemmatizer(string):\n",
    "    word_pos_tags = nltk.pos_tag(word_tokenize(string)) # Get position tags\n",
    "    a=[wl.lemmatize(tag[0], get_wordnet_pos(tag[1])) for idx, tag in enumerate(word_pos_tags)] # Map the position tag and lemmatize the word/token\n",
    "    return \" \".join(a)"
   ],
   "metadata": {
    "pycharm": {
     "name": "#%%\n"
    },
    "id": "xGvMVF2fBwOo"
   }
  },
  {
   "cell_type": "code",
   "execution_count": 14,
   "outputs": [
    {
     "data": {
      "text/plain": "   hmid                                             moment reflection age  \\\n0     0  I was able to spend the day with my fiance sho...        24h  28   \n1     1                    I was able to play with my cat.        24h  28   \n2     2   I was able to clean my room and gold my laundry.        24h  28   \n3     3  I spend the day at a party on the beach and I ...        24h  24   \n4     4  My cat greeting me when I got home from work -...        24h  24   \n\n  country gender                     duration married parenthood  \\\n0     USA      m  all_day_im_still_feeling_it  single          n   \n1     USA      m            at_least_one_hour  single          n   \n2     USA      m            at_least_one_hour  single          n   \n3     USA      m                   half_a_day  single          n   \n4     USA      m                   half_a_day  single          n   \n\n                  concepts  agency  social  \\\n0  shopping|family|romance       1       0   \n1                  animals       1       0   \n2                        0       1       0   \n3   vacation|party|weather       1       1   \n4                  animals       0       0   \n\n                                          clean_text  \n0           able spend day fiance shopping yesterday  \n1                                      able play cat  \n2                       able clean room gold laundry  \n3  spend day party beach happy see friend miss be...  \n4          cat greet get home work sweet cute loving  ",
      "text/html": "<div>\n<style scoped>\n    .dataframe tbody tr th:only-of-type {\n        vertical-align: middle;\n    }\n\n    .dataframe tbody tr th {\n        vertical-align: top;\n    }\n\n    .dataframe thead th {\n        text-align: right;\n    }\n</style>\n<table border=\"1\" class=\"dataframe\">\n  <thead>\n    <tr style=\"text-align: right;\">\n      <th></th>\n      <th>hmid</th>\n      <th>moment</th>\n      <th>reflection</th>\n      <th>age</th>\n      <th>country</th>\n      <th>gender</th>\n      <th>duration</th>\n      <th>married</th>\n      <th>parenthood</th>\n      <th>concepts</th>\n      <th>agency</th>\n      <th>social</th>\n      <th>clean_text</th>\n    </tr>\n  </thead>\n  <tbody>\n    <tr>\n      <th>0</th>\n      <td>0</td>\n      <td>I was able to spend the day with my fiance sho...</td>\n      <td>24h</td>\n      <td>28</td>\n      <td>USA</td>\n      <td>m</td>\n      <td>all_day_im_still_feeling_it</td>\n      <td>single</td>\n      <td>n</td>\n      <td>shopping|family|romance</td>\n      <td>1</td>\n      <td>0</td>\n      <td>able spend day fiance shopping yesterday</td>\n    </tr>\n    <tr>\n      <th>1</th>\n      <td>1</td>\n      <td>I was able to play with my cat.</td>\n      <td>24h</td>\n      <td>28</td>\n      <td>USA</td>\n      <td>m</td>\n      <td>at_least_one_hour</td>\n      <td>single</td>\n      <td>n</td>\n      <td>animals</td>\n      <td>1</td>\n      <td>0</td>\n      <td>able play cat</td>\n    </tr>\n    <tr>\n      <th>2</th>\n      <td>2</td>\n      <td>I was able to clean my room and gold my laundry.</td>\n      <td>24h</td>\n      <td>28</td>\n      <td>USA</td>\n      <td>m</td>\n      <td>at_least_one_hour</td>\n      <td>single</td>\n      <td>n</td>\n      <td>0</td>\n      <td>1</td>\n      <td>0</td>\n      <td>able clean room gold laundry</td>\n    </tr>\n    <tr>\n      <th>3</th>\n      <td>3</td>\n      <td>I spend the day at a party on the beach and I ...</td>\n      <td>24h</td>\n      <td>24</td>\n      <td>USA</td>\n      <td>m</td>\n      <td>half_a_day</td>\n      <td>single</td>\n      <td>n</td>\n      <td>vacation|party|weather</td>\n      <td>1</td>\n      <td>1</td>\n      <td>spend day party beach happy see friend miss be...</td>\n    </tr>\n    <tr>\n      <th>4</th>\n      <td>4</td>\n      <td>My cat greeting me when I got home from work -...</td>\n      <td>24h</td>\n      <td>24</td>\n      <td>USA</td>\n      <td>m</td>\n      <td>half_a_day</td>\n      <td>single</td>\n      <td>n</td>\n      <td>animals</td>\n      <td>0</td>\n      <td>0</td>\n      <td>cat greet get home work sweet cute loving</td>\n    </tr>\n  </tbody>\n</table>\n</div>"
     },
     "execution_count": 14,
     "metadata": {},
     "output_type": "execute_result"
    }
   ],
   "source": [
    "def finalpreprocess(string):\n",
    "    return lemmatizer(stopword(preprocess(string)))\n",
    "df_train['clean_text'] = df_train['moment'].apply(lambda x: finalpreprocess(x))\n",
    "df_train.head()\n",
    "\n",
    "df_test['clean_text'] = df_test['moment'].apply(lambda x: finalpreprocess(x))\n",
    "df_test.head()"
   ],
   "metadata": {
    "pycharm": {
     "name": "#%%\n"
    },
    "id": "RPOtTIucBwOp",
    "outputId": "73c7d32a-9ac6-49ea-efd2-a6b84fa71fb1",
    "colab": {
     "base_uri": "https://localhost:8080/",
     "height": 719
    }
   }
  },
  {
   "cell_type": "code",
   "execution_count": 15,
   "outputs": [],
   "source": [
    "# df_c = df_train[[\"hmid\", \"agency\", \"social\", \"clean_text\"]]\n",
    "# df_c_t = df_test[[\"hmid\", \"agency\", \"social\", \"clean_text\"]]\n",
    "#\n",
    "# df_c.to_csv('/home/amber/Documents/NLP_Assignments/A2/claff-happydb/docs/cleaned.csv')\n",
    "# df_c_t.to_csv('/home/amber/Documents/NLP_Assignments/A2/claff-happydb/docs/cleaned_t.csv')\n"
   ],
   "metadata": {
    "collapsed": false,
    "pycharm": {
     "name": "#%%\n"
    }
   }
  },
  {
   "cell_type": "markdown",
   "source": [],
   "metadata": {
    "collapsed": false
   }
  },
  {
   "cell_type": "code",
   "execution_count": 16,
   "outputs": [],
   "source": [
    "# df_train= pd.read_csv('/home/amber/Documents/NLP_Assignments/A2/claff-happydb/docs/cleaned.csv', encoding='cp1252')\n",
    "# df_test=pd.read_csv('/home/amber/Documents/NLP_Assignments/A2/claff-happydb/docs/cleaned_t.csv', encoding='cp1252')"
   ],
   "metadata": {
    "collapsed": false,
    "pycharm": {
     "name": "#%%\n"
    }
   }
  },
  {
   "cell_type": "markdown",
   "source": [
    "Embedded - Word2Vec"
   ],
   "metadata": {
    "collapsed": false,
    "pycharm": {
     "name": "#%% md\n"
    },
    "id": "hvhIJftdBwOp"
   }
  },
  {
   "cell_type": "code",
   "execution_count": 17,
   "outputs": [],
   "source": [
    "# create Word2vec\n",
    "#here words_f should be a list containing words from each document. say 1st row of the list is words from the 1st document/sentence\n",
    "#length of words_f is number of documents/sentences in your dataset\n",
    "# df_train['clean_text_tok']=[nltk.word_tokenize(i) for i in df_train['clean_text']] #convert preprocessed sentence to tokenized sentence\n",
    "# model = Word2Vec(df_train['clean_text_tok'],min_count=1)  #min_count=1 means word should be present at least across all documents,\n",
    "# # #if min_count=2 means if the word is present less than 2 times across all the documents then we shouldn't consider it\n",
    "# #\n",
    "# w2v = dict(zip(model.wv.index2word, model.wv.vectors))  #combination of word and its vector\n",
    "#\n",
    "# #for converting sentence to vectors/numbers from word vectors result by Word2Vec\n",
    "# class MeanEmbeddingVectorizer(object):\n",
    "#     def __init__(self, word2vec):\n",
    "#         self.word2vec = word2vec\n",
    "#         # if a text is empty we should return a vector of zeros\n",
    "#         # with the same dimensionality as all the other vectors\n",
    "#         self.dim = len(next(iter(word2vec.values())))\n",
    "#\n",
    "#     def fit(self, X, y):\n",
    "#         return self\n",
    "#\n",
    "#     def transform(self, X):\n",
    "#         return np.array([\n",
    "#             np.mean([self.word2vec[w] for w in words if w in self.word2vec]\n",
    "#                     or [np.zeros(self.dim)], axis=0)\n",
    "#             for words in X\n",
    "#         ])\n"
   ],
   "metadata": {
    "pycharm": {
     "name": "#%%\n"
    },
    "id": "XiUnadW1BwOq"
   }
  },
  {
   "cell_type": "code",
   "execution_count": 18,
   "outputs": [
    {
     "data": {
      "text/plain": "        hmid                                             moment reflection  \\\n0          0  I was able to spend the day with my fiance sho...        24h   \n1          1                    I was able to play with my cat.        24h   \n2          2   I was able to clean my room and gold my laundry.        24h   \n3          3  I spend the day at a party on the beach and I ...        24h   \n4          4  My cat greeting me when I got home from work -...        24h   \n...      ...                                                ...        ...   \n17210  21892  My wife and I went for a hike last week and we...         3m   \n17211  21893          I finally hit platinum rank in Overwatch.         3m   \n17212  21897  One of my long-time friends and I finally ackn...         3m   \n17213  21898             I earned a professional certification.         3m   \n17214  21899                            I built a new computer.         3m   \n\n      age country gender                     duration  married parenthood  \\\n0      28     USA      m  all_day_im_still_feeling_it   single          n   \n1      28     USA      m            at_least_one_hour   single          n   \n2      28     USA      m            at_least_one_hour   single          n   \n3      24     USA      m                   half_a_day   single          n   \n4      24     USA      m                   half_a_day   single          n   \n...    ..     ...    ...                          ...      ...        ...   \n17210  34     USA      m                   half_a_day  married          n   \n17211  34     USA      m            at_least_one_hour  married          n   \n17212  34     USA      m  all_day_im_still_feeling_it   single          n   \n17213  34     USA      m                   half_a_day   single          n   \n17214  34     USA      m                   half_a_day   single          n   \n\n                      concepts  agency  social  \\\n0      shopping|family|romance       1       0   \n1                      animals       1       0   \n2                            0       1       0   \n3       vacation|party|weather       1       1   \n4                      animals       0       0   \n...                        ...     ...     ...   \n17210  romance|exercise|family       1       1   \n17211            entertainment       1       0   \n17212                  romance       1       1   \n17213         career|education       1       0   \n17214               technology       1       0   \n\n                                              clean_text  \n0               able spend day fiance shopping yesterday  \n1                                          able play cat  \n2                           able clean room gold laundry  \n3      spend day party beach happy see friend miss be...  \n4              cat greet get home work sweet cute loving  \n...                                                  ...  \n17210    wife go hike last week become amazingly inspire  \n17211                finally hit platinum rank overwatch  \n17212  one long time friend finally acknowledge love ...  \n17213                    earn professional certification  \n17214                                 build new computer  \n\n[17215 rows x 13 columns]",
      "text/html": "<div>\n<style scoped>\n    .dataframe tbody tr th:only-of-type {\n        vertical-align: middle;\n    }\n\n    .dataframe tbody tr th {\n        vertical-align: top;\n    }\n\n    .dataframe thead th {\n        text-align: right;\n    }\n</style>\n<table border=\"1\" class=\"dataframe\">\n  <thead>\n    <tr style=\"text-align: right;\">\n      <th></th>\n      <th>hmid</th>\n      <th>moment</th>\n      <th>reflection</th>\n      <th>age</th>\n      <th>country</th>\n      <th>gender</th>\n      <th>duration</th>\n      <th>married</th>\n      <th>parenthood</th>\n      <th>concepts</th>\n      <th>agency</th>\n      <th>social</th>\n      <th>clean_text</th>\n    </tr>\n  </thead>\n  <tbody>\n    <tr>\n      <th>0</th>\n      <td>0</td>\n      <td>I was able to spend the day with my fiance sho...</td>\n      <td>24h</td>\n      <td>28</td>\n      <td>USA</td>\n      <td>m</td>\n      <td>all_day_im_still_feeling_it</td>\n      <td>single</td>\n      <td>n</td>\n      <td>shopping|family|romance</td>\n      <td>1</td>\n      <td>0</td>\n      <td>able spend day fiance shopping yesterday</td>\n    </tr>\n    <tr>\n      <th>1</th>\n      <td>1</td>\n      <td>I was able to play with my cat.</td>\n      <td>24h</td>\n      <td>28</td>\n      <td>USA</td>\n      <td>m</td>\n      <td>at_least_one_hour</td>\n      <td>single</td>\n      <td>n</td>\n      <td>animals</td>\n      <td>1</td>\n      <td>0</td>\n      <td>able play cat</td>\n    </tr>\n    <tr>\n      <th>2</th>\n      <td>2</td>\n      <td>I was able to clean my room and gold my laundry.</td>\n      <td>24h</td>\n      <td>28</td>\n      <td>USA</td>\n      <td>m</td>\n      <td>at_least_one_hour</td>\n      <td>single</td>\n      <td>n</td>\n      <td>0</td>\n      <td>1</td>\n      <td>0</td>\n      <td>able clean room gold laundry</td>\n    </tr>\n    <tr>\n      <th>3</th>\n      <td>3</td>\n      <td>I spend the day at a party on the beach and I ...</td>\n      <td>24h</td>\n      <td>24</td>\n      <td>USA</td>\n      <td>m</td>\n      <td>half_a_day</td>\n      <td>single</td>\n      <td>n</td>\n      <td>vacation|party|weather</td>\n      <td>1</td>\n      <td>1</td>\n      <td>spend day party beach happy see friend miss be...</td>\n    </tr>\n    <tr>\n      <th>4</th>\n      <td>4</td>\n      <td>My cat greeting me when I got home from work -...</td>\n      <td>24h</td>\n      <td>24</td>\n      <td>USA</td>\n      <td>m</td>\n      <td>half_a_day</td>\n      <td>single</td>\n      <td>n</td>\n      <td>animals</td>\n      <td>0</td>\n      <td>0</td>\n      <td>cat greet get home work sweet cute loving</td>\n    </tr>\n    <tr>\n      <th>...</th>\n      <td>...</td>\n      <td>...</td>\n      <td>...</td>\n      <td>...</td>\n      <td>...</td>\n      <td>...</td>\n      <td>...</td>\n      <td>...</td>\n      <td>...</td>\n      <td>...</td>\n      <td>...</td>\n      <td>...</td>\n      <td>...</td>\n    </tr>\n    <tr>\n      <th>17210</th>\n      <td>21892</td>\n      <td>My wife and I went for a hike last week and we...</td>\n      <td>3m</td>\n      <td>34</td>\n      <td>USA</td>\n      <td>m</td>\n      <td>half_a_day</td>\n      <td>married</td>\n      <td>n</td>\n      <td>romance|exercise|family</td>\n      <td>1</td>\n      <td>1</td>\n      <td>wife go hike last week become amazingly inspire</td>\n    </tr>\n    <tr>\n      <th>17211</th>\n      <td>21893</td>\n      <td>I finally hit platinum rank in Overwatch.</td>\n      <td>3m</td>\n      <td>34</td>\n      <td>USA</td>\n      <td>m</td>\n      <td>at_least_one_hour</td>\n      <td>married</td>\n      <td>n</td>\n      <td>entertainment</td>\n      <td>1</td>\n      <td>0</td>\n      <td>finally hit platinum rank overwatch</td>\n    </tr>\n    <tr>\n      <th>17212</th>\n      <td>21897</td>\n      <td>One of my long-time friends and I finally ackn...</td>\n      <td>3m</td>\n      <td>34</td>\n      <td>USA</td>\n      <td>m</td>\n      <td>all_day_im_still_feeling_it</td>\n      <td>single</td>\n      <td>n</td>\n      <td>romance</td>\n      <td>1</td>\n      <td>1</td>\n      <td>one long time friend finally acknowledge love ...</td>\n    </tr>\n    <tr>\n      <th>17213</th>\n      <td>21898</td>\n      <td>I earned a professional certification.</td>\n      <td>3m</td>\n      <td>34</td>\n      <td>USA</td>\n      <td>m</td>\n      <td>half_a_day</td>\n      <td>single</td>\n      <td>n</td>\n      <td>career|education</td>\n      <td>1</td>\n      <td>0</td>\n      <td>earn professional certification</td>\n    </tr>\n    <tr>\n      <th>17214</th>\n      <td>21899</td>\n      <td>I built a new computer.</td>\n      <td>3m</td>\n      <td>34</td>\n      <td>USA</td>\n      <td>m</td>\n      <td>half_a_day</td>\n      <td>single</td>\n      <td>n</td>\n      <td>technology</td>\n      <td>1</td>\n      <td>0</td>\n      <td>build new computer</td>\n    </tr>\n  </tbody>\n</table>\n<p>17215 rows × 13 columns</p>\n</div>"
     },
     "execution_count": 18,
     "metadata": {},
     "output_type": "execute_result"
    }
   ],
   "source": [
    "df_test"
   ],
   "metadata": {
    "pycharm": {
     "name": "#%%\n"
    },
    "id": "d3PRkyvWBwOq",
    "outputId": "e7f792cb-fa4a-4514-f048-ba0dfac66174"
   }
  },
  {
   "cell_type": "code",
   "execution_count": 18,
   "outputs": [],
   "source": [],
   "metadata": {
    "collapsed": false,
    "pycharm": {
     "name": "#%%\n"
    }
   }
  },
  {
   "cell_type": "markdown",
   "source": [
    "TRAIN TEST SPLITTING OF LABELLED DATASET"
   ],
   "metadata": {
    "collapsed": false,
    "pycharm": {
     "name": "#%% md\n"
    },
    "id": "SnXiWclGBwOq"
   }
  },
  {
   "cell_type": "code",
   "execution_count": 19,
   "outputs": [],
   "source": [
    "#SPLITTING THE TRAINING DATASET INTO TRAINING AND VALIDATION\n",
    "\n",
    "# Input: \"reviewText\", \"rating\" and \"time\"\n",
    "# Target: \"log_votes\"\n",
    "#X_train, X_val, y_train, y_val = train_test_split(df_train[\"clean_text\"], df_train[\"agency\"],test_size=0.2,shuffle=True)\n",
    "\n",
    "X_train, X_val, y_train, y_val = train_test_split(df_train[\"clean_text\"], df_train[\"agency\"],test_size=0.2,shuffle=True)\n",
    "X_train_s, X_val_s, y_train_s, y_val_s = train_test_split(df_train[\"clean_text\"], df_train[\"social\"],test_size=0.2,shuffle=True)\n",
    "X_train_m, X_val_m, y_train_m, y_val_m = train_test_split(df_train[\"clean_text\"],pd.DataFrame({'agency':df_train[\"agency\"],'social':df_train[\"social\"]}),test_size=0.2,shuffle=True)\n",
    "# print(y_train_s)\n",
    "#print(len(X_train), len(y_train))\n"
   ],
   "metadata": {
    "pycharm": {
     "name": "#%%\n"
    },
    "id": "HKHjIB05BwOs"
   }
  },
  {
   "cell_type": "code",
   "execution_count": 20,
   "outputs": [],
   "source": [
    "\n",
    "# X_train_tok= [nltk.word_tokenize(i) for i in X_train]  #for word2vec\n",
    "# X_val_tok= [nltk.word_tokenize(i) for i in X_val]      #for word2vec\n",
    "#\n",
    "# X_train_tok_s= [nltk.word_tokenize(i) for i in X_train_s]  #for word2vec\n",
    "# X_val_tok_s= [nltk.word_tokenize(i) for i in X_val_s]      #for word2vec\n",
    "#\n",
    "# X_train_tok_m= [nltk.word_tokenize(i) for i in X_train_s]  #for word2vec\n",
    "# X_val_tok_m= [nltk.word_tokenize(i) for i in X_val_s]      #for word2vec\n",
    "\n",
    "# #TF-IDF\n",
    "# # Convert x_train to vector since model can only run on numbers and not words- Fit and transform\n",
    "# tfidf_vectorizer = TfidfVectorizer(use_idf=True)\n",
    "# X_train_vectors_tfidf = tfidf_vectorizer.fit_transform(X_train) #tfidf runs on non-tokenized sentences unlike word2vec\n",
    "# X_val_vectors_tfidf = tfidf_vectorizer.transform(X_val) #Don't fit() your TfidfVectorizer to your test data: it will\n",
    "# # #change the word-indexes & weights to match test data. Rather, fit on the training data, then use the same train-data-\n",
    "# # #fit model on the test data, to reflect the fact you're analyzing the test data only based on what was learned without\n",
    "# # #it, and the have compatible\n",
    "# X_train_vectors_tfidf_s = tfidf_vectorizer.fit_transform(X_train_s) #tfidf runs on non-tokenized sentences unlike word2vec\n",
    "# X_val_vectors_tfidf_s = tfidf_vectorizer.transform(X_val_s)\n",
    "#\n",
    "# X_train_vectors_tfidf_m = tfidf_vectorizer.fit_transform(X_train_s) #tfidf runs on non-tokenized sentences unlike word2vec\n",
    "# X_val_vectors_tfidf_m = tfidf_vectorizer.transform(X_val_s)\n",
    "\n",
    "#Word2vec\n",
    "# Fit and transform\n",
    "# modelw = MeanEmbeddingVectorizer(w2v)\n",
    "# X_train_vectors_w2v = modelw.transform(X_train_tok)\n",
    "# X_val_vectors_w2v = modelw.transform(X_val_tok)\n",
    "#\n",
    "# X_train_vectors_w2v_s = modelw.transform(X_train_tok_s)\n",
    "# X_val_vectors_w2v_s = modelw.transform(X_val_tok_s)\n",
    "#\n",
    "# X_train_vectors_w2v_m = modelw.transform(X_train_tok_m)\n",
    "# X_val_vectors_w2v_m = modelw.transform(X_val_tok_m)"
   ],
   "metadata": {
    "pycharm": {
     "name": "#%%\n"
    },
    "id": "8T21KeSRBwOs"
   }
  },
  {
   "cell_type": "code",
   "execution_count": 21,
   "outputs": [
    {
     "data": {
      "text/plain": "    hmid                                             moment          concepts  \\\n0  27674  I was happy when my son got 90% marks in his e...  education|family   \n1  27685          went to movies with my friends it was fun     entertainment   \n2  27691  A hot kiss with my girl friend last night made...           romance   \n3  27701  My son woke me up to a fantastic breakfast of ...       family|food   \n4  27712  My older daughter keeps patting my younger dau...            family   \n\n   agency  social   age country gender  married parenthood reflection  \\\n0       0       1  29.0     IND      m  married          y        24h   \n1       1       1  29.0     IND      m   single          y        24h   \n2       1       1  25.0     IND      m  married          y        24h   \n3       0       1    79     USA      f  widowed          y        24h   \n4       0       1    30     USA      f  married          y        24h   \n\n   word_count                                         clean_text  \n0          12                     happy son get mark examination  \n1           9                                go movie friend fun  \n2          12           hot kiss girl friend last night make day  \n3          17  son wake fantastic breakfast egg special hambu...  \n4           9          old daughter keep pat young daughter head  ",
      "text/html": "<div>\n<style scoped>\n    .dataframe tbody tr th:only-of-type {\n        vertical-align: middle;\n    }\n\n    .dataframe tbody tr th {\n        vertical-align: top;\n    }\n\n    .dataframe thead th {\n        text-align: right;\n    }\n</style>\n<table border=\"1\" class=\"dataframe\">\n  <thead>\n    <tr style=\"text-align: right;\">\n      <th></th>\n      <th>hmid</th>\n      <th>moment</th>\n      <th>concepts</th>\n      <th>agency</th>\n      <th>social</th>\n      <th>age</th>\n      <th>country</th>\n      <th>gender</th>\n      <th>married</th>\n      <th>parenthood</th>\n      <th>reflection</th>\n      <th>word_count</th>\n      <th>clean_text</th>\n    </tr>\n  </thead>\n  <tbody>\n    <tr>\n      <th>0</th>\n      <td>27674</td>\n      <td>I was happy when my son got 90% marks in his e...</td>\n      <td>education|family</td>\n      <td>0</td>\n      <td>1</td>\n      <td>29.0</td>\n      <td>IND</td>\n      <td>m</td>\n      <td>married</td>\n      <td>y</td>\n      <td>24h</td>\n      <td>12</td>\n      <td>happy son get mark examination</td>\n    </tr>\n    <tr>\n      <th>1</th>\n      <td>27685</td>\n      <td>went to movies with my friends it was fun</td>\n      <td>entertainment</td>\n      <td>1</td>\n      <td>1</td>\n      <td>29.0</td>\n      <td>IND</td>\n      <td>m</td>\n      <td>single</td>\n      <td>y</td>\n      <td>24h</td>\n      <td>9</td>\n      <td>go movie friend fun</td>\n    </tr>\n    <tr>\n      <th>2</th>\n      <td>27691</td>\n      <td>A hot kiss with my girl friend last night made...</td>\n      <td>romance</td>\n      <td>1</td>\n      <td>1</td>\n      <td>25.0</td>\n      <td>IND</td>\n      <td>m</td>\n      <td>married</td>\n      <td>y</td>\n      <td>24h</td>\n      <td>12</td>\n      <td>hot kiss girl friend last night make day</td>\n    </tr>\n    <tr>\n      <th>3</th>\n      <td>27701</td>\n      <td>My son woke me up to a fantastic breakfast of ...</td>\n      <td>family|food</td>\n      <td>0</td>\n      <td>1</td>\n      <td>79</td>\n      <td>USA</td>\n      <td>f</td>\n      <td>widowed</td>\n      <td>y</td>\n      <td>24h</td>\n      <td>17</td>\n      <td>son wake fantastic breakfast egg special hambu...</td>\n    </tr>\n    <tr>\n      <th>4</th>\n      <td>27712</td>\n      <td>My older daughter keeps patting my younger dau...</td>\n      <td>family</td>\n      <td>0</td>\n      <td>1</td>\n      <td>30</td>\n      <td>USA</td>\n      <td>f</td>\n      <td>married</td>\n      <td>y</td>\n      <td>24h</td>\n      <td>9</td>\n      <td>old daughter keep pat young daughter head</td>\n    </tr>\n  </tbody>\n</table>\n</div>"
     },
     "execution_count": 21,
     "metadata": {},
     "output_type": "execute_result"
    }
   ],
   "source": [
    "df_train.head()"
   ],
   "metadata": {
    "pycharm": {
     "name": "#%%\n"
    },
    "id": "aWurJBHFBwOs",
    "outputId": "8b85a412-3164-46d1-bc23-8c47ce0951f3",
    "colab": {
     "base_uri": "https://localhost:8080/",
     "height": 407
    }
   }
  },
  {
   "cell_type": "markdown",
   "source": [
    "Model Design"
   ],
   "metadata": {
    "collapsed": false,
    "pycharm": {
     "name": "#%% md\n"
    },
    "id": "DAqVyq24BwOt"
   }
  },
  {
   "cell_type": "markdown",
   "source": [
    "1. [20 marks] Train a simple classifier, as a baseline. It could be a traditional classifier (SVM, Random Forest, NB, or other), or using some pre-trained models based on deep learning (pre-trained word embeddings or other models)."
   ],
   "metadata": {
    "collapsed": false,
    "pycharm": {
     "name": "#%% md\n"
    },
    "id": "6HImllSHBwOt"
   }
  },
  {
   "cell_type": "markdown",
   "source": [
    "1). Logistic Regression with TF-IDF\n",
    "Start with the simplest one - Logistic Regression."
   ],
   "metadata": {
    "collapsed": false,
    "pycharm": {
     "name": "#%% md\n"
    },
    "id": "JYKkGE26BwOt"
   }
  },
  {
   "cell_type": "code",
   "execution_count": 22,
   "outputs": [],
   "source": [
    "# def LRwTFIDF(X_val):\n",
    "#     lr=LogisticRegression(solver = 'liblinear', C=10, penalty = 'l2')\n",
    "#     lr.fit(X_train_vectors_tfidf, y_train)  #model\n",
    "#\n",
    "#     #Predict y value for test dataset\n",
    "#     y_predict = lr.predict(X_val)\n",
    "#     y_prob = lr.predict_proba(X_val)[:,1]\n",
    "#     return y_predict,y_prob\n",
    "#\n",
    "# lr_y_predict,lr_y_prob = LRwTFIDF(X_val_vectors_tfidf)\n",
    "# print(classification_report(y_val,lr_y_predict))\n",
    "# print('Confusion Matrix:',confusion_matrix(y_val, lr_y_predict))\n",
    "#\n",
    "# fpr, tpr, thresholds = roc_curve(y_val, lr_y_prob)\n",
    "# roc_auc = auc(fpr, tpr)\n",
    "# print('AUC:', roc_auc)\n"
   ],
   "metadata": {
    "pycharm": {
     "name": "#%%\n"
    },
    "id": "UKfGoQ_jBwOu"
   }
  },
  {
   "cell_type": "code",
   "execution_count": 23,
   "outputs": [],
   "source": [
    "# def LRwTFIDF(X_val):\n",
    "#     lr=LogisticRegression(solver = 'liblinear', C=10, penalty = 'l2')\n",
    "#\n",
    "#     lr.fit(X_train_vectors_tfidf_s, y_train_s)  #model\n",
    "#\n",
    "#     #Predict y value for test dataset\n",
    "#     y_predict = lr.predict(X_val)\n",
    "#     y_prob = lr.predict_proba(X_val)[:,1]\n",
    "#     return y_predict,y_prob\n",
    "#\n",
    "# lr_y_predict,lr_y_prob = LRwTFIDF(X_val_vectors_tfidf_s)\n",
    "# print(classification_report(y_val_s,lr_y_predict))\n",
    "# print('Confusion Matrix:',confusion_matrix(y_val_s, lr_y_predict))\n",
    "#\n",
    "# fpr, tpr, thresholds = roc_curve(y_val_s, lr_y_prob)\n",
    "# roc_auc = auc(fpr, tpr)\n",
    "# print('AUC:', roc_auc)"
   ],
   "metadata": {
    "pycharm": {
     "name": "#%%\n"
    },
    "id": "lq0a7h_SBwOu"
   }
  },
  {
   "cell_type": "code",
   "execution_count": 24,
   "outputs": [],
   "source": [
    "# import numpy as np\n",
    "# from sklearn.datasets import load_linnerud\n",
    "# from sklearn.multioutput import MultiOutputClassifier\n",
    "# import xgboost as xgb\n",
    "# from sklearn.linear_model import Ridge\n",
    "# #X, y = load_linnerud(return_X_y=True)\n",
    "# # create XGBoost instance with default hyper-parameters\n",
    "# from skmultilearn.problem_transform import BinaryRelevance\n",
    "# #binary_rel_clf = BinaryRelevance(MultinomialNB())\n",
    "# binary_rel_clf = BinaryRelevance(LogisticRegression(solver = 'lbfgs'))\n",
    "# binary_rel_clf.fit(X_train_vectors_tfidf_m,y_train_m)\n",
    "# # BinaryRelevance(classifier=MultinomialNB(alpha=1.0, class_prior=None,\n",
    "# #                                          fit_prior=True),\n",
    "# #                 require_dense=[True, True])\n",
    "# BinaryRelevance(classifier=LogisticRegression(random_state= 0 ))\n",
    "# br_prediction = binary_rel_clf.predict(X_val_vectors_tfidf_m)\n",
    "# accuracy_score(y_val_m,br_prediction)\n",
    "#\n",
    "# print(classification_report(y_val_m,br_prediction))\n",
    "# print(accuracy_score(y_val_m,br_prediction))\n",
    "#\n",
    "\n",
    "# fpr, tpr, thresholds = roc_curve(y_val_s, y_prob)\n",
    "# roc_auc = auc(fpr, tpr)\n",
    "# print('AUC:', roc_auc)"
   ],
   "metadata": {
    "pycharm": {
     "name": "#%%\n"
    },
    "id": "Epi9-SKtBwOu"
   }
  },
  {
   "cell_type": "markdown",
   "source": [
    "2). Naive Bayes with TF-IDF\n",
    "It's a probabilistic classifier that makes use of Bayes' Theorem, a rule that uses probability to make predictions based on prior knowledge of conditions that might be related. This algorithm is the most suitable for such large dataset as it considers each feature independently, calculates the probability of each category, and then predicts the category with the highest probability.\n"
   ],
   "metadata": {
    "collapsed": false,
    "pycharm": {
     "name": "#%% md\n"
    },
    "id": "aDtk4zogBwOv"
   }
  },
  {
   "cell_type": "code",
   "execution_count": 25,
   "outputs": [],
   "source": [
    "# #FITTING THE CLASSIFICATION MODEL using Naive Bayes(tf-idf)\n",
    "# #It's a probabilistic classifier that makes use of Bayes' Theorem, a rule that uses probability to make predictions basDATAed on prior knowledge of conditions that might be related. This algorithm is the most suitable for such large dataset as it considers each feature independently, calculates the probability of each category, and then predicts the category with the highest probability.\n",
    "# def NBwTFIDF(X_val):\n",
    "#     nb_tfidf = MultinomialNB()\n",
    "#     nb_tfidf.fit(X_train_vectors_tfidf, y_train)  #model\n",
    "#\n",
    "#     #Predict y value for test dataset\n",
    "#     y_predict = nb_tfidf.predict(X_val)\n",
    "#     y_prob = nb_tfidf.predict_proba(X_val)[:,1]\n",
    "#     return y_predict,y_prob\n",
    "#\n",
    "# NB_y_predict, NB_y_prob = NBwTFIDF(X_val_vectors_tfidf)\n",
    "# print(classification_report(y_val,NB_y_predict))\n",
    "# print('Confusion Matrix:',confusion_matrix(y_val, NB_y_predict))\n",
    "#\n",
    "# fpr, tpr, thresholds = roc_curve(y_val, NB_y_prob)\n",
    "# roc_auc = auc(fpr, tpr)\n",
    "# print('AUC:', roc_auc)"
   ],
   "metadata": {
    "pycharm": {
     "name": "#%%\n"
    },
    "id": "esnRYlS1BwOv"
   }
  },
  {
   "cell_type": "code",
   "execution_count": 26,
   "outputs": [],
   "source": [
    "#FITTING THE CLASSIFICATION MODEL using Naive Bayes(tf-idf)\n",
    "#It's a probabilistic classifier that makes use of Bayes' Theorem, a rule that uses probability to make predictions basDATAed on prior knowledge of conditions that might be related. This algorithm is the most suitable for such large dataset as it considers each feature independently, calculates the probability of each category, and then predicts the category with the highest probability.\n",
    "# def NBwTFIDF(X_val):\n",
    "#     nb_tfidf = MultinomialNB()\n",
    "#     nb_tfidf.fit(X_train_vectors_tfidf_s, y_train_s)  #model\n",
    "#\n",
    "#     #Predict y value for test dataset\n",
    "#     y_predict = nb_tfidf.predict(X_val)\n",
    "#     y_prob = nb_tfidf.predict_proba(X_val)[:,1]\n",
    "#     return y_predict,y_prob\n",
    "#\n",
    "# NB_y_predict, NB_y_prob = NBwTFIDF(X_val_vectors_tfidf_s)\n",
    "# print(classification_report(y_val_s,NB_y_predict))\n",
    "# print('Confusion Matrix:',confusion_matrix(y_val_s, NB_y_predict))\n",
    "#\n",
    "# fpr, tpr, thresholds = roc_curve(y_val_s, NB_y_prob)\n",
    "# roc_auc = auc(fpr, tpr)\n",
    "# print('AUC:', roc_auc)"
   ],
   "metadata": {
    "pycharm": {
     "name": "#%%\n"
    },
    "id": "BNUqs3d-BwOv"
   }
  },
  {
   "cell_type": "markdown",
   "source": [
    "3). Logistic Regression with Word2Vec"
   ],
   "metadata": {
    "collapsed": false,
    "pycharm": {
     "name": "#%% md\n"
    },
    "id": "1FmdwhShBwOv"
   }
  },
  {
   "cell_type": "code",
   "execution_count": 27,
   "outputs": [],
   "source": [
    "# #FITTING THE CLASSIFICATION MODEL using Logistic Regression (W2v)\n",
    "# def LRwW2V(X_val):\n",
    "#     lr_w2v=LogisticRegression(solver = 'liblinear', C=10, penalty = 'l2')\n",
    "#     lr_w2v.fit(X_train_vectors_w2v, y_train)  #model\n",
    "#\n",
    "#     #Predict y value for test dataset\n",
    "#     y_predict = lr_w2v.predict(X_val)\n",
    "#     y_prob = lr_w2v.predict_proba(X_val)[:,1]\n",
    "#     return y_predict,y_prob\n",
    "#\n",
    "# lr_w2v_predict,lr_w2v_prob = LRwW2V(X_val_vectors_w2v)\n",
    "# print(classification_report(y_val,lr_w2v_predict))\n",
    "# print('Confusion Matrix:',confusion_matrix(y_val, lr_w2v_predict))\n",
    "#\n",
    "# fpr, tpr, thresholds = roc_curve(y_val, lr_w2v_prob)\n",
    "# roc_auc = auc(fpr, tpr)\n",
    "# print('AUC:', roc_auc)\n"
   ],
   "metadata": {
    "pycharm": {
     "name": "#%%\n"
    },
    "id": "NcPeKdFLBwOw"
   }
  },
  {
   "cell_type": "code",
   "execution_count": 28,
   "outputs": [],
   "source": [
    "\n",
    "# def NBwW2V(X_val):\n",
    "#     nb_w2v = MultinomialNB()\n",
    "#     nb_w2v.fit(X_train_vectors_w2v, y_train)  #model\n",
    "#\n",
    "#     #Predict y value for test dataset\n",
    "#     y_predict = nb_w2v.predict(X_val)\n",
    "#     y_prob = nb_w2v.predict_proba(X_val)[:,1]\n",
    "#     return y_predict,y_prob\n",
    "# NB_w2v_predict, NB_w2v_prob = NBwW2V(X_val_vectors_w2v)\n",
    "# print(classification_report(y_val,NB_w2v_predict))\n",
    "# print('Confusion Matrix:',confusion_matrix(y_val, NB_w2v_predict))\n",
    "#\n",
    "# fpr, tpr, thresholds = roc_curve(y_val, NB_w2v_prob)\n",
    "# roc_auc = auc(fpr, tpr)\n",
    "# print('AUC:', roc_auc)"
   ],
   "metadata": {
    "pycharm": {
     "name": "#%%\n"
    },
    "id": "ISkNMF6IBwOw"
   }
  },
  {
   "cell_type": "markdown",
   "source": [
    "Tokenized with Bert"
   ],
   "metadata": {
    "collapsed": false,
    "pycharm": {
     "name": "#%% md\n"
    },
    "id": "AsbEQjVkBwOw"
   }
  },
  {
   "cell_type": "code",
   "execution_count": 29,
   "outputs": [],
   "source": [
    "from transformers import BertTokenizer\n",
    "from torch.utils.data import TensorDataset, DataLoader, RandomSampler, SequentialSampler\n",
    "tokenizer = BertTokenizer.from_pretrained('bert-base-uncased', do_lower_case=True, model_max_length=512)\n",
    "# tokenized_texts\n",
    "#df_train['clean_text_bert']=[tokenizer.tokenize(i) for i in df_train['clean_text']] #convert preprocessed sentence to tokenized sentence\n",
    "\n",
    "##As BERT can only accept/take as input only 512 tokens at a time, we must specify the truncation parameter to True. The add special tokens parameter is just for BERT to add tokens like the start, end, [SEP], and [CLS] tokens. Return_tensors = “pt” is just for the tokenizer to return PyTorch tensors.\n",
    "# for i in df_train[\"clean_text\"]:\n",
    "#     print(i)\n",
    "#     encoding = tokenizer.encode_plus(i , add_special_tokens = True,    truncation = True, padding = \"max_length\", return_attention_mask = True, return_tensors = \"pt\")\n",
    "\n",
    "##The main difference between tokenizer.encode_plus() and tokenizer.encode() is that tokenizer.encode_plus() returns more information. Specifically, it returns the actual input ids, the attention masks, and the token type ids, and it returns all of these in a dictionary. tokenizer.encode() only returns the input ids, and it returns this either as a list or a tensor depending on the parameter, return_tensors = “pt”.\n",
    "# encoding = tokenizer.encode_plus([i for i in df_train[\"clean_text\"]] , add_special_tokens = True,    truncation = True, padding = \"max_length\", return_attention_mask = True, return_tensors = \"pt\")\n",
    "\n"
   ],
   "metadata": {
    "pycharm": {
     "name": "#%%\n"
    },
    "id": "cJxf5V8EBwOx"
   }
  },
  {
   "cell_type": "code",
   "execution_count": 30,
   "outputs": [
    {
     "name": "stdout",
     "output_type": "stream",
     "text": [
      "Max length:  155\n"
     ]
    }
   ],
   "source": [
    "# Concatenate train data and test data\n",
    "all_text = np.concatenate([df_train.moment.values, df_test.moment.values])\n",
    "\n",
    "# Encode our concatenated data\n",
    "encoded_text = [tokenizer.encode(i, add_special_tokens=True) for i in all_text]\n",
    "\n",
    "# Find the maximum length\n",
    "max_len = max([len(i) for i in encoded_text])\n",
    "print('Max length: ', max_len)"
   ],
   "metadata": {
    "pycharm": {
     "name": "#%%\n"
    },
    "id": "cDfSQ6qQBwOx",
    "outputId": "ebb5f830-602c-4f3e-950c-4d0726d12fdd",
    "colab": {
     "base_uri": "https://localhost:8080/"
    }
   }
  },
  {
   "cell_type": "code",
   "execution_count": 31,
   "outputs": [],
   "source": [
    "def preprocessing_for_bert(data):\n",
    "    \"\"\"Perform required preprocessing steps for pretrained BERT.\n",
    "    @param    data (np.array): Array of texts to be processed.\n",
    "    @return   input_ids (torch.Tensor): Tensor of token ids to be fed to a model.\n",
    "    @return   attention_masks (torch.Tensor): Tensor of indices specifying which\n",
    "                  tokens should be attended to by the model.\n",
    "    \"\"\"\n",
    "    # Create empty lists to store outputs\n",
    "    input_ids = []\n",
    "    attention_masks = []\n",
    "    MAX_LEN = 128\n",
    "\n",
    "    # For every sentence...\n",
    "    for i in data:\n",
    "        # `encode_plus` will:\n",
    "        #    (1) Tokenize the sentence\n",
    "        #    (2) Add the `[CLS]` and `[SEP]` token to the start and end\n",
    "        #    (3) Truncate/Pad sentence to max length\n",
    "        #    (4) Map tokens to their IDs\n",
    "        #    (5) Create attention mask\n",
    "        #    (6) Return a dictionary of outputs\n",
    "        encoded_sent = tokenizer.encode_plus(\n",
    "            text = i ,  # Preprocess sentence\n",
    "            add_special_tokens=True,        # Add `[CLS]` and `[SEP]`\n",
    "            max_length=MAX_LEN,                  # Max length to truncate/pad\n",
    "            pad_to_max_length=True,         # Pad sentence to max length\n",
    "            #return_tensors='pt',           # Return PyTorch tensor\n",
    "            return_attention_mask=True      # Return attention mask\n",
    "            )\n",
    "\n",
    "        # Add the outputs to the lists\n",
    "        input_ids.append(encoded_sent.get('input_ids'))\n",
    "        attention_masks.append(encoded_sent.get('attention_mask'))\n",
    "\n",
    "    # # Convert lists to tensors\n",
    "    # input_ids = torch.tensor(input_ids)\n",
    "    # attention_masks = torch.tensor(attention_masks)\n",
    "\n",
    "    return input_ids, attention_masks\n",
    "\n"
   ],
   "metadata": {
    "pycharm": {
     "name": "#%%\n"
    },
    "id": "8xlJ2nf3BwOy"
   }
  },
  {
   "cell_type": "markdown",
   "source": [],
   "metadata": {
    "collapsed": false,
    "id": "dHEjc6hgBwOy"
   }
  },
  {
   "cell_type": "code",
   "execution_count": 32,
   "outputs": [],
   "source": [
    "#prepare input under agency/sociality/combined class\n",
    "train_inputs, train_masks = preprocessing_for_bert(X_train)\n",
    "val_inputs, val_masks = preprocessing_for_bert(X_val)\n",
    "\n",
    "train_inputs_s, train_masks_s = preprocessing_for_bert(X_train_s)\n",
    "val_inputs_s, val_masks_s = preprocessing_for_bert(X_val_s)\n",
    "\n",
    "train_inputs_m, train_masks_m = preprocessing_for_bert(X_train_m)\n",
    "val_inputs_m, val_masks_m = preprocessing_for_bert(X_val_m)\n",
    "\n",
    "\n"
   ],
   "metadata": {
    "pycharm": {
     "name": "#%%\n"
    },
    "id": "LzMzVcKRBwOy",
    "colab": {
     "base_uri": "https://localhost:8080/"
    },
    "outputId": "17b828b1-5644-442f-e40e-0a9d2d41165a"
   }
  },
  {
   "cell_type": "code",
   "execution_count": 33,
   "outputs": [],
   "source": [
    "test_inputs, test_masks = preprocessing_for_bert(df_test['clean_text'])"
   ],
   "metadata": {
    "collapsed": false,
    "pycharm": {
     "name": "#%%\n"
    }
   }
  },
  {
   "cell_type": "markdown",
   "source": [
    "Basic classifiers under Bert tokenizer"
   ],
   "metadata": {
    "collapsed": false,
    "pycharm": {
     "name": "#%% md\n"
    },
    "id": "Pg2XMPgCBwOz"
   }
  },
  {
   "cell_type": "code",
   "execution_count": 34,
   "outputs": [],
   "source": [
    "# #FITTING THE CLASSIFICATION MODEL using Logistic Regression (W2v)\n",
    "# def LRwBERT(X_val):\n",
    "#     lr_bert=LogisticRegression(solver = 'liblinear', C=10, penalty = 'l2')\n",
    "#     lr_bert.fit(train_inputs, y_train)  #model\n",
    "#\n",
    "#     #Predict y value for test dataset\n",
    "#     y_predict = lr_bert.predict(X_val)\n",
    "#     y_prob = lr_bert.predict_proba(X_val)[:,1]\n",
    "#     return y_predict,y_prob\n",
    "#\n",
    "# lr_bert_predict,lr_bert_prob = LRwBERT(val_inputs)\n",
    "# print(classification_report(y_val,lr_bert_predict))\n",
    "# print('Confusion Matrix:',confusion_matrix(y_val, lr_bert_predict))\n",
    "#\n",
    "# fpr, tpr, thresholds = roc_curve(y_val, lr_bert_prob)\n",
    "# roc_auc = auc(fpr, tpr)\n",
    "# print('AUC:', roc_auc)\n"
   ],
   "metadata": {
    "pycharm": {
     "name": "#%%\n"
    },
    "id": "AumLhQTzBwOz"
   }
  },
  {
   "cell_type": "code",
   "execution_count": 35,
   "outputs": [],
   "source": [
    "#FITTING THE CLASSIFICATION MODEL using Logistic Regression (W2v)\n",
    "# def LRwBERT(X_val):\n",
    "#     lr_bert=LogisticRegression(solver = 'liblinear', C=10, penalty = 'l2')\n",
    "#     lr_bert.fit(train_inputs_s, y_train_s)  #model\n",
    "#\n",
    "#     #Predict y value for test dataset\n",
    "#     y_predict = lr_bert.predict(X_val)\n",
    "#     y_prob = lr_bert.predict_proba(X_val)[:,1]\n",
    "#     return y_predict,y_prob\n",
    "#\n",
    "# lr_bert_predict,lr_bert_prob = LRwBERT(val_inputs_s)\n",
    "# print(classification_report(y_val_s,lr_bert_predict))\n",
    "# print('Confusion Matrix:',confusion_matrix(y_val_s, lr_bert_predict))\n",
    "#\n",
    "# fpr, tpr, thresholds = roc_curve(y_val_s, lr_bert_prob)\n",
    "# roc_auc = auc(fpr, tpr)\n",
    "# print('AUC:', roc_auc)"
   ],
   "metadata": {
    "pycharm": {
     "name": "#%%\n"
    },
    "id": "qH4pWS23BwOz"
   }
  },
  {
   "cell_type": "code",
   "execution_count": 36,
   "outputs": [],
   "source": [
    "# def NBwBERT(X_val):\n",
    "#     nb_tfidf = MultinomialNB()\n",
    "#     nb_tfidf.fit(train_inputs, y_train)  #model\n",
    "#\n",
    "#     #Predict y value for test dataset\n",
    "#     y_predict = nb_tfidf.predict(X_val)\n",
    "#     y_prob = nb_tfidf.predict_proba(X_val)[:,1]\n",
    "#     return y_predict,y_prob\n",
    "# nb_bert_predict,nb_bert_prob = NBwW2V(val_inputs)\n",
    "# print(classification_report(y_val,nb_bert_predict))\n",
    "# print('Confusion Matrix:',confusion_matrix(y_val, nb_bert_predict))\n",
    "#\n",
    "# fpr, tpr, thresholds = roc_curve(y_val, nb_bert_prob)\n",
    "# roc_auc = auc(fpr, tpr)\n",
    "# print('AUC:', roc_auc)"
   ],
   "metadata": {
    "pycharm": {
     "name": "#%%\n"
    },
    "id": "2-1Yt5kmBwO0"
   }
  },
  {
   "cell_type": "code",
   "execution_count": 37,
   "outputs": [
    {
     "name": "stdout",
     "output_type": "stream",
     "text": [
      "<class 'pandas.core.series.Series'>\n",
      "<torch.utils.data.dataset.TensorDataset object at 0x7f473b2830a0>\n"
     ]
    }
   ],
   "source": [
    "import torch\n",
    "from torch.utils.data import TensorDataset, DataLoader\n",
    "\n",
    "batch_size = 32\n",
    "print(type(y_train))\n",
    "\n",
    "datasets = {\n",
    "    'train_a': TensorDataset(torch.tensor(train_inputs), torch.tensor(train_masks), torch.tensor(y_train.values)),\n",
    "    'val_a': TensorDataset(torch.tensor(val_inputs), torch.tensor(val_masks), torch.tensor(y_val.values)),\n",
    "    'train_s': TensorDataset(torch.tensor(train_inputs_s), torch.tensor(train_masks_s), torch.tensor(y_train_s.values)),\n",
    "    'val_s': TensorDataset(torch.tensor(val_inputs_s), torch.tensor(val_masks_s), torch.tensor(y_val_s.values)),\n",
    "    'test': TensorDataset(torch.tensor(test_inputs), torch.tensor(test_masks), torch.tensor(df_test['social'].values)),\n",
    "\n",
    "}\n",
    "print(datasets['train_a'])\n",
    "dataloaders = {\n",
    "    'train_a': DataLoader(datasets['train_a'], batch_size=batch_size),\n",
    "    'val_a': DataLoader(datasets['val_a'], batch_size=batch_size),\n",
    "    'train_s': DataLoader(datasets['train_s'], batch_size=batch_size),\n",
    "    'val_s': DataLoader(datasets['val_s'], batch_size=batch_size),\n",
    "    'test': DataLoader(datasets['test'], batch_size=batch_size),\n",
    "}"
   ],
   "metadata": {
    "pycharm": {
     "name": "#%%\n"
    },
    "id": "gNeS39X_BwO0"
   }
  },
  {
   "cell_type": "code",
   "execution_count": 37,
   "outputs": [],
   "source": [],
   "metadata": {
    "pycharm": {
     "name": "#%%\n"
    },
    "id": "eXsutI0bBwO1"
   }
  },
  {
   "cell_type": "markdown",
   "source": [
    "2. [30 marks] Train an advanced classifier based on deep learning, such as fine-tuning BERT. You can try predicting both labels independently, or in a multi-task manner. Use part of the training data for validation, and keep aside the test data when choosing the best model.\n"
   ],
   "metadata": {
    "collapsed": false,
    "pycharm": {
     "name": "#%% md\n"
    },
    "id": "cE1MUmYaBwO1"
   }
  },
  {
   "cell_type": "code",
   "execution_count": 38,
   "outputs": [],
   "source": [
    "import torch\n",
    "import torch.nn as nn\n",
    "from transformers import BertModel\n",
    "\n",
    "# Create the BertClassfier class\n",
    "class BertClassifier(nn.Module):\n",
    "    \"\"\"Bert Model for Classification Tasks.\n",
    "    \"\"\"\n",
    "    def __init__(self, freeze_bert=False):\n",
    "        \"\"\"\n",
    "        @param    bert: a BertModel object\n",
    "        @param    classifier: a torch.nn.Module classifier\n",
    "        @param    freeze_bert (bool): Set `False` to fine-tune the BERT model\n",
    "        \"\"\"\n",
    "        super(BertClassifier, self).__init__()\n",
    "        # Specify hidden size of BERT, hidden size of our classifier, and number of labels\n",
    "        D_in, H, D_out = 768, 50, 2\n",
    "\n",
    "        # Instantiate BERT model\n",
    "        self.bert = BertModel.from_pretrained('bert-base-uncased')\n",
    "\n",
    "        # Instantiate an one-layer feed-forward classifier\n",
    "        self.classifier = nn.Sequential(\n",
    "            nn.Linear(D_in, H),\n",
    "            nn.ReLU(),\n",
    "            nn.Dropout(0.1),\n",
    "            nn.Linear(H, D_out)\n",
    "        )\n",
    "\n",
    "        # Freeze the BERT model\n",
    "        if freeze_bert:\n",
    "            for param in self.bert.parameters():\n",
    "                param.requires_grad = False\n",
    "\n",
    "\n",
    "    def forward(self, input_ids, attention_mask):\n",
    "        \"\"\"\n",
    "        Feed input to BERT and the classifier to compute logits.\n",
    "        @param    input_ids (torch.Tensor): an input tensor with shape (batch_size,\n",
    "                      max_length)\n",
    "        @param    attention_mask (torch.Tensor): a tensor that hold attention mask\n",
    "                      information with shape (batch_size, max_length)\n",
    "        @return   logits (torch.Tensor): an output tensor with shape (batch_size,\n",
    "                      num_labels)\n",
    "        \"\"\"\n",
    "        # Feed input to BERT\n",
    "        outputs = self.bert(input_ids=input_ids,\n",
    "                            attention_mask=attention_mask)\n",
    "\n",
    "        # Extract the last hidden state of the token `[CLS]` for classification task\n",
    "        last_hidden_state_cls = outputs[0][:, 0, :]\n",
    "\n",
    "        # Feed input to classifier to compute logits\n",
    "        logits = self.classifier(last_hidden_state_cls)\n",
    "\n",
    "        return logits"
   ],
   "metadata": {
    "pycharm": {
     "name": "#%%\n"
    },
    "id": "AI7-EPBmBwO2"
   }
  },
  {
   "cell_type": "markdown",
   "source": [],
   "metadata": {
    "collapsed": false,
    "id": "l8q6XsqaBwO2"
   }
  },
  {
   "cell_type": "code",
   "execution_count": 39,
   "outputs": [
    {
     "name": "stdout",
     "output_type": "stream",
     "text": [
      "running on the GPU\n"
     ]
    }
   ],
   "source": [
    "\n",
    "if torch.cuda.is_available():\n",
    "    device = torch.device(\"cuda:0\")\n",
    "    print(\"running on the GPU\")\n",
    "else:\n",
    "    device = torch.device(\"cpu\")\n",
    "    print(\"running on the CPU\")\n"
   ],
   "metadata": {
    "pycharm": {
     "name": "#%%\n"
    },
    "id": "O6sI2YXABwO2",
    "outputId": "91e14c35-1a01-403a-96b2-e1a216b9c60a",
    "colab": {
     "base_uri": "https://localhost:8080/"
    }
   }
  },
  {
   "cell_type": "code",
   "execution_count": 40,
   "outputs": [],
   "source": [
    "from transformers import AdamW, get_linear_schedule_with_warmup\n",
    "\n",
    "def initialize_model(test_loader, epochs=4):\n",
    "    \"\"\"Initialize the Bert Classifier, the optimizer and the learning rate scheduler.\n",
    "    \"\"\"\n",
    "    # Instantiate Bert Classifier\n",
    "    bert_classifier = BertClassifier(freeze_bert=False)\n",
    "\n",
    "    # Tell PyTorch to run the model on GPU\n",
    "    bert_classifier.to(device)\n",
    "\n",
    "    # Create the optimizer\n",
    "    optimizer = AdamW(bert_classifier.parameters(),\n",
    "                      lr=5e-5,    # Default learning rate\n",
    "                      eps=1e-8    # Default epsilon value\n",
    "                      )\n",
    "\n",
    "    # Total number of training steps\n",
    "    total_steps = len(test_loader) * epochs\n",
    "\n",
    "    # Set up the learning rate scheduler\n",
    "    scheduler = get_linear_schedule_with_warmup(optimizer,\n",
    "                                                num_warmup_steps=0, # Default value\n",
    "                                                num_training_steps=total_steps)\n",
    "    return bert_classifier, optimizer, scheduler\n"
   ],
   "metadata": {
    "pycharm": {
     "name": "#%%\n"
    },
    "id": "3_wO_jGSBwO2"
   }
  },
  {
   "cell_type": "code",
   "execution_count": 40,
   "outputs": [],
   "source": [],
   "metadata": {
    "pycharm": {
     "name": "#%%\n"
    },
    "id": "Ch4CEVv6BwO4"
   }
  },
  {
   "cell_type": "code",
   "execution_count": 41,
   "outputs": [],
   "source": [
    "def evaluate(model, val_dataloader):\n",
    "    \"\"\"After the completion of each training epoch, measure the model's performance\n",
    "    on our validation set.\n",
    "    \"\"\"\n",
    "    # Put the model into the evaluation mode. The dropout layers are disabled during\n",
    "    # the test time.\n",
    "    model.eval()\n",
    "\n",
    "    # Tracking variables\n",
    "    val_accuracy = []\n",
    "    val_loss = []\n",
    "\n",
    "\n",
    "    # For each batch in our validation set...\n",
    "    for batch in val_dataloader:\n",
    "        # Load batch to GPU\n",
    "        input_ids, attn_mask, labels = tuple(t.to(device) for t in batch)\n",
    "\n",
    "\n",
    "        # Compute logits\n",
    "        with torch.no_grad():\n",
    "            logits = model(input_ids, attn_mask)\n",
    "\n",
    "        # Compute loss\n",
    "        loss = loss_fn(logits, labels)\n",
    "        val_loss.append(loss.item())\n",
    "\n",
    "        # Get the predictions\n",
    "        preds = torch.argmax(logits, dim=1).flatten()\n",
    "\n",
    "\n",
    "        # Calculate the accuracy rate\n",
    "        accuracy = (preds == labels).cpu().numpy().mean() * 100\n",
    "        val_accuracy.append(accuracy)\n",
    "\n",
    "\n",
    "    # Compute the average accuracy and loss over the validation set.\n",
    "\n",
    "    val_loss = np.mean(val_loss)\n",
    "    val_accuracy = np.mean(val_accuracy)\n",
    "\n",
    "\n",
    "    return val_loss, val_accuracy\n",
    "\n",
    "\n",
    "#import random\n",
    "import time\n",
    "import torch.nn as nn\n",
    "import random \n",
    "# Specify loss function\n",
    "loss_fn = nn.CrossEntropyLoss()\n",
    "\n",
    "def set_seed(seed_value=42):\n",
    "    \"\"\"Set seed for reproducibility.\n",
    "    \"\"\"\n",
    "    random.seed(seed_value)\n",
    "    np.random.seed(seed_value)\n",
    "    torch.manual_seed(seed_value)\n",
    "    torch.cuda.manual_seed_all(seed_value)\n",
    "\n",
    "def train(model, train_dataloader, val_dataloader=None, epochs=4, evaluation=False):\n",
    "    \"\"\"Train the BertClassifier model.\n",
    "    \"\"\"\n",
    "    # Start training loop\n",
    "    print(\"Start training...\\n\")\n",
    "    for epoch_i in range(epochs):\n",
    "        # =======================================\n",
    "        #               Training\n",
    "        # =======================================\n",
    "        # Print the header of the result table\n",
    "        print(f\"{'Epoch':^7} | {'Batch':^7} | {'Train Loss':^12} | {'Val Loss':^10} | {'Val Acc':^9} | {'Elapsed':^9}\")\n",
    "        print(\"-\"*70)\n",
    "\n",
    "        # Measure the elapsed time of each epoch\n",
    "        t0_epoch, t0_batch = time.time(), time.time()\n",
    "\n",
    "        # Reset tracking variables at the beginning of each epoch\n",
    "        total_loss, batch_loss, batch_counts = 0, 0, 0\n",
    "\n",
    "        # Put the model into the training mode\n",
    "        model.train()\n",
    "\n",
    "        # For each batch of training data...\n",
    "        # For each batch of training data...\n",
    "        for step, batch in enumerate(train_dataloader):\n",
    "            batch_counts +=1\n",
    "            # Load batch to GPU\n",
    "            input_ids, attn_mask,labels = tuple(t.to(device) for t in batch)\n",
    "\n",
    "\n",
    "            # Zero out any previously calculated gradients\n",
    "            model.zero_grad()\n",
    "\n",
    "            # Perform a forward pass. This will return logits.\n",
    "            logits = model(input_ids, attn_mask)\n",
    "\n",
    "            # Compute loss and accumulate the loss values\n",
    "            loss = loss_fn(logits, labels)\n",
    "            batch_loss += loss.item()\n",
    "            total_loss += loss.item()\n",
    "\n",
    "            # Perform a backward pass to calculate gradients\n",
    "            loss.backward()\n",
    "\n",
    "\n",
    "            # Clip the norm of the gradients to 1.0 to prevent \"exploding gradients\"\n",
    "            torch.nn.utils.clip_grad_norm_(model.parameters(), 1.0)\n",
    "\n",
    "            # Update parameters and the learning rate\n",
    "            optimizer.step()\n",
    "            scheduler.step()\n",
    "\n",
    "            # Print the loss values and time elapsed for every 20 batches\n",
    "            if (step % 20 == 0 and step != 0) or (step == len(train_dataloader) - 1):\n",
    "                # Calculate time elapsed for 20 batches\n",
    "                time_elapsed = time.time() - t0_batch\n",
    "\n",
    "                # Print training results\n",
    "                print(f\"{epoch_i + 1:^7} | {step:^7} | {batch_loss / batch_counts:^12.6f} | {'-':^10} | {'-':^9} | {time_elapsed:^9.2f}\")\n",
    "\n",
    "                # Reset batch tracking variables\n",
    "                batch_loss, batch_counts = 0, 0\n",
    "                t0_batch = time.time()\n",
    "\n",
    "        # Calculate the average loss over the entire training data\n",
    "        avg_train_loss = total_loss / len(train_dataloader)\n",
    "\n",
    "        print(\"-\"*70)\n",
    "        # =======================================\n",
    "        #               Evaluation\n",
    "        # =======================================\n",
    "        if evaluation == True:\n",
    "            # After the completion of each training epoch, measure the model's performance\n",
    "            # on our validation set.\n",
    "            val_loss, val_accuracy = evaluate(model, val_dataloader)\n",
    "\n",
    "            # Print performance over the entire training data\n",
    "            time_elapsed = time.time() - t0_epoch\n",
    "\n",
    "            print(f\"{epoch_i + 1:^7} | {'-':^7} | {avg_train_loss:^12.6f} | {val_loss:^10.6f} | {val_accuracy:^9.2f} | {time_elapsed:^9.2f}\")\n",
    "            print(\"-\"*70)\n",
    "        print(\"\\n\")\n",
    "\n",
    "    print(\"Training complete!\")\n"
   ],
   "metadata": {
    "pycharm": {
     "name": "#%%\n"
    },
    "id": "kYtWeZ6rBwO4"
   }
  },
  {
   "cell_type": "code",
   "execution_count": 42,
   "outputs": [
    {
     "name": "stdout",
     "output_type": "stream",
     "text": [
      "Start training...\n",
      "\n",
      " Epoch  |  Batch  |  Train Loss  |  Val Loss  |  Val Acc  |  Elapsed \n",
      "----------------------------------------------------------------------\n",
      "   1    |   20    |   0.580162   |     -      |     -     |   9.29   \n",
      "   1    |   40    |   0.467818   |     -      |     -     |   8.91   \n",
      "   1    |   60    |   0.386101   |     -      |     -     |   8.97   \n",
      "   1    |   80    |   0.383883   |     -      |     -     |   9.02   \n",
      "   1    |   100   |   0.385418   |     -      |     -     |   9.07   \n",
      "   1    |   120   |   0.434022   |     -      |     -     |   9.13   \n",
      "   1    |   140   |   0.368804   |     -      |     -     |   9.14   \n",
      "   1    |   160   |   0.379477   |     -      |     -     |   9.17   \n",
      "   1    |   180   |   0.346050   |     -      |     -     |   9.30   \n",
      "   1    |   200   |   0.363576   |     -      |     -     |   9.43   \n",
      "   1    |   220   |   0.348788   |     -      |     -     |   9.46   \n",
      "   1    |   240   |   0.354708   |     -      |     -     |   9.49   \n",
      "   1    |   260   |   0.387075   |     -      |     -     |   9.50   \n",
      "   1    |   263   |   0.367362   |     -      |     -     |   1.42   \n",
      "----------------------------------------------------------------------\n",
      "   1    |    -    |   0.399242   |  0.334354  |   85.37   |  132.01  \n",
      "----------------------------------------------------------------------\n",
      "\n",
      "\n",
      " Epoch  |  Batch  |  Train Loss  |  Val Loss  |  Val Acc  |  Elapsed \n",
      "----------------------------------------------------------------------\n",
      "   2    |   20    |   0.322990   |     -      |     -     |   9.98   \n",
      "   2    |   40    |   0.317569   |     -      |     -     |   9.51   \n",
      "   2    |   60    |   0.298563   |     -      |     -     |   9.52   \n",
      "   2    |   80    |   0.266513   |     -      |     -     |   9.48   \n",
      "   2    |   100   |   0.255703   |     -      |     -     |   9.50   \n",
      "   2    |   120   |   0.320193   |     -      |     -     |   9.51   \n",
      "   2    |   140   |   0.222815   |     -      |     -     |   9.53   \n",
      "   2    |   160   |   0.271391   |     -      |     -     |   9.50   \n",
      "   2    |   180   |   0.223100   |     -      |     -     |   9.51   \n",
      "   2    |   200   |   0.277001   |     -      |     -     |   9.51   \n",
      "   2    |   220   |   0.272577   |     -      |     -     |   9.51   \n",
      "   2    |   240   |   0.237130   |     -      |     -     |   9.52   \n",
      "   2    |   260   |   0.290797   |     -      |     -     |   9.52   \n",
      "   2    |   263   |   0.240263   |     -      |     -     |   1.43   \n",
      "----------------------------------------------------------------------\n",
      "   2    |    -    |   0.274889   |  0.347941  |   85.42   |  136.31  \n",
      "----------------------------------------------------------------------\n",
      "\n",
      "\n",
      " Epoch  |  Batch  |  Train Loss  |  Val Loss  |  Val Acc  |  Elapsed \n",
      "----------------------------------------------------------------------\n",
      "   3    |   20    |   0.223713   |     -      |     -     |   10.00  \n",
      "   3    |   40    |   0.221586   |     -      |     -     |   9.53   \n",
      "   3    |   60    |   0.233923   |     -      |     -     |   9.53   \n",
      "   3    |   80    |   0.207452   |     -      |     -     |   9.52   \n",
      "   3    |   100   |   0.204449   |     -      |     -     |   9.53   \n",
      "   3    |   120   |   0.248466   |     -      |     -     |   9.50   \n",
      "   3    |   140   |   0.168345   |     -      |     -     |   9.51   \n",
      "   3    |   160   |   0.213032   |     -      |     -     |   9.54   \n",
      "   3    |   180   |   0.184642   |     -      |     -     |   9.52   \n",
      "   3    |   200   |   0.223060   |     -      |     -     |   9.52   \n",
      "   3    |   220   |   0.241721   |     -      |     -     |   9.55   \n",
      "   3    |   240   |   0.223580   |     -      |     -     |   9.52   \n",
      "   3    |   260   |   0.279446   |     -      |     -     |   9.54   \n",
      "   3    |   263   |   0.241310   |     -      |     -     |   1.43   \n",
      "----------------------------------------------------------------------\n",
      "   3    |    -    |   0.221273   |  0.347941  |   85.42   |  136.49  \n",
      "----------------------------------------------------------------------\n",
      "\n",
      "\n",
      " Epoch  |  Batch  |  Train Loss  |  Val Loss  |  Val Acc  |  Elapsed \n",
      "----------------------------------------------------------------------\n",
      "   4    |   20    |   0.242075   |     -      |     -     |   9.99   \n",
      "   4    |   40    |   0.228503   |     -      |     -     |   9.52   \n",
      "   4    |   60    |   0.228343   |     -      |     -     |   9.51   \n",
      "   4    |   80    |   0.205919   |     -      |     -     |   9.53   \n",
      "   4    |   100   |   0.203505   |     -      |     -     |   9.50   \n",
      "   4    |   120   |   0.244809   |     -      |     -     |   9.51   \n",
      "   4    |   140   |   0.175339   |     -      |     -     |   9.53   \n",
      "   4    |   160   |   0.217781   |     -      |     -     |   9.51   \n",
      "   4    |   180   |   0.183890   |     -      |     -     |   9.52   \n",
      "   4    |   200   |   0.222999   |     -      |     -     |   9.53   \n",
      "   4    |   220   |   0.236272   |     -      |     -     |   9.50   \n",
      "   4    |   240   |   0.225281   |     -      |     -     |   9.51   \n",
      "   4    |   260   |   0.272689   |     -      |     -     |   9.49   \n",
      "   4    |   263   |   0.236887   |     -      |     -     |   1.42   \n",
      "----------------------------------------------------------------------\n",
      "   4    |    -    |   0.222352   |  0.347941  |   85.42   |  136.29  \n",
      "----------------------------------------------------------------------\n",
      "\n",
      "\n",
      "Training complete!\n"
     ]
    }
   ],
   "source": [
    "\n",
    "# For agency prediction\n",
    "set_seed(42)    # Set seed for reproducibility\n",
    "bert_classifier, optimizer, scheduler = initialize_model(dataloaders['train_a'], epochs=2)\n",
    "train(bert_classifier, dataloaders['train_a'], dataloaders['val_a'], epochs=4, evaluation=True)\n"
   ],
   "metadata": {
    "collapsed": false,
    "pycharm": {
     "name": "#%%\n"
    }
   }
  },
  {
   "cell_type": "code",
   "execution_count": 43,
   "outputs": [],
   "source": [
    "# torch.cuda.memory_stats()"
   ],
   "metadata": {
    "collapsed": false,
    "pycharm": {
     "name": "#%%\n"
    }
   }
  },
  {
   "cell_type": "code",
   "execution_count": 44,
   "outputs": [
    {
     "name": "stdout",
     "output_type": "stream",
     "text": [
      "cuda:0\n"
     ]
    }
   ],
   "source": [
    "print(device)"
   ],
   "metadata": {
    "pycharm": {
     "name": "#%%\n"
    },
    "id": "mVWz8b5qBwO5",
    "outputId": "325a6220-6db3-467f-bd8a-68b1358dba70",
    "colab": {
     "base_uri": "https://localhost:8080/"
    }
   }
  },
  {
   "cell_type": "markdown",
   "source": [],
   "metadata": {
    "collapsed": false,
    "id": "Xdyv6DLdBwO5"
   }
  },
  {
   "cell_type": "code",
   "execution_count": 44,
   "outputs": [],
   "source": [],
   "metadata": {
    "collapsed": false,
    "pycharm": {
     "name": "#%%\n"
    }
   }
  },
  {
   "cell_type": "code",
   "execution_count": 45,
   "outputs": [],
   "source": [
    "import torch.nn.functional as F\n",
    "\n",
    "def bert_predict(model, test_dataloader):\n",
    "    \"\"\"Perform a forward pass on the trained BERT model to predict probabilities\n",
    "    on the test set.\n",
    "    \"\"\"\n",
    "    # Put the model into the evaluation mode. The dropout layers are disabled during\n",
    "    # the test time.\n",
    "    model.eval()\n",
    "\n",
    "    all_logits = []\n",
    "\n",
    "\n",
    "    # For each batch in our test set...\n",
    "    for batch in test_dataloader:\n",
    "        # Load batch to GPU\n",
    "        b_input_ids, b_attn_mask, labels = tuple(t.to(device) for t in batch)\n",
    "\n",
    "        # Compute logits\n",
    "        with torch.no_grad():\n",
    "            logits = model(b_input_ids, b_attn_mask)\n",
    "        all_logits.append(logits)\n",
    "\n",
    "    # Concatenate logits from each batch\n",
    "    all_logits = torch.cat(all_logits, dim=0)\n",
    "\n",
    "    # Apply softmax to calculate probabilities\n",
    "    probs = F.softmax(all_logits, dim=1).cpu().numpy()\n",
    "\n",
    "    return probs"
   ],
   "metadata": {
    "collapsed": false,
    "pycharm": {
     "name": "#%%\n"
    }
   }
  },
  {
   "cell_type": "code",
   "execution_count": 46,
   "outputs": [],
   "source": [
    "from sklearn.metrics import accuracy_score, roc_curve, auc\n",
    "\n",
    "def evaluate_roc(probs, y_true):\n",
    "    \"\"\"\n",
    "    - Print AUC and accuracy on the test set\n",
    "    - Plot ROC\n",
    "    @params    probs (np.array): an array of predicted probabilities with shape (len(y_true), 2)\n",
    "    @params    y_true (np.array): an array of the true values with shape (len(y_true),)\n",
    "    \"\"\"\n",
    "    preds = probs[:, 1]\n",
    "    fpr, tpr, threshold = roc_curve(y_true, preds)\n",
    "    roc_auc = auc(fpr, tpr)\n",
    "    print(f'AUC: {roc_auc:.4f}')\n",
    "\n",
    "    # Get accuracy over the test set\n",
    "    y_pred = np.where(preds >= 0.5, 1, 0)\n",
    "    accuracy = accuracy_score(y_true, y_pred)\n",
    "    print(f'Accuracy: {accuracy*100:.2f}%')\n",
    "\n",
    "    # Plot ROC AUC\n",
    "    plt.title('Receiver Operating Characteristic')\n",
    "    plt.plot(fpr, tpr, 'b', label = 'AUC = %0.2f' % roc_auc)\n",
    "    plt.legend(loc = 'lower right')\n",
    "    plt.plot([0, 1], [0, 1],'r--')\n",
    "    plt.xlim([0, 1])\n",
    "    plt.ylim([0, 1])\n",
    "    plt.ylabel('True Positive Rate')\n",
    "    plt.xlabel('False Positive Rate')\n",
    "    plt.show()"
   ],
   "metadata": {
    "collapsed": false,
    "pycharm": {
     "name": "#%%\n"
    }
   }
  },
  {
   "cell_type": "code",
   "execution_count": 47,
   "outputs": [],
   "source": [
    "torch.cuda.empty_cache()"
   ],
   "metadata": {
    "collapsed": false,
    "pycharm": {
     "name": "#%%\n"
    }
   }
  },
  {
   "cell_type": "code",
   "execution_count": 48,
   "outputs": [
    {
     "name": "stdout",
     "output_type": "stream",
     "text": [
      "AUC: 0.9077\n",
      "Accuracy: 85.42%\n"
     ]
    },
    {
     "data": {
      "text/plain": "<Figure size 432x288 with 1 Axes>",
      "image/png": "[encoded data removed]"
     },
     "metadata": {
      "needs_background": "light"
     },
     "output_type": "display_data"
    },
    {
     "name": "stdout",
     "output_type": "stream",
     "text": [
      "              precision    recall  f1-score   support\n",
      "\n",
      "           0       0.71      0.72      0.71       531\n",
      "           1       0.91      0.90      0.90      1581\n",
      "\n",
      "    accuracy                           0.85      2112\n",
      "   macro avg       0.81      0.81      0.81      2112\n",
      "weighted avg       0.86      0.85      0.85      2112\n",
      "\n"
     ]
    }
   ],
   "source": [
    "probs_val = bert_predict(bert_classifier,  dataloaders['val_a'])\n",
    "\n",
    "# Evaluate the Bert classifier\n",
    "evaluate_roc(probs_val, y_val)\n",
    "# Get predictions from the probabilities\n",
    "threshold = 0.5\n",
    "preds_val = np.where(probs_val[:, 1] > threshold, 1, 0)\n",
    "\n",
    "print(classification_report(preds_val, y_val ))"
   ],
   "metadata": {
    "collapsed": false,
    "pycharm": {
     "name": "#%%\n"
    }
   }
  },
  {
   "cell_type": "code",
   "execution_count": 49,
   "outputs": [
    {
     "name": "stdout",
     "output_type": "stream",
     "text": [
      "Number of tweets predicted non-negative:  12449\n",
      "AUC: 0.8865\n",
      "Accuracy: 83.04%\n"
     ]
    },
    {
     "data": {
      "text/plain": "<Figure size 432x288 with 1 Axes>",
      "image/png": "[encoded data removed]"
     },
     "metadata": {
      "needs_background": "light"
     },
     "output_type": "display_data"
    },
    {
     "name": "stdout",
     "output_type": "stream",
     "text": [
      "              precision    recall  f1-score   support\n",
      "\n",
      "           0       0.68      0.72      0.70      4766\n",
      "           1       0.89      0.87      0.88     12449\n",
      "\n",
      "    accuracy                           0.83     17215\n",
      "   macro avg       0.79      0.80      0.79     17215\n",
      "weighted avg       0.83      0.83      0.83     17215\n",
      "\n"
     ]
    }
   ],
   "source": [
    "# Compute predicted probabilities on the test set\n",
    "probs_test = bert_predict(bert_classifier, dataloaders['test'])\n",
    "\n",
    "# Get predictions from the probabilities\n",
    "threshold = 0.5\n",
    "preds_test = np.where(probs_test[:, 1] > threshold, 1, 0)\n",
    "\n",
    "# Number of tweets predicted non-negative\n",
    "print(\"Number of tweets predicted non-negative: \", preds_test.sum())\n",
    "\n",
    "# Evaluate the Bert classifier\n",
    "evaluate_roc(probs_test, df_test['agency'] )\n",
    "print(classification_report(preds_test, df_test['agency'] ))"
   ],
   "metadata": {
    "pycharm": {
     "name": "#%%\n"
    },
    "id": "vmFWiLqXBwO7"
   }
  },
  {
   "cell_type": "code",
   "execution_count": 50,
   "outputs": [
    {
     "name": "stdout",
     "output_type": "stream",
     "text": [
      "Start training...\n",
      "\n",
      " Epoch  |  Batch  |  Train Loss  |  Val Loss  |  Val Acc  |  Elapsed \n",
      "----------------------------------------------------------------------\n",
      "   1    |   20    |   0.537596   |     -      |     -     |   9.93   \n",
      "   1    |   40    |   0.337600   |     -      |     -     |   9.51   \n",
      "   1    |   60    |   0.318566   |     -      |     -     |   9.50   \n",
      "   1    |   80    |   0.328328   |     -      |     -     |   9.53   \n",
      "   1    |   100   |   0.274833   |     -      |     -     |   9.50   \n",
      "   1    |   120   |   0.243568   |     -      |     -     |   9.51   \n",
      "   1    |   140   |   0.261125   |     -      |     -     |   9.51   \n",
      "   1    |   160   |   0.257954   |     -      |     -     |   9.52   \n",
      "   1    |   180   |   0.263567   |     -      |     -     |   9.51   \n",
      "   1    |   200   |   0.239000   |     -      |     -     |   9.52   \n",
      "   1    |   220   |   0.244903   |     -      |     -     |   9.50   \n",
      "   1    |   240   |   0.266653   |     -      |     -     |   9.49   \n",
      "   1    |   260   |   0.235483   |     -      |     -     |   9.49   \n",
      "   1    |   263   |   0.343981   |     -      |     -     |   1.43   \n",
      "----------------------------------------------------------------------\n",
      "   1    |    -    |   0.294519   |  0.235074  |   91.48   |  136.16  \n",
      "----------------------------------------------------------------------\n",
      "\n",
      "\n",
      " Epoch  |  Batch  |  Train Loss  |  Val Loss  |  Val Acc  |  Elapsed \n",
      "----------------------------------------------------------------------\n",
      "   2    |   20    |   0.225236   |     -      |     -     |   9.98   \n",
      "   2    |   40    |   0.242623   |     -      |     -     |   9.51   \n",
      "   2    |   60    |   0.196092   |     -      |     -     |   9.52   \n",
      "   2    |   80    |   0.257145   |     -      |     -     |   9.50   \n",
      "   2    |   100   |   0.207499   |     -      |     -     |   9.52   \n",
      "   2    |   120   |   0.175580   |     -      |     -     |   9.51   \n",
      "   2    |   140   |   0.172699   |     -      |     -     |   9.50   \n",
      "   2    |   160   |   0.186282   |     -      |     -     |   9.51   \n",
      "   2    |   180   |   0.182223   |     -      |     -     |   9.52   \n",
      "   2    |   200   |   0.169596   |     -      |     -     |   9.50   \n",
      "   2    |   220   |   0.192894   |     -      |     -     |   9.52   \n",
      "   2    |   240   |   0.210697   |     -      |     -     |   9.51   \n",
      "   2    |   260   |   0.177896   |     -      |     -     |   9.51   \n",
      "   2    |   263   |   0.235362   |     -      |     -     |   1.43   \n",
      "----------------------------------------------------------------------\n",
      "   2    |    -    |   0.200229   |  0.250284  |   92.14   |  136.27  \n",
      "----------------------------------------------------------------------\n",
      "\n",
      "\n",
      " Epoch  |  Batch  |  Train Loss  |  Val Loss  |  Val Acc  |  Elapsed \n",
      "----------------------------------------------------------------------\n",
      "   3    |   20    |   0.155064   |     -      |     -     |   9.98   \n",
      "   3    |   40    |   0.156475   |     -      |     -     |   9.52   \n",
      "   3    |   60    |   0.147792   |     -      |     -     |   9.51   \n",
      "   3    |   80    |   0.177748   |     -      |     -     |   9.51   \n",
      "   3    |   100   |   0.158338   |     -      |     -     |   9.50   \n",
      "   3    |   120   |   0.121659   |     -      |     -     |   9.54   \n",
      "   3    |   140   |   0.116489   |     -      |     -     |   9.50   \n",
      "   3    |   160   |   0.153561   |     -      |     -     |   9.51   \n",
      "   3    |   180   |   0.146567   |     -      |     -     |   9.53   \n",
      "   3    |   200   |   0.146718   |     -      |     -     |   9.51   \n",
      "   3    |   220   |   0.130736   |     -      |     -     |   9.51   \n",
      "   3    |   240   |   0.179883   |     -      |     -     |   9.52   \n",
      "   3    |   260   |   0.119356   |     -      |     -     |   9.51   \n",
      "   3    |   263   |   0.122543   |     -      |     -     |   1.42   \n",
      "----------------------------------------------------------------------\n",
      "   3    |    -    |   0.146706   |  0.266662  |   91.62   |  136.29  \n",
      "----------------------------------------------------------------------\n",
      "\n",
      "\n",
      " Epoch  |  Batch  |  Train Loss  |  Val Loss  |  Val Acc  |  Elapsed \n",
      "----------------------------------------------------------------------\n",
      "   4    |   20    |   0.103199   |     -      |     -     |   9.98   \n",
      "   4    |   40    |   0.113036   |     -      |     -     |   9.53   \n",
      "   4    |   60    |   0.085030   |     -      |     -     |   9.49   \n",
      "   4    |   80    |   0.139097   |     -      |     -     |   9.49   \n",
      "   4    |   100   |   0.108667   |     -      |     -     |   9.51   \n",
      "   4    |   120   |   0.080468   |     -      |     -     |   9.50   \n",
      "   4    |   140   |   0.088644   |     -      |     -     |   9.52   \n",
      "   4    |   160   |   0.098079   |     -      |     -     |   9.50   \n",
      "   4    |   180   |   0.088120   |     -      |     -     |   9.50   \n",
      "   4    |   200   |   0.114311   |     -      |     -     |   9.51   \n",
      "   4    |   220   |   0.091553   |     -      |     -     |   9.51   \n",
      "   4    |   240   |   0.148218   |     -      |     -     |   9.50   \n",
      "   4    |   260   |   0.083408   |     -      |     -     |   9.52   \n",
      "   4    |   263   |   0.052474   |     -      |     -     |   1.42   \n",
      "----------------------------------------------------------------------\n",
      "   4    |    -    |   0.102641   |  0.332696  |   90.53   |  136.24  \n",
      "----------------------------------------------------------------------\n",
      "\n",
      "\n",
      "Training complete!\n"
     ]
    }
   ],
   "source": [
    "# For sociality\n",
    "set_seed(42)    # Set seed for reproducibility\n",
    "bert_classifier_s, optimizer, scheduler = initialize_model(dataloaders['train_s'],epochs=10)\n",
    "train(bert_classifier_s, dataloaders['train_s'], dataloaders['val_s'], epochs=4, evaluation=True)\n"
   ],
   "metadata": {
    "pycharm": {
     "name": "#%%\n"
    },
    "id": "alupBlRfBwO7"
   }
  },
  {
   "cell_type": "code",
   "execution_count": 51,
   "outputs": [
    {
     "name": "stdout",
     "output_type": "stream",
     "text": [
      "AUC: 0.9582\n",
      "Accuracy: 90.53%\n"
     ]
    },
    {
     "data": {
      "text/plain": "<Figure size 432x288 with 1 Axes>",
      "image/png": "[encoded data removed]"
     },
     "metadata": {
      "needs_background": "light"
     },
     "output_type": "display_data"
    },
    {
     "name": "stdout",
     "output_type": "stream",
     "text": [
      "              precision    recall  f1-score   support\n",
      "\n",
      "           0       0.89      0.91      0.90       967\n",
      "           1       0.92      0.90      0.91      1145\n",
      "\n",
      "    accuracy                           0.91      2112\n",
      "   macro avg       0.90      0.91      0.90      2112\n",
      "weighted avg       0.91      0.91      0.91      2112\n",
      "\n"
     ]
    }
   ],
   "source": [
    "probs_val_s = bert_predict(bert_classifier_s,  dataloaders['val_s'])\n",
    "\n",
    "# Evaluate the Bert classifier\n",
    "evaluate_roc(probs_val_s, y_val_s)\n",
    "# Get predictions from the probabilities\n",
    "threshold = 0.5\n",
    "preds_val_s = np.where(probs_val_s[:, 1] > threshold, 1, 0)\n",
    "\n",
    "print(classification_report(preds_val_s, y_val_s ))\n"
   ],
   "metadata": {
    "pycharm": {
     "name": "#%%\n"
    },
    "id": "5PV-9SlPBwO7"
   }
  },
  {
   "cell_type": "code",
   "execution_count": 52,
   "outputs": [
    {
     "name": "stdout",
     "output_type": "stream",
     "text": [
      "AUC: 0.9578\n",
      "Accuracy: 90.01%\n"
     ]
    },
    {
     "data": {
      "text/plain": "<Figure size 432x288 with 1 Axes>",
      "image/png": "[encoded data removed]"
     },
     "metadata": {
      "needs_background": "light"
     },
     "output_type": "display_data"
    },
    {
     "name": "stdout",
     "output_type": "stream",
     "text": [
      "Number of tweets predicted non-negative:  9989\n",
      "              precision    recall  f1-score   support\n",
      "\n",
      "           0       0.87      0.89      0.88      7226\n",
      "           1       0.92      0.90      0.91      9989\n",
      "\n",
      "    accuracy                           0.90     17215\n",
      "   macro avg       0.90      0.90      0.90     17215\n",
      "weighted avg       0.90      0.90      0.90     17215\n",
      "\n"
     ]
    }
   ],
   "source": [
    "# Compute predicted probabilities on the test set\n",
    "probs_test_s = bert_predict(bert_classifier_s, dataloaders['test'])\n",
    "# Evaluate the Bert classifier\n",
    "evaluate_roc(probs_test_s, df_test['social'] )\n",
    "# Get predictions from the probabilities\n",
    "preds_test_s = np.where(probs_test_s[:, 1] > threshold, 1, 0)\n",
    "\n",
    "# Number of tweets predicted non-negative\n",
    "print(\"Number of tweets predicted non-negative: \", preds_test_s.sum())\n",
    "\n",
    "\n",
    "print(classification_report(preds_test_s, df_test['social'] ))"
   ],
   "metadata": {
    "pycharm": {
     "name": "#%%\n"
    },
    "id": "VSIat-PXBwO7"
   }
  },
  {
   "cell_type": "code",
   "execution_count": 52,
   "outputs": [],
   "source": [
    "\n"
   ],
   "metadata": {
    "collapsed": false,
    "pycharm": {
     "name": "#%%\n"
    }
   }
  },
  {
   "cell_type": "code",
   "execution_count": 54,
   "outputs": [],
   "source": [
    "\n"
   ],
   "metadata": {
    "pycharm": {
     "name": "#%%\n"
    },
    "id": "8zOKdU9aBwO9"
   }
  },
  {
   "cell_type": "code",
   "execution_count": 55,
   "outputs": [
    {
     "data": {
      "text/plain": "['I sold a t shirt on ebay for $20 for which I paid only 99cents.',\n 'I was able to apply for the job I have been wanting.',\n 'When I got my first cna job',\n 'I got mail and it was a suprise walmart beauty box with 99% things of samples i would use.',\n 'I had steak for dinner.',\n 'I met my oversea boyfriend',\n \"I have gotten accepted to my dream university where I can obtain my second bachelor's degree in a field I'm passionate about.\",\n 'watch a realy good movie',\n 'going to tour with my frends',\n 'I was able to get a good sleep after staying up all night.',\n 'It made me happy to begin a new day today as yesterday was not a good one.',\n 'Talking to my husband when he got off from a long day of work, and enjoying dinner together.',\n 'two days ago I helped a cat that was abandoned in the street I took it to my house and there I gave him food and then take him to the veterinary',\n 'I managed to complete my workout and set a new personal record.',\n 'Going on a date with what would be my now girlfriend',\n 'Got placed in a good job after a gap which made me feel happy',\n 'Got off work on time.',\n \"Being brought McDonald's for lunch.\",\n 'I played Madden 2019 and it helped me relax.',\n 'MY SURPRISE BIRTHDAY PARTY.']"
     },
     "execution_count": 55,
     "metadata": {},
     "output_type": "execute_result"
    }
   ],
   "source": [
    "output = df_test[preds_test==1]\n",
    "list(output.sample(20).moment)\n"
   ],
   "metadata": {
    "pycharm": {
     "name": "#%%\n"
    },
    "id": "kPFB8o5aBwO9"
   }
  },
  {
   "cell_type": "code",
   "execution_count": 55,
   "outputs": [],
   "source": [],
   "metadata": {
    "pycharm": {
     "name": "#%%\n"
    },
    "id": "DZ37z32GBwO9"
   }
  },
  {
   "cell_type": "code",
   "execution_count": 60,
   "outputs": [
    {
     "data": {
      "text/plain": "        hmid  agency  social  agency_preds  social_preds\n0          0       1       0             1             1\n1          1       1       0             0             1\n2          2       1       0             0             1\n3          3       1       1             1             1\n4          4       0       0             0             0\n...      ...     ...     ...           ...           ...\n17210  21892       1       1             1             1\n17211  21893       1       0             0             1\n17212  21897       1       1             1             0\n17213  21898       1       0             0             1\n17214  21899       1       0             0             1\n\n[17215 rows x 5 columns]",
      "text/html": "<div>\n<style scoped>\n    .dataframe tbody tr th:only-of-type {\n        vertical-align: middle;\n    }\n\n    .dataframe tbody tr th {\n        vertical-align: top;\n    }\n\n    .dataframe thead th {\n        text-align: right;\n    }\n</style>\n<table border=\"1\" class=\"dataframe\">\n  <thead>\n    <tr style=\"text-align: right;\">\n      <th></th>\n      <th>hmid</th>\n      <th>agency</th>\n      <th>social</th>\n      <th>agency_preds</th>\n      <th>social_preds</th>\n    </tr>\n  </thead>\n  <tbody>\n    <tr>\n      <th>0</th>\n      <td>0</td>\n      <td>1</td>\n      <td>0</td>\n      <td>1</td>\n      <td>1</td>\n    </tr>\n    <tr>\n      <th>1</th>\n      <td>1</td>\n      <td>1</td>\n      <td>0</td>\n      <td>0</td>\n      <td>1</td>\n    </tr>\n    <tr>\n      <th>2</th>\n      <td>2</td>\n      <td>1</td>\n      <td>0</td>\n      <td>0</td>\n      <td>1</td>\n    </tr>\n    <tr>\n      <th>3</th>\n      <td>3</td>\n      <td>1</td>\n      <td>1</td>\n      <td>1</td>\n      <td>1</td>\n    </tr>\n    <tr>\n      <th>4</th>\n      <td>4</td>\n      <td>0</td>\n      <td>0</td>\n      <td>0</td>\n      <td>0</td>\n    </tr>\n    <tr>\n      <th>...</th>\n      <td>...</td>\n      <td>...</td>\n      <td>...</td>\n      <td>...</td>\n      <td>...</td>\n    </tr>\n    <tr>\n      <th>17210</th>\n      <td>21892</td>\n      <td>1</td>\n      <td>1</td>\n      <td>1</td>\n      <td>1</td>\n    </tr>\n    <tr>\n      <th>17211</th>\n      <td>21893</td>\n      <td>1</td>\n      <td>0</td>\n      <td>0</td>\n      <td>1</td>\n    </tr>\n    <tr>\n      <th>17212</th>\n      <td>21897</td>\n      <td>1</td>\n      <td>1</td>\n      <td>1</td>\n      <td>0</td>\n    </tr>\n    <tr>\n      <th>17213</th>\n      <td>21898</td>\n      <td>1</td>\n      <td>0</td>\n      <td>0</td>\n      <td>1</td>\n    </tr>\n    <tr>\n      <th>17214</th>\n      <td>21899</td>\n      <td>1</td>\n      <td>0</td>\n      <td>0</td>\n      <td>1</td>\n    </tr>\n  </tbody>\n</table>\n<p>17215 rows × 5 columns</p>\n</div>"
     },
     "execution_count": 60,
     "metadata": {},
     "output_type": "execute_result"
    }
   ],
   "source": [],
   "metadata": {
    "pycharm": {
     "name": "#%%\n"
    },
    "id": "tKytJlFWBwO-"
   }
  },
  {
   "cell_type": "code",
   "execution_count": 64,
   "outputs": [],
   "source": [
    "df_t = df_test[[\"hmid\"]]\n",
    "df_t.to_csv('/home/amber/Documents/NLP_Assignments/A2/output/output.txt', index=None, sep=' ')"
   ],
   "metadata": {
    "collapsed": false,
    "pycharm": {
     "name": "#%%\n"
    }
   }
  },
  {
   "cell_type": "code",
   "execution_count": 65,
   "outputs": [
    {
     "name": "stderr",
     "output_type": "stream",
     "text": [
      "<ipython-input-65-e33b5b74a6b3>:1: SettingWithCopyWarning: \n",
      "A value is trying to be set on a copy of a slice from a DataFrame.\n",
      "Try using .loc[row_indexer,col_indexer] = value instead\n",
      "\n",
      "See the caveats in the documentation: https://pandas.pydata.org/pandas-docs/stable/user_guide/indexing.html#returning-a-view-versus-a-copy\n",
      "  df_t['agency_preds'] = preds_test\n",
      "<ipython-input-65-e33b5b74a6b3>:2: SettingWithCopyWarning: \n",
      "A value is trying to be set on a copy of a slice from a DataFrame.\n",
      "Try using .loc[row_indexer,col_indexer] = value instead\n",
      "\n",
      "See the caveats in the documentation: https://pandas.pydata.org/pandas-docs/stable/user_guide/indexing.html#returning-a-view-versus-a-copy\n",
      "  df_t['social_preds'] = preds_test_s\n"
     ]
    }
   ],
   "source": [
    "df_t['agency_label'] = preds_test\n",
    "df_t['social_label'] = preds_test_s"
   ],
   "metadata": {
    "collapsed": false,
    "pycharm": {
     "name": "#%%\n"
    }
   }
  },
  {
   "cell_type": "code",
   "execution_count": 66,
   "outputs": [
    {
     "data": {
      "text/plain": "        hmid  agency_preds  social_preds\n0          0             1             1\n1          1             1             0\n2          2             1             0\n3          3             1             1\n4          4             0             0\n...      ...           ...           ...\n17210  21892             1             1\n17211  21893             1             0\n17212  21897             0             1\n17213  21898             1             0\n17214  21899             1             0\n\n[17215 rows x 3 columns]",
      "text/html": "<div>\n<style scoped>\n    .dataframe tbody tr th:only-of-type {\n        vertical-align: middle;\n    }\n\n    .dataframe tbody tr th {\n        vertical-align: top;\n    }\n\n    .dataframe thead th {\n        text-align: right;\n    }\n</style>\n<table border=\"1\" class=\"dataframe\">\n  <thead>\n    <tr style=\"text-align: right;\">\n      <th></th>\n      <th>hmid</th>\n      <th>agency_preds</th>\n      <th>social_preds</th>\n    </tr>\n  </thead>\n  <tbody>\n    <tr>\n      <th>0</th>\n      <td>0</td>\n      <td>1</td>\n      <td>1</td>\n    </tr>\n    <tr>\n      <th>1</th>\n      <td>1</td>\n      <td>1</td>\n      <td>0</td>\n    </tr>\n    <tr>\n      <th>2</th>\n      <td>2</td>\n      <td>1</td>\n      <td>0</td>\n    </tr>\n    <tr>\n      <th>3</th>\n      <td>3</td>\n      <td>1</td>\n      <td>1</td>\n    </tr>\n    <tr>\n      <th>4</th>\n      <td>4</td>\n      <td>0</td>\n      <td>0</td>\n    </tr>\n    <tr>\n      <th>...</th>\n      <td>...</td>\n      <td>...</td>\n      <td>...</td>\n    </tr>\n    <tr>\n      <th>17210</th>\n      <td>21892</td>\n      <td>1</td>\n      <td>1</td>\n    </tr>\n    <tr>\n      <th>17211</th>\n      <td>21893</td>\n      <td>1</td>\n      <td>0</td>\n    </tr>\n    <tr>\n      <th>17212</th>\n      <td>21897</td>\n      <td>0</td>\n      <td>1</td>\n    </tr>\n    <tr>\n      <th>17213</th>\n      <td>21898</td>\n      <td>1</td>\n      <td>0</td>\n    </tr>\n    <tr>\n      <th>17214</th>\n      <td>21899</td>\n      <td>1</td>\n      <td>0</td>\n    </tr>\n  </tbody>\n</table>\n<p>17215 rows × 3 columns</p>\n</div>"
     },
     "execution_count": 66,
     "metadata": {},
     "output_type": "execute_result"
    }
   ],
   "source": [
    "df_t"
   ],
   "metadata": {
    "collapsed": false,
    "pycharm": {
     "name": "#%%\n"
    }
   }
  },
  {
   "cell_type": "code",
   "execution_count": 55,
   "outputs": [],
   "source": [],
   "metadata": {
    "pycharm": {
     "name": "#%%\n"
    },
    "id": "r1YZVhtOBwO-"
   }
  },
  {
   "cell_type": "code",
   "execution_count": 55,
   "outputs": [],
   "source": [
    ""
   ],
   "metadata": {
    "pycharm": {
     "name": "#%%\n"
    },
    "id": "hIQ76esKBwO-"
   }
  },
  {
   "cell_type": "code",
   "execution_count": 55,
   "outputs": [],
   "source": [
    ""
   ],
   "metadata": {
    "pycharm": {
     "name": "#%%\n"
    },
    "id": "CyGScKtiBwO-"
   }
  },
  {
   "cell_type": "code",
   "execution_count": 56,
   "outputs": [],
   "source": [
    "# #Testing it on new dataset with the best model\n",
    "# #df_test=pd.read_csv('test.csv')  #reading the data\n",
    "# df_test['clean_text'] = df_test['moment'].apply(lambda x: finalpreprocess(x)) #preprocess the data\n",
    "# X_test=df_test['clean_text']\n",
    "# X_vector=tfidf_vectorizer.transform(X_test) #converting X_test to vector\n",
    "# y_predict,y_prob = LRwTFIDF(X_vector)\n",
    "# df_test['predict_prob']= y_prob\n",
    "# df_test['predict']= y_predict\n",
    "# print(df_test.head())\n",
    "# final=df_test['predict'].reset_index(drop=True)\n",
    "# final.to_csv('submission.csv')"
   ],
   "metadata": {
    "pycharm": {
     "name": "#%%\n"
    },
    "id": "O62bgsteBwO_"
   }
  },
  {
   "cell_type": "code",
   "execution_count": 56,
   "outputs": [],
   "source": [
    ""
   ],
   "metadata": {
    "pycharm": {
     "name": "#%%\n"
    },
    "id": "_RtPfgirBwO_"
   }
  }
 ],
 "metadata": {
  "kernelspec": {
   "name": "pycharm-282d5b2f",
   "language": "python",
   "display_name": "PyCharm (NLP_Assignments)"
  },
  "language_info": {
   "codemirror_mode": {
    "name": "ipython",
    "version": 2
   },
   "file_extension": ".py",
   "mimetype": "text/x-python",
   "name": "python",
   "nbconvert_exporter": "python",
   "pygments_lexer": "ipython2",
   "version": "2.7.6"
  },
  "colab": {
   "name": "A2.ipynb",
   "provenance": []
  }
 },
 "nbformat": 4,
 "nbformat_minor": 0
}