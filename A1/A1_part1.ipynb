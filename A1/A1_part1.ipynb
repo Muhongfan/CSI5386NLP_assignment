{
 "cells": [
  {
   "cell_type": "code",
   "execution_count": 2,
   "metadata": {
    "collapsed": true
   },
   "outputs": [],
   "source": [
    "#filePath = 'Dataset/reddit_sarcasm.csv'\n",
    "filePath = 'Dataset/test.csv'\n",
    "import pandas as pd\n",
    "df = pd.read_csv(filePath, header = None, nrows = 45)"
   ]
  },
  {
   "cell_type": "code",
   "execution_count": 75,
   "outputs": [
    {
     "data": {
      "text/plain": "                                                   0\n0  Yeah, I get that argument. At this point, I'd ...\n1  The blazers and Mavericks (The wests 5 and 6 s...\n2                            They're favored to win.\n3  Yeah, I get that argument. At this point, I'd ...\n4  The blazers and Mavericks (The wests 5 and 6 s...",
      "text/html": "<div>\n<style scoped>\n    .dataframe tbody tr th:only-of-type {\n        vertical-align: middle;\n    }\n\n    .dataframe tbody tr th {\n        vertical-align: top;\n    }\n\n    .dataframe thead th {\n        text-align: right;\n    }\n</style>\n<table border=\"1\" class=\"dataframe\">\n  <thead>\n    <tr style=\"text-align: right;\">\n      <th></th>\n      <th>0</th>\n    </tr>\n  </thead>\n  <tbody>\n    <tr>\n      <th>0</th>\n      <td>Yeah, I get that argument. At this point, I'd ...</td>\n    </tr>\n    <tr>\n      <th>1</th>\n      <td>The blazers and Mavericks (The wests 5 and 6 s...</td>\n    </tr>\n    <tr>\n      <th>2</th>\n      <td>They're favored to win.</td>\n    </tr>\n    <tr>\n      <th>3</th>\n      <td>Yeah, I get that argument. At this point, I'd ...</td>\n    </tr>\n    <tr>\n      <th>4</th>\n      <td>The blazers and Mavericks (The wests 5 and 6 s...</td>\n    </tr>\n  </tbody>\n</table>\n</div>"
     },
     "execution_count": 75,
     "metadata": {},
     "output_type": "execute_result"
    }
   ],
   "source": [
    "df.head()"
   ],
   "metadata": {
    "collapsed": false,
    "pycharm": {
     "name": "#%%\n"
    }
   }
  },
  {
   "cell_type": "code",
   "execution_count": 3,
   "outputs": [],
   "source": [
    "df.columns=['reviews']"
   ],
   "metadata": {
    "collapsed": false,
    "pycharm": {
     "name": "#%%\n"
    }
   }
  },
  {
   "cell_type": "code",
   "execution_count": 12,
   "outputs": [
    {
     "data": {
      "text/plain": "                                                  reviews\ncount                                                  42\nunique                                                 42\ntop     Poor Dan. He looks like he needs some coffee o...\nfreq                                                    1",
      "text/html": "<div>\n<style scoped>\n    .dataframe tbody tr th:only-of-type {\n        vertical-align: middle;\n    }\n\n    .dataframe tbody tr th {\n        vertical-align: top;\n    }\n\n    .dataframe thead th {\n        text-align: right;\n    }\n</style>\n<table border=\"1\" class=\"dataframe\">\n  <thead>\n    <tr style=\"text-align: right;\">\n      <th></th>\n      <th>reviews</th>\n    </tr>\n  </thead>\n  <tbody>\n    <tr>\n      <th>count</th>\n      <td>42</td>\n    </tr>\n    <tr>\n      <th>unique</th>\n      <td>42</td>\n    </tr>\n    <tr>\n      <th>top</th>\n      <td>Poor Dan. He looks like he needs some coffee o...</td>\n    </tr>\n    <tr>\n      <th>freq</th>\n      <td>1</td>\n    </tr>\n  </tbody>\n</table>\n</div>"
     },
     "execution_count": 12,
     "metadata": {},
     "output_type": "execute_result"
    }
   ],
   "source": [
    "df.describe()"
   ],
   "metadata": {
    "collapsed": false,
    "pycharm": {
     "name": "#%%\n"
    }
   }
  },
  {
   "cell_type": "code",
   "execution_count": 78,
   "outputs": [
    {
     "data": {
      "text/plain": "                                              reviews\n0   Yeah, I get that argument. At this point, I'd ...\n1   The blazers and Mavericks (The wests 5 and 6 s...\n2                             They're favored to win.\n3   Yeah, I get that argument. At this point, I'd ...\n4   The blazers and Mavericks (The wests 5 and 6 s...\n5                             They're favored to win.\n6                          deadass don't kill my buzz\n7   Yep can confirm I saw the tool they use for th...\n8                    do you find ariana grande sexy ?\n9   What's your weird or unsettling Trick or Treat...\n10  Probably Sephiroth. I refuse to taint his grea...\n11  What to upgrade? I have $500 to spend (mainly ...\n12  Probably count Kanye out Since the rest of his...\n13  I bet if that money was poured into college de...\n14     James Shields Will Not Exercise Opt-Out Clause\n15  There's no time to worry about leaks when they...\n16  Team Specific Threads No matter how many artic...\n17  Ill give you a hint. They commented in this th...\n18  Star Wars, easy. I'm not that bothered about I...\n19                                   You're adorable.\n20  He actually acts like a moody emo girl on twit...\n21  Clinton struggles to gain traction in Florida,...\n22            Is that the Older Clark and Older Lois?\n23  *Guilt roles over Mel, and he hesitates for a ...\n24      They will never get the stability of the 3DS.\n25  I still doubt that \"all conservatives stand fo...\n26  Today Russian media tweeted out that Wikileaks...\n27  Thank you, Jagex, for being cool Jagex has alw...\n28                                  467 A lovely way!\n29                                          Jesus got\n30  \"You are like the end piece of bread in a loaf...\n31  Found this under a box of porno mags well clea...\n32                                               Who?\n33                                    but what format\n34           Pro tip - Fool around with worldy girls.\n35  *is confused why so many people dislike Nickel...\n36  The dumb thing is, they are risking their sell...\n37  PGT: 9/4 vs. Indians All rants and angry posts...\n38  This is a great response! Too bad about the la...\n39              North Korea has never lied. Not once.\n40  Your house is burning down and you only have t...\n41  Poor Dan. He looks like he needs some coffee o...\n42  This season's NFC equivalent of the Browns is ...\n43  Umm yes! It was a huge scandal, do you not mem...\n44  Hey... Don't aren't you know that a convoluted...",
      "text/html": "<div>\n<style scoped>\n    .dataframe tbody tr th:only-of-type {\n        vertical-align: middle;\n    }\n\n    .dataframe tbody tr th {\n        vertical-align: top;\n    }\n\n    .dataframe thead th {\n        text-align: right;\n    }\n</style>\n<table border=\"1\" class=\"dataframe\">\n  <thead>\n    <tr style=\"text-align: right;\">\n      <th></th>\n      <th>reviews</th>\n    </tr>\n  </thead>\n  <tbody>\n    <tr>\n      <th>0</th>\n      <td>Yeah, I get that argument. At this point, I'd ...</td>\n    </tr>\n    <tr>\n      <th>1</th>\n      <td>The blazers and Mavericks (The wests 5 and 6 s...</td>\n    </tr>\n    <tr>\n      <th>2</th>\n      <td>They're favored to win.</td>\n    </tr>\n    <tr>\n      <th>3</th>\n      <td>Yeah, I get that argument. At this point, I'd ...</td>\n    </tr>\n    <tr>\n      <th>4</th>\n      <td>The blazers and Mavericks (The wests 5 and 6 s...</td>\n    </tr>\n    <tr>\n      <th>5</th>\n      <td>They're favored to win.</td>\n    </tr>\n    <tr>\n      <th>6</th>\n      <td>deadass don't kill my buzz</td>\n    </tr>\n    <tr>\n      <th>7</th>\n      <td>Yep can confirm I saw the tool they use for th...</td>\n    </tr>\n    <tr>\n      <th>8</th>\n      <td>do you find ariana grande sexy ?</td>\n    </tr>\n    <tr>\n      <th>9</th>\n      <td>What's your weird or unsettling Trick or Treat...</td>\n    </tr>\n    <tr>\n      <th>10</th>\n      <td>Probably Sephiroth. I refuse to taint his grea...</td>\n    </tr>\n    <tr>\n      <th>11</th>\n      <td>What to upgrade? I have $500 to spend (mainly ...</td>\n    </tr>\n    <tr>\n      <th>12</th>\n      <td>Probably count Kanye out Since the rest of his...</td>\n    </tr>\n    <tr>\n      <th>13</th>\n      <td>I bet if that money was poured into college de...</td>\n    </tr>\n    <tr>\n      <th>14</th>\n      <td>James Shields Will Not Exercise Opt-Out Clause</td>\n    </tr>\n    <tr>\n      <th>15</th>\n      <td>There's no time to worry about leaks when they...</td>\n    </tr>\n    <tr>\n      <th>16</th>\n      <td>Team Specific Threads No matter how many artic...</td>\n    </tr>\n    <tr>\n      <th>17</th>\n      <td>Ill give you a hint. They commented in this th...</td>\n    </tr>\n    <tr>\n      <th>18</th>\n      <td>Star Wars, easy. I'm not that bothered about I...</td>\n    </tr>\n    <tr>\n      <th>19</th>\n      <td>You're adorable.</td>\n    </tr>\n    <tr>\n      <th>20</th>\n      <td>He actually acts like a moody emo girl on twit...</td>\n    </tr>\n    <tr>\n      <th>21</th>\n      <td>Clinton struggles to gain traction in Florida,...</td>\n    </tr>\n    <tr>\n      <th>22</th>\n      <td>Is that the Older Clark and Older Lois?</td>\n    </tr>\n    <tr>\n      <th>23</th>\n      <td>*Guilt roles over Mel, and he hesitates for a ...</td>\n    </tr>\n    <tr>\n      <th>24</th>\n      <td>They will never get the stability of the 3DS.</td>\n    </tr>\n    <tr>\n      <th>25</th>\n      <td>I still doubt that \"all conservatives stand fo...</td>\n    </tr>\n    <tr>\n      <th>26</th>\n      <td>Today Russian media tweeted out that Wikileaks...</td>\n    </tr>\n    <tr>\n      <th>27</th>\n      <td>Thank you, Jagex, for being cool Jagex has alw...</td>\n    </tr>\n    <tr>\n      <th>28</th>\n      <td>467 A lovely way!</td>\n    </tr>\n    <tr>\n      <th>29</th>\n      <td>Jesus got</td>\n    </tr>\n    <tr>\n      <th>30</th>\n      <td>\"You are like the end piece of bread in a loaf...</td>\n    </tr>\n    <tr>\n      <th>31</th>\n      <td>Found this under a box of porno mags well clea...</td>\n    </tr>\n    <tr>\n      <th>32</th>\n      <td>Who?</td>\n    </tr>\n    <tr>\n      <th>33</th>\n      <td>but what format</td>\n    </tr>\n    <tr>\n      <th>34</th>\n      <td>Pro tip - Fool around with worldy girls.</td>\n    </tr>\n    <tr>\n      <th>35</th>\n      <td>*is confused why so many people dislike Nickel...</td>\n    </tr>\n    <tr>\n      <th>36</th>\n      <td>The dumb thing is, they are risking their sell...</td>\n    </tr>\n    <tr>\n      <th>37</th>\n      <td>PGT: 9/4 vs. Indians All rants and angry posts...</td>\n    </tr>\n    <tr>\n      <th>38</th>\n      <td>This is a great response! Too bad about the la...</td>\n    </tr>\n    <tr>\n      <th>39</th>\n      <td>North Korea has never lied. Not once.</td>\n    </tr>\n    <tr>\n      <th>40</th>\n      <td>Your house is burning down and you only have t...</td>\n    </tr>\n    <tr>\n      <th>41</th>\n      <td>Poor Dan. He looks like he needs some coffee o...</td>\n    </tr>\n    <tr>\n      <th>42</th>\n      <td>This season's NFC equivalent of the Browns is ...</td>\n    </tr>\n    <tr>\n      <th>43</th>\n      <td>Umm yes! It was a huge scandal, do you not mem...</td>\n    </tr>\n    <tr>\n      <th>44</th>\n      <td>Hey... Don't aren't you know that a convoluted...</td>\n    </tr>\n  </tbody>\n</table>\n</div>"
     },
     "execution_count": 78,
     "metadata": {},
     "output_type": "execute_result"
    }
   ],
   "source": [
    "df.dropna()"
   ],
   "metadata": {
    "collapsed": false,
    "pycharm": {
     "name": "#%%\n"
    }
   }
  },
  {
   "cell_type": "code",
   "execution_count": 6,
   "outputs": [
    {
     "data": {
      "text/plain": "                                             reviews\n3  Yeah, I get that argument. At this point, I'd ...\n4  The blazers and Mavericks (The wests 5 and 6 s...\n5                            They're favored to win.",
      "text/html": "<div>\n<style scoped>\n    .dataframe tbody tr th:only-of-type {\n        vertical-align: middle;\n    }\n\n    .dataframe tbody tr th {\n        vertical-align: top;\n    }\n\n    .dataframe thead th {\n        text-align: right;\n    }\n</style>\n<table border=\"1\" class=\"dataframe\">\n  <thead>\n    <tr style=\"text-align: right;\">\n      <th></th>\n      <th>reviews</th>\n    </tr>\n  </thead>\n  <tbody>\n    <tr>\n      <th>3</th>\n      <td>Yeah, I get that argument. At this point, I'd ...</td>\n    </tr>\n    <tr>\n      <th>4</th>\n      <td>The blazers and Mavericks (The wests 5 and 6 s...</td>\n    </tr>\n    <tr>\n      <th>5</th>\n      <td>They're favored to win.</td>\n    </tr>\n  </tbody>\n</table>\n</div>"
     },
     "execution_count": 6,
     "metadata": {},
     "output_type": "execute_result"
    }
   ],
   "source": [
    "df[df.duplicated()]"
   ],
   "metadata": {
    "collapsed": false,
    "pycharm": {
     "name": "#%%\n"
    }
   }
  },
  {
   "cell_type": "code",
   "execution_count": 11,
   "outputs": [
    {
     "data": {
      "text/plain": "Empty DataFrame\nColumns: [reviews]\nIndex: []",
      "text/html": "<div>\n<style scoped>\n    .dataframe tbody tr th:only-of-type {\n        vertical-align: middle;\n    }\n\n    .dataframe tbody tr th {\n        vertical-align: top;\n    }\n\n    .dataframe thead th {\n        text-align: right;\n    }\n</style>\n<table border=\"1\" class=\"dataframe\">\n  <thead>\n    <tr style=\"text-align: right;\">\n      <th></th>\n      <th>reviews</th>\n    </tr>\n  </thead>\n  <tbody>\n  </tbody>\n</table>\n</div>"
     },
     "execution_count": 11,
     "metadata": {},
     "output_type": "execute_result"
    }
   ],
   "source": [
    "df[df.duplicated(keep=False)].sort_values('reviews')"
   ],
   "metadata": {
    "collapsed": false,
    "pycharm": {
     "name": "#%%\n"
    }
   }
  },
  {
   "cell_type": "code",
   "execution_count": 10,
   "outputs": [],
   "source": [
    "df.drop_duplicates(inplace=True)"
   ],
   "metadata": {
    "collapsed": false,
    "pycharm": {
     "name": "#%%\n"
    }
   }
  },
  {
   "cell_type": "code",
   "execution_count": 13,
   "outputs": [
    {
     "name": "stdout",
     "output_type": "stream",
     "text": [
      "\"Yeah, I get that argument. At this point, I'd prefer is she lived in NC as well.\"\n",
      "The blazers and Mavericks (The wests 5 and 6 seed) did not even carry a good enough record to make the playoffs in the east last year.\n",
      "They're favored to win.\n",
      "\n",
      "\"Yeah, I get that argument. At this point, I'd prefer is she lived in NC as well.\"\n",
      "The blazers and Mavericks (The wests 5 and 6 seed) did not even carry a good enough record to make the playoffs in the east last year.\n",
      "They're favored to win.\n",
      "\n",
      "\n",
      "deadass don't kill my buzz\n",
      "Yep can confirm I saw the tool they use for that. It was made by our boy EASports_MUT\n",
      "do you find ariana grande sexy ?\n",
      "\n",
      "What's your weird or unsettling Trick or Treat story?\n",
      "\n",
      "Probably Sephiroth. I refuse to taint his greatness with *my* weak builds. He should equip *ONLY* the best TMs.\n",
      "\"What to upgrade? I have $500 to spend (mainly because it's my birthday on the 31st) and I'm not really sure what to upgrade. I don't have to spend all $500, I could spend as little or all of it if I want. Specs are: CPU: i5-6600K Cooler: CM 212 EVO RAM: 8GB Corsair Vengence LPX 2400MHz GPU: EVGA GTX 1070 SC Case: Corsair Spec Alpha PSU: EVGA P2 650w Storage: One 480 GB Corsair Force LE Monitor: BenQ XL2411Z Keyboard: Razer Blackwidow Tournament Edition What I'm thinking of right now is: -Get a 1TB WD Blue -Buy another 8GB of RAM -Replace my Razer Blackwidow with a keyboard with actual Cherry MX switches -Replace my case (Doesn't really offer features for good cable management) -Save up for a Volta Card\"\n",
      "\"Probably count Kanye out Since the rest of his tour is canceled, it doesn't seem in the cards. But he's also so unpredictable, it could change. Thankfully I saw him before he started canceling shows, going on long rants and showing up late. But I'd love to see him again, especially at Lolla. Thoughts?\"\n",
      "\"I bet if that money was poured into college debt or health debt relief, 81% of Americans would have been for it instead.\"\n",
      "James Shields Will Not Exercise Opt-Out Clause\n",
      "There's no time to worry about leaks when they gays are already out to get you.\n",
      "Team Specific Threads No matter how many articles you read or how many hours of Red Zone you watch nothing quite makes up for watching every play of a game. Would the members of this community/the mods be open to creating a sticky post that has a team individual thread for every team in the NFL where team specific conversation can take place and people that watch individual games can comment? We may even be able to get some guys from team specific subreddits to stop by and give us some new insight.\n",
      "Ill give you a hint. They commented in this thread\n",
      "\"Star Wars, easy. I'm not that bothered about Indiana Jones tbh\"\n",
      "You're adorable.\n",
      "\"He actually acts like a moody emo girl on twitter. He lashes out over incredibly petty things and takes it out on social media. He's a 70 year old man doing this, grow the fuck up and think of your dignity man.\"\n",
      "\"Clinton struggles to gain traction in Florida, despite spending - Clinton shocked money can't buy everything\"\n",
      "Is that the Older Clark and Older Lois?\n",
      "\"*Guilt roles over Mel, and he hesitates for a moment before pulling the girl into a hug.* \"\"Shhh, it's okay Tara. You two aren't going anywhere this time. Aurelia and I won't let that happen.\"\"\"\n",
      "They will never get the stability of the 3DS.\n",
      "\"I still doubt that \"\"all conservatives stand for is defeating liberals\"\". If you use the election of Trump as an example for the failure of modern conservatism, is it also fair to use the election of Hillary Clinton as a representative for modern Liberalism? I guess not. And the \"\"all conservatives stand for is defeating liberals\"\" could be applied vice versa if you only listen to people who are the loudest.\"\n",
      "Today Russian media tweeted out that Wikileaks had released more of Podesta's emails before Wikileaks even did it. There is some control here.\n",
      "\"Thank you, Jagex, for being cool Jagex has always been a cool company, and we could thank them for tons of things, but I just noticed that they don't charge your card as a recurring subscription. So many companies today do scummy things where they try to get you to sign up for something so they can bill you monthly and hope you'll forget about it, but Jagex only runs your subscription for as long as you purchased. I know it's nothing huge, but it's something I appreciate.\"\n",
      "467 A lovely way!\n",
      "Jesus got\n",
      "\"\"\"You are like the end piece of bread in a loaf, everyone touches you but no one wants you.\"\"\"\n",
      "Found this under a box of porno mags well cleaning out a trailer...\n",
      "Who?\n",
      "but what format\n",
      "Pro tip - Fool around with worldy girls.\n",
      "*is confused why so many people dislike Nickelback.* Not that I'm a fan but imo the music is decent enough.\n",
      "\"The dumb thing is, they are risking their seller account, too.\"\n",
      "PGT: 9/4 vs. Indians All rants and angry posts go here. I'll start. Fuck Fernando Rodney\n",
      "This is a great response! Too bad about the lack of accolades.\n",
      "North Korea has never lied. Not once.\n",
      "\"Your house is burning down and you only have time to grab one thing ( not including family or pets ), what do you grab?\"\n",
      "Poor Dan. He looks like he needs some coffee or a energy drink. I don't think I've ever seen him be this quiet during a live stream.\n",
      "This season's NFC equivalent of the Browns is straight up BUTT FUCKING US. I don't know how to handle this.\n",
      "\"Umm yes! It was a huge scandal, do you not member?\"\n",
      "\"Hey... Don't aren't you know that a convoluted unsupported theory which is only \"\"proven\"\" by a **Reddit comment** is a definite fact? I mean how can a simple explanation make more sense. Clearly the tinfoil hat explanation always make more sense, always.\"\n",
      "\"1,571,048\"\n",
      "But i liked Xpascal better with tartle then with chowex\n",
      "Clinton campaign accuses FBI of 'blatant double standard'\n"
     ]
    }
   ],
   "source": [
    "#import re\n",
    "\n",
    "with open(filePath, \"r\", encoding= 'utf-8') as f:\n",
    "    read_data = f.read()\n",
    "    f.close()\n",
    "print(read_data)\n",
    "\n"
   ],
   "metadata": {
    "collapsed": false,
    "pycharm": {
     "name": "#%%\n"
    }
   }
  },
  {
   "cell_type": "code",
   "execution_count": 19,
   "outputs": [
    {
     "name": "stdout",
     "output_type": "stream",
     "text": [
      "1279\n",
      "['``', 'yeah', ',', 'i', 'get', 'that', 'argument', '.', 'at', 'this', 'point', ',', 'i', \"'d\", 'prefer', 'is', 'she', 'lived', 'in', 'nc', 'as', 'well', '.', \"''\", 'the', 'blazers', 'and', 'mavericks', '(', 'the', 'wests', '5', 'and', '6', 'seed', ')', 'did', 'not', 'even', 'carry', 'a', 'good', 'enough', 'record', 'to', 'make', 'the', 'playoffs', 'in', 'the', 'east', 'last', 'year', '.', 'they', \"'re\", 'favored', 'to', 'win', '.', '``', 'yeah', ',', 'i', 'get', 'that', 'argument', '.', 'at', 'this', 'point', ',', 'i', \"'d\", 'prefer', 'is', 'she', 'lived', 'in', 'nc', 'as', 'well', '.', \"''\", 'the', 'blazers', 'and', 'mavericks', '(', 'the', 'wests', '5', 'and', '6', 'seed', ')', 'did', 'not', 'even', 'carry', 'a', 'good', 'enough', 'record', 'to', 'make', 'the', 'playoffs', 'in', 'the', 'east', 'last', 'year', '.', 'they', \"'re\", 'favored', 'to', 'win', '.', 'deadass', 'do', \"n't\", 'kill', 'my', 'buzz', 'yep', 'can', 'confirm', 'i', 'saw', 'the', 'tool', 'they', 'use', 'for', 'that', '.', 'it', 'was', 'made', 'by', 'our', 'boy', 'easports_mut', 'do', 'you', 'find', 'ariana', 'grande', 'sexy', '?', 'what', \"'s\", 'your', 'weird', 'or', 'unsettling', 'trick', 'or', 'treat', 'story', '?', 'probably', 'sephiroth', '.', 'i', 'refuse', 'to', 'taint', 'his', 'greatness', 'with', '*', 'my', '*', 'weak', 'builds', '.', 'he', 'should', 'equip', '*', 'only', '*', 'the', 'best', 'tms', '.', '``', 'what', 'to', 'upgrade', '?', 'i', 'have', '$', '500', 'to', 'spend', '(', 'mainly', 'because', 'it', \"'s\", 'my', 'birthday', 'on', 'the', '31st', ')', 'and', 'i', \"'m\", 'not', 'really', 'sure', 'what', 'to', 'upgrade', '.', 'i', 'do', \"n't\", 'have', 'to', 'spend', 'all', '$', '500', ',', 'i', 'could', 'spend', 'as', 'little', 'or', 'all', 'of', 'it', 'if', 'i', 'want', '.', 'specs', 'are', ':', 'cpu', ':', 'i5-6600k', 'cooler', ':', 'cm', '212', 'evo', 'ram', ':', '8gb', 'corsair', 'vengence', 'lpx', '2400mhz', 'gpu', ':', 'evga', 'gtx', '1070', 'sc', 'case', ':', 'corsair', 'spec', 'alpha', 'psu', ':', 'evga', 'p2', '650w', 'storage', ':', 'one', '480', 'gb', 'corsair', 'force', 'le', 'monitor', ':', 'benq', 'xl2411z', 'keyboard', ':', 'razer', 'blackwidow', 'tournament', 'edition', 'what', 'i', \"'m\", 'thinking', 'of', 'right', 'now', 'is', ':', '-get', 'a', '1tb', 'wd', 'blue', '-buy', 'another', '8gb', 'of', 'ram', '-replace', 'my', 'razer', 'blackwidow', 'with', 'a', 'keyboard', 'with', 'actual', 'cherry', 'mx', 'switches', '-replace', 'my', 'case', '(', 'does', \"n't\", 'really', 'offer', 'features', 'for', 'good', 'cable', 'management', ')', '-save', 'up', 'for', 'a', 'volta', 'card', \"''\", \"''\", 'probably', 'count', 'kanye', 'out', 'since', 'the', 'rest', 'of', 'his', 'tour', 'is', 'canceled', ',', 'it', 'does', \"n't\", 'seem', 'in', 'the', 'cards', '.', 'but', 'he', \"'s\", 'also', 'so', 'unpredictable', ',', 'it', 'could', 'change', '.', 'thankfully', 'i', 'saw', 'him', 'before', 'he', 'started', 'canceling', 'shows', ',', 'going', 'on', 'long', 'rants', 'and', 'showing', 'up', 'late', '.', 'but', 'i', \"'d\", 'love', 'to', 'see', 'him', 'again', ',', 'especially', 'at', 'lolla', '.', 'thoughts', '?', \"''\", '``', 'i', 'bet', 'if', 'that', 'money', 'was', 'poured', 'into', 'college', 'debt', 'or', 'health', 'debt', 'relief', ',', '81', '%', 'of', 'americans', 'would', 'have', 'been', 'for', 'it', 'instead', '.', \"''\", 'james', 'shields', 'will', 'not', 'exercise', 'opt-out', 'clause', 'there', \"'s\", 'no', 'time', 'to', 'worry', 'about', 'leaks', 'when', 'they', 'gays', 'are', 'already', 'out', 'to', 'get', 'you', '.', 'team', 'specific', 'threads', 'no', 'matter', 'how', 'many', 'articles', 'you', 'read', 'or', 'how', 'many', 'hours', 'of', 'red', 'zone', 'you', 'watch', 'nothing', 'quite', 'makes', 'up', 'for', 'watching', 'every', 'play', 'of', 'a', 'game', '.', 'would', 'the', 'members', 'of', 'this', 'community/the', 'mods', 'be', 'open', 'to', 'creating', 'a', 'sticky', 'post', 'that', 'has', 'a', 'team', 'individual', 'thread', 'for', 'every', 'team', 'in', 'the', 'nfl', 'where', 'team', 'specific', 'conversation', 'can', 'take', 'place', 'and', 'people', 'that', 'watch', 'individual', 'games', 'can', 'comment', '?', 'we', 'may', 'even', 'be', 'able', 'to', 'get', 'some', 'guys', 'from', 'team', 'specific', 'subreddits', 'to', 'stop', 'by', 'and', 'give', 'us', 'some', 'new', 'insight', '.', 'ill', 'give', 'you', 'a', 'hint', '.', 'they', 'commented', 'in', 'this', 'thread', \"''\", 'star', 'wars', ',', 'easy', '.', 'i', \"'m\", 'not', 'that', 'bothered', 'about', 'indiana', 'jones', 'tbh', \"''\", 'you', \"'re\", 'adorable', '.', '``', 'he', 'actually', 'acts', 'like', 'a', 'moody', 'emo', 'girl', 'on', 'twitter', '.', 'he', 'lashes', 'out', 'over', 'incredibly', 'petty', 'things', 'and', 'takes', 'it', 'out', 'on', 'social', 'media', '.', 'he', \"'s\", 'a', '70', 'year', 'old', 'man', 'doing', 'this', ',', 'grow', 'the', 'fuck', 'up', 'and', 'think', 'of', 'your', 'dignity', 'man', '.', \"''\", '``', 'clinton', 'struggles', 'to', 'gain', 'traction', 'in', 'florida', ',', 'despite', 'spending', '-', 'clinton', 'shocked', 'money', 'ca', \"n't\", 'buy', 'everything', \"''\", 'is', 'that', 'the', 'older', 'clark', 'and', 'older', 'lois', '?', '``', '*', 'guilt', 'roles', 'over', 'mel', ',', 'and', 'he', 'hesitates', 'for', 'a', 'moment', 'before', 'pulling', 'the', 'girl', 'into', 'a', 'hug', '.', '*', '``', \"''\", 'shhh', ',', 'it', \"'s\", 'okay', 'tara', '.', 'you', 'two', 'are', \"n't\", 'going', 'anywhere', 'this', 'time', '.', 'aurelia', 'and', 'i', 'wo', \"n't\", 'let', 'that', 'happen', '.', \"''\", \"''\", \"''\", 'they', 'will', 'never', 'get', 'the', 'stability', 'of', 'the', '3ds', '.', '``', 'i', 'still', 'doubt', 'that', '``', \"''\", 'all', 'conservatives', 'stand', 'for', 'is', 'defeating', 'liberals', \"''\", \"''\", '.', 'if', 'you', 'use', 'the', 'election', 'of', 'trump', 'as', 'an', 'example', 'for', 'the', 'failure', 'of', 'modern', 'conservatism', ',', 'is', 'it', 'also', 'fair', 'to', 'use', 'the', 'election', 'of', 'hillary', 'clinton', 'as', 'a', 'representative', 'for', 'modern', 'liberalism', '?', 'i', 'guess', 'not', '.', 'and', 'the', '``', \"''\", 'all', 'conservatives', 'stand', 'for', 'is', 'defeating', 'liberals', \"''\", \"''\", 'could', 'be', 'applied', 'vice', 'versa', 'if', 'you', 'only', 'listen', 'to', 'people', 'who', 'are', 'the', 'loudest', '.', \"''\", 'today', 'russian', 'media', 'tweeted', 'out', 'that', 'wikileaks', 'had', 'released', 'more', 'of', 'podesta', \"'s\", 'emails', 'before', 'wikileaks', 'even', 'did', 'it', '.', 'there', 'is', 'some', 'control', 'here', '.', '``', 'thank', 'you', ',', 'jagex', ',', 'for', 'being', 'cool', 'jagex', 'has', 'always', 'been', 'a', 'cool', 'company', ',', 'and', 'we', 'could', 'thank', 'them', 'for', 'tons', 'of', 'things', ',', 'but', 'i', 'just', 'noticed', 'that', 'they', 'do', \"n't\", 'charge', 'your', 'card', 'as', 'a', 'recurring', 'subscription', '.', 'so', 'many', 'companies', 'today', 'do', 'scummy', 'things', 'where', 'they', 'try', 'to', 'get', 'you', 'to', 'sign', 'up', 'for', 'something', 'so', 'they', 'can', 'bill', 'you', 'monthly', 'and', 'hope', 'you', \"'ll\", 'forget', 'about', 'it', ',', 'but', 'jagex', 'only', 'runs', 'your', 'subscription', 'for', 'as', 'long', 'as', 'you', 'purchased', '.', 'i', 'know', 'it', \"'s\", 'nothing', 'huge', ',', 'but', 'it', \"'s\", 'something', 'i', 'appreciate', '.', \"''\", '467', 'a', 'lovely', 'way', '!', 'jesus', 'got', \"''\", \"''\", \"''\", 'you', 'are', 'like', 'the', 'end', 'piece', 'of', 'bread', 'in', 'a', 'loaf', ',', 'everyone', 'touches', 'you', 'but', 'no', 'one', 'wants', 'you', '.', \"''\", \"''\", \"''\", 'found', 'this', 'under', 'a', 'box', 'of', 'porno', 'mags', 'well', 'cleaning', 'out', 'a', 'trailer', '...', 'who', '?', 'but', 'what', 'format', 'pro', 'tip', '-', 'fool', 'around', 'with', 'worldy', 'girls', '.', '*', 'is', 'confused', 'why', 'so', 'many', 'people', 'dislike', 'nickelback', '.', '*', 'not', 'that', 'i', \"'m\", 'a', 'fan', 'but', 'imo', 'the', 'music', 'is', 'decent', 'enough', '.', '``', 'the', 'dumb', 'thing', 'is', ',', 'they', 'are', 'risking', 'their', 'seller', 'account', ',', 'too', '.', \"''\", 'pgt', ':', '9/4', 'vs.', 'indians', 'all', 'rants', 'and', 'angry', 'posts', 'go', 'here', '.', 'i', \"'ll\", 'start', '.', 'fuck', 'fernando', 'rodney', 'this', 'is', 'a', 'great', 'response', '!', 'too', 'bad', 'about', 'the', 'lack', 'of', 'accolades', '.', 'north', 'korea', 'has', 'never', 'lied', '.', 'not', 'once', '.', '``', 'your', 'house', 'is', 'burning', 'down', 'and', 'you', 'only', 'have', 'time', 'to', 'grab', 'one', 'thing', '(', 'not', 'including', 'family', 'or', 'pets', ')', ',', 'what', 'do', 'you', 'grab', '?', \"''\", 'poor', 'dan', '.', 'he', 'looks', 'like', 'he', 'needs', 'some', 'coffee', 'or', 'a', 'energy', 'drink', '.', 'i', 'do', \"n't\", 'think', 'i', \"'ve\", 'ever', 'seen', 'him', 'be', 'this', 'quiet', 'during', 'a', 'live', 'stream', '.', 'this', 'season', \"'s\", 'nfc', 'equivalent', 'of', 'the', 'browns', 'is', 'straight', 'up', 'butt', 'fucking', 'us', '.', 'i', 'do', \"n't\", 'know', 'how', 'to', 'handle', 'this', '.', '``', 'umm', 'yes', '!', 'it', 'was', 'a', 'huge', 'scandal', ',', 'do', 'you', 'not', 'member', '?', \"''\", '``', 'hey', '...', 'do', \"n't\", 'are', \"n't\", 'you', 'know', 'that', 'a', 'convoluted', 'unsupported', 'theory', 'which', 'is', 'only', '``', \"''\", 'proven', \"''\", \"''\", 'by', 'a', '*', '*', 'reddit', 'comment', '*', '*', 'is', 'a', 'definite', 'fact', '?', 'i', 'mean', 'how', 'can', 'a', 'simple', 'explanation', 'make', 'more', 'sense', '.', 'clearly', 'the', 'tinfoil', 'hat', 'explanation', 'always', 'make', 'more', 'sense', ',', 'always', '.', \"''\", '``', '1,571,048', \"''\", 'but', 'i', 'liked', 'xpascal', 'better', 'with', 'tartle', 'then', 'with', 'chowex', 'clinton', 'campaign', 'accuses', 'fbi', 'of', \"'blatant\", 'double', 'standard', \"'\"]\n",
      "548\n"
     ]
    }
   ],
   "source": [
    "# b). how many tokens in the file & how many unique tokens in the file\n",
    "#import csv\n",
    "from nltk.tokenize import regexp_tokenize, word_tokenize\n",
    "\n",
    "\n",
    "tokens = word_tokenize(read_data)\n",
    "print(len(tokens))\n",
    "tokens = [word.lower() for word in tokens]\n",
    "print(tokens)\n",
    "print(len(set(tokens)))\n",
    "#pattern = r\"\\[.*\\]\"\n",
    "#tokens = regexp_tokenize(read_data, pattern = pattern)\n",
    "\n",
    "\n",
    "\n"
   ],
   "metadata": {
    "collapsed": false,
    "pycharm": {
     "name": "#%%\n"
    }
   }
  },
  {
   "cell_type": "code",
   "execution_count": 33,
   "outputs": [],
   "source": [
    "#nltk.download('averaged_perceptron_tagger')\n",
    "#Lem_words = pos_tag(tokens)\n",
    "#print(Lem_words)\n",
    "#print(len(Lem_words))\n"
   ],
   "metadata": {
    "collapsed": false,
    "pycharm": {
     "name": "#%%\n"
    }
   }
  },
  {
   "cell_type": "code",
   "execution_count": 33,
   "outputs": [
    {
     "name": "stdout",
     "output_type": "stream",
     "text": [
      "['blazer', 'maverick', 'west', 'playoff', 'favor', 'blazer', 'maverick', 'west', 'playoff', 'favor', 'build', 'tm', 'switch', 'feature', 'cancel', 'cancel', 'show', 'rant', 'show', 'thought', 'pour', 'american', 'jam', 'shield', 'leak', 'article', 'hour', 'mod', 'create', 'guy', 'u', 'war', 'bother', 'act', 'lash', 'medium', 'struggle', 'shock', 'role', 'hesitate', 'pull', '3d', 'conservative', 'defeat', 'liberal', 'conservative', 'defeat', 'liberal', 'apply', 'loud', 'medium', 'tweet', 'release', 'email', 'ton', 'notice', 'recur', 'run', 'purchase', 'touch', 'mag', 'clean', 'confuse', 'risk', 'rant', 'accolade', 'lie', 'burn', 'include', 'pet', 'look', 'need', 'brown', 'u', 'convolute', 'accuse']\n",
      "{'better', 'struggles', 'applied', 'loudest', 'tons', 'cards', 'confused', 'mods', 'commented', '3ds', 'americans', 'pets', 'shields', 'older', 'roles', 'pulling', 'features', 'posts', 'touches', 'showing', 'poured', 'lied', 'tweeted', 'burning', 'blazers', 'did', 'hesitates', 'is', 'lashes', 'guys', 'shows', 'playoffs', 'thinking', 'liberals', 'makes', 'specs', 'mavericks', 'convoluted', 'liked', 'canceling', 'watching', 'tms', 'favored', 'including', 'builds', 'wars', 'got', 'risking', 'fucking', 'noticed', 'looks', 'found', 'leaks', 'started', 'games', 'bothered', 'articles', 'conservatives', 'members', 'thoughts', 'was', 'james', 'are', 'spending', 'accolades', 'accuses', 'been', 'rants', 'had', 'takes', 'needs', 'has', 'girls', 'made', 'acts', 'wants', 'runs', 'seen', 'switches', 'companies', 'purchased', 'defeating', 'threads', 'browns', 'things', 'released', 'mags', 'lived', 'media', 'hours', 'canceled', 'us', 'going', 'wests', 'emails', 'creating', 'does', 'being', 'doing', 'recurring', 'shocked', 'cleaning'}\n",
      "509\n"
     ]
    }
   ],
   "source": [
    "from nltk import pos_tag\n",
    "\n",
    "from nltk.stem import WordNetLemmatizer\n",
    "import nltk\n",
    "# nltk.download('wordnet')\n",
    "# nltk.download('omw-1.4')\n",
    "\n",
    "wordnet_lematizer = WordNetLemmatizer()\n",
    "\n",
    "def lematizer(token_words):\n",
    "    Lem_words = pos_tag(token_words)\n",
    "    words_lematizer = []\n",
    "    for word, tag in Lem_words:\n",
    "        if tag.startswith('NN'):\n",
    "            word_lematizer =  wordnet_lematizer.lemmatize(word, pos='n')\n",
    "        elif tag.startswith('VB'):\n",
    "            word_lematizer =  wordnet_lematizer.lemmatize(word, pos='v')\n",
    "        elif tag.startswith('JJ'):\n",
    "            word_lematizer =  wordnet_lematizer.lemmatize(word, pos='a')\n",
    "        elif tag.startswith('R'):\n",
    "            word_lematizer =  wordnet_lematizer.lemmatize(word, pos='r')\n",
    "        else:\n",
    "            word_lematizer =  wordnet_lematizer.lemmatize(word)\n",
    "        words_lematizer.append(word_lematizer)\n",
    "    return words_lematizer\n",
    "tokens_lematized = lematizer(tokens)\n",
    "filtered = [i for i in tokens_lematized if i not in tokens]\n",
    "filtered_before = [i for i in tokens if i not in tokens_lematized]\n",
    "print(filtered)\n",
    "print(set(filtered_before))\n",
    "#print(tokens_lematized)\n",
    "print(len(set(tokens_lematized)))"
   ],
   "metadata": {
    "collapsed": false,
    "pycharm": {
     "name": "#%%\n"
    }
   }
  },
  {
   "cell_type": "code",
   "execution_count": 21,
   "outputs": [
    {
     "name": "stdout",
     "output_type": "stream",
     "text": [
      "1279\n",
      "['``', 'yeah', ',', 'i', 'get', 'that', 'argument', '.', 'at', 'thi', 'point', ',', 'i', \"'d\", 'prefer', 'be', 'she', 'live', 'in', 'nc', 'as', 'well', '.', \"''\", 'the', 'blazer', 'and', 'maverick', '(', 'the', 'west', '5', 'and', '6', 'seed', ')', 'do', 'not', 'even', 'carri', 'a', 'good', 'enough', 'record', 'to', 'make', 'the', 'playoff', 'in', 'the', 'east', 'last', 'year', '.', 'they', \"'re\", 'favor', 'to', 'win', '.', '``', 'yeah', ',', 'i', 'get', 'that', 'argument', '.', 'at', 'thi', 'point', ',', 'i', \"'d\", 'prefer', 'be', 'she', 'live', 'in', 'nc', 'as', 'well', '.', \"''\", 'the', 'blazer', 'and', 'maverick', '(', 'the', 'west', '5', 'and', '6', 'seed', ')', 'do', 'not', 'even', 'carri', 'a', 'good', 'enough', 'record', 'to', 'make', 'the', 'playoff', 'in', 'the', 'east', 'last', 'year', '.', 'they', \"'re\", 'favor', 'to', 'win', '.', 'deadass', 'do', \"n't\", 'kill', 'my', 'buzz', 'yep', 'can', 'confirm', 'i', 'saw', 'the', 'tool', 'they', 'use', 'for', 'that', '.', 'it', 'be', 'make', 'by', 'our', 'boy', 'easports_mut', 'do', 'you', 'find', 'ariana', 'grand', 'sexi', '?', 'what', \"'s\", 'your', 'weird', 'or', 'unsettl', 'trick', 'or', 'treat', 'stori', '?', 'probabl', 'sephiroth', '.', 'i', 'refus', 'to', 'taint', 'hi', 'great', 'with', '*', 'my', '*', 'weak', 'build', '.', 'he', 'should', 'equip', '*', 'onli', '*', 'the', 'best', 'tm', '.', '``', 'what', 'to', 'upgrad', '?', 'i', 'have', '$', '500', 'to', 'spend', '(', 'mainli', 'becaus', 'it', \"'s\", 'my', 'birthday', 'on', 'the', '31st', ')', 'and', 'i', \"'m\", 'not', 'realli', 'sure', 'what', 'to', 'upgrad', '.', 'i', 'do', \"n't\", 'have', 'to', 'spend', 'all', '$', '500', ',', 'i', 'could', 'spend', 'as', 'littl', 'or', 'all', 'of', 'it', 'if', 'i', 'want', '.', 'spec', 'be', ':', 'cpu', ':', 'i5-6600k', 'cooler', ':', 'cm', '212', 'evo', 'ram', ':', '8gb', 'corsair', 'vengenc', 'lpx', '2400mhz', 'gpu', ':', 'evga', 'gtx', '1070', 'sc', 'case', ':', 'corsair', 'spec', 'alpha', 'psu', ':', 'evga', 'p2', '650w', 'storag', ':', 'one', '480', 'gb', 'corsair', 'forc', 'le', 'monitor', ':', 'benq', 'xl2411z', 'keyboard', ':', 'razer', 'blackwidow', 'tournament', 'edit', 'what', 'i', \"'m\", 'think', 'of', 'right', 'now', 'be', ':', '-get', 'a', '1tb', 'wd', 'blue', '-buy', 'anoth', '8gb', 'of', 'ram', '-replac', 'my', 'razer', 'blackwidow', 'with', 'a', 'keyboard', 'with', 'actual', 'cherri', 'mx', 'switch', '-replac', 'my', 'case', '(', 'do', \"n't\", 'realli', 'offer', 'featur', 'for', 'good', 'cabl', 'manag', ')', '-save', 'up', 'for', 'a', 'volta', 'card', \"''\", \"''\", 'probabl', 'count', 'kany', 'out', 'sinc', 'the', 'rest', 'of', 'hi', 'tour', 'be', 'cancel', ',', 'it', 'do', \"n't\", 'seem', 'in', 'the', 'card', '.', 'but', 'he', \"'s\", 'also', 'so', 'unpredict', ',', 'it', 'could', 'chang', '.', 'thank', 'i', 'saw', 'him', 'befor', 'he', 'start', 'cancel', 'show', ',', 'go', 'on', 'long', 'rant', 'and', 'show', 'up', 'late', '.', 'but', 'i', \"'d\", 'love', 'to', 'see', 'him', 'again', ',', 'especi', 'at', 'lolla', '.', 'thought', '?', \"''\", '``', 'i', 'bet', 'if', 'that', 'money', 'be', 'pour', 'into', 'colleg', 'debt', 'or', 'health', 'debt', 'relief', ',', '81', '%', 'of', 'american', 'would', 'have', 'be', 'for', 'it', 'instead', '.', \"''\", 'jam', 'shield', 'will', 'not', 'exercis', 'opt-out', 'claus', 'there', \"'s\", 'no', 'time', 'to', 'worri', 'about', 'leak', 'when', 'they', 'gay', 'be', 'alreadi', 'out', 'to', 'get', 'you', '.', 'team', 'specif', 'thread', 'no', 'matter', 'how', 'mani', 'articl', 'you', 'read', 'or', 'how', 'mani', 'hour', 'of', 'red', 'zone', 'you', 'watch', 'noth', 'quit', 'make', 'up', 'for', 'watch', 'everi', 'play', 'of', 'a', 'game', '.', 'would', 'the', 'member', 'of', 'thi', 'community/th', 'mod', 'be', 'open', 'to', 'creat', 'a', 'sticki', 'post', 'that', 'have', 'a', 'team', 'individu', 'thread', 'for', 'everi', 'team', 'in', 'the', 'nfl', 'where', 'team', 'specif', 'convers', 'can', 'take', 'place', 'and', 'peopl', 'that', 'watch', 'individu', 'game', 'can', 'comment', '?', 'we', 'may', 'even', 'be', 'abl', 'to', 'get', 'some', 'guy', 'from', 'team', 'specif', 'subreddit', 'to', 'stop', 'by', 'and', 'give', 'u', 'some', 'new', 'insight', '.', 'ill', 'give', 'you', 'a', 'hint', '.', 'they', 'comment', 'in', 'thi', 'thread', \"''\", 'star', 'war', ',', 'easi', '.', 'i', \"'m\", 'not', 'that', 'bother', 'about', 'indiana', 'jone', 'tbh', \"''\", 'you', \"'re\", 'ador', '.', '``', 'he', 'actual', 'act', 'like', 'a', 'moodi', 'emo', 'girl', 'on', 'twitter', '.', 'he', 'lash', 'out', 'over', 'incred', 'petti', 'thing', 'and', 'take', 'it', 'out', 'on', 'social', 'medium', '.', 'he', \"'s\", 'a', '70', 'year', 'old', 'man', 'do', 'thi', ',', 'grow', 'the', 'fuck', 'up', 'and', 'think', 'of', 'your', 'digniti', 'man', '.', \"''\", '``', 'clinton', 'struggl', 'to', 'gain', 'traction', 'in', 'florida', ',', 'despit', 'spend', '-', 'clinton', 'shock', 'money', 'ca', \"n't\", 'buy', 'everyth', \"''\", 'be', 'that', 'the', 'old', 'clark', 'and', 'old', 'loi', '?', '``', '*', 'guilt', 'role', 'over', 'mel', ',', 'and', 'he', 'hesit', 'for', 'a', 'moment', 'befor', 'pull', 'the', 'girl', 'into', 'a', 'hug', '.', '*', '``', \"''\", 'shhh', ',', 'it', \"'s\", 'okay', 'tara', '.', 'you', 'two', 'be', \"n't\", 'go', 'anywher', 'thi', 'time', '.', 'aurelia', 'and', 'i', 'wo', \"n't\", 'let', 'that', 'happen', '.', \"''\", \"''\", \"''\", 'they', 'will', 'never', 'get', 'the', 'stabil', 'of', 'the', '3d', '.', '``', 'i', 'still', 'doubt', 'that', '``', \"''\", 'all', 'conserv', 'stand', 'for', 'be', 'defeat', 'liber', \"''\", \"''\", '.', 'if', 'you', 'use', 'the', 'elect', 'of', 'trump', 'a', 'an', 'exampl', 'for', 'the', 'failur', 'of', 'modern', 'conservat', ',', 'be', 'it', 'also', 'fair', 'to', 'use', 'the', 'elect', 'of', 'hillari', 'clinton', 'a', 'a', 'repres', 'for', 'modern', 'liber', '?', 'i', 'guess', 'not', '.', 'and', 'the', '``', \"''\", 'all', 'conserv', 'stand', 'for', 'be', 'defeat', 'liber', \"''\", \"''\", 'could', 'be', 'appli', 'vice', 'versa', 'if', 'you', 'onli', 'listen', 'to', 'peopl', 'who', 'be', 'the', 'loud', '.', \"''\", 'today', 'russian', 'medium', 'tweet', 'out', 'that', 'wikileak', 'have', 'releas', 'more', 'of', 'podesta', \"'s\", 'email', 'befor', 'wikileak', 'even', 'do', 'it', '.', 'there', 'be', 'some', 'control', 'here', '.', '``', 'thank', 'you', ',', 'jagex', ',', 'for', 'be', 'cool', 'jagex', 'have', 'alway', 'be', 'a', 'cool', 'compani', ',', 'and', 'we', 'could', 'thank', 'them', 'for', 'ton', 'of', 'thing', ',', 'but', 'i', 'just', 'notic', 'that', 'they', 'do', \"n't\", 'charg', 'your', 'card', 'a', 'a', 'recur', 'subscript', '.', 'so', 'mani', 'compani', 'today', 'do', 'scummi', 'thing', 'where', 'they', 'tri', 'to', 'get', 'you', 'to', 'sign', 'up', 'for', 'someth', 'so', 'they', 'can', 'bill', 'you', 'monthli', 'and', 'hope', 'you', \"'ll\", 'forget', 'about', 'it', ',', 'but', 'jagex', 'onli', 'run', 'your', 'subscript', 'for', 'as', 'long', 'a', 'you', 'purchas', '.', 'i', 'know', 'it', \"'s\", 'noth', 'huge', ',', 'but', 'it', \"'s\", 'someth', 'i', 'appreci', '.', \"''\", '467', 'a', 'love', 'way', '!', 'jesu', 'get', \"''\", \"''\", \"''\", 'you', 'be', 'like', 'the', 'end', 'piec', 'of', 'bread', 'in', 'a', 'loaf', ',', 'everyon', 'touch', 'you', 'but', 'no', 'one', 'want', 'you', '.', \"''\", \"''\", \"''\", 'find', 'thi', 'under', 'a', 'box', 'of', 'porno', 'mag', 'well', 'clean', 'out', 'a', 'trailer', '...', 'who', '?', 'but', 'what', 'format', 'pro', 'tip', '-', 'fool', 'around', 'with', 'worldi', 'girl', '.', '*', 'be', 'confus', 'whi', 'so', 'mani', 'peopl', 'dislik', 'nickelback', '.', '*', 'not', 'that', 'i', \"'m\", 'a', 'fan', 'but', 'imo', 'the', 'music', 'be', 'decent', 'enough', '.', '``', 'the', 'dumb', 'thing', 'be', ',', 'they', 'be', 'risk', 'their', 'seller', 'account', ',', 'too', '.', \"''\", 'pgt', ':', '9/4', 'vs.', 'indian', 'all', 'rant', 'and', 'angri', 'post', 'go', 'here', '.', 'i', \"'ll\", 'start', '.', 'fuck', 'fernando', 'rodney', 'thi', 'be', 'a', 'great', 'respons', '!', 'too', 'bad', 'about', 'the', 'lack', 'of', 'accolad', '.', 'north', 'korea', 'have', 'never', 'lie', '.', 'not', 'onc', '.', '``', 'your', 'hous', 'be', 'burn', 'down', 'and', 'you', 'onli', 'have', 'time', 'to', 'grab', 'one', 'thing', '(', 'not', 'includ', 'famili', 'or', 'pet', ')', ',', 'what', 'do', 'you', 'grab', '?', \"''\", 'poor', 'dan', '.', 'he', 'look', 'like', 'he', 'need', 'some', 'coffe', 'or', 'a', 'energi', 'drink', '.', 'i', 'do', \"n't\", 'think', 'i', \"'ve\", 'ever', 'see', 'him', 'be', 'thi', 'quiet', 'dure', 'a', 'live', 'stream', '.', 'thi', 'season', \"'s\", 'nfc', 'equival', 'of', 'the', 'brown', 'be', 'straight', 'up', 'butt', 'fuck', 'u', '.', 'i', 'do', \"n't\", 'know', 'how', 'to', 'handl', 'thi', '.', '``', 'umm', 'ye', '!', 'it', 'be', 'a', 'huge', 'scandal', ',', 'do', 'you', 'not', 'member', '?', \"''\", '``', 'hey', '...', 'do', \"n't\", 'be', \"n't\", 'you', 'know', 'that', 'a', 'convolut', 'unsupport', 'theori', 'which', 'be', 'onli', '``', \"''\", 'proven', \"''\", \"''\", 'by', 'a', '*', '*', 'reddit', 'comment', '*', '*', 'be', 'a', 'definit', 'fact', '?', 'i', 'mean', 'how', 'can', 'a', 'simpl', 'explan', 'make', 'more', 'sens', '.', 'clearli', 'the', 'tinfoil', 'hat', 'explan', 'alway', 'make', 'more', 'sens', ',', 'alway', '.', \"''\", '``', '1,571,048', \"''\", 'but', 'i', 'like', 'xpascal', 'well', 'with', 'tartl', 'then', 'with', 'chowex', 'clinton', 'campaign', 'accus', 'fbi', 'of', \"'blatant\", 'doubl', 'standard', \"'\"]\n",
      "504\n",
      "{'thi', 'upgrad', 'jone', 'hour', 'porno', 'featur', 'forc', 'volta', 'scummi', 'an', 'look', 'burn', 'actual', 'reddit', 'where', 'risk', 'edit', 'member', 'and', 'birthday', 'mel', 'ador', 'social', 'now', 'mx', 'matter', 'start', 'ton', 'nickelback', 'cool', 'music', 'ill', 'grand', 'which', 'stori', 'american', 'compani', 'their', 'convolut', 'failur', 'want', 'sens', 'handl', '6', 'vengenc', 'despit', 'pet', 'guy', 'count', 'the', 'elect', 'sexi', 'they', 'listen', 'dan', 'everi', 'jagex', '``', 'them', 'yep', 'case', 'unpredict', 'especi', 'for', \"'ve\", 'littl', '500', 'out', '1070', 'cherri', 'stream', 'fool', 'notic', 'well', 'bet', 'late', 'old', 'one', 'whi', 'all', 'fact', 'here', 'okay', 'weird', 'on', 'under', 'yeah', 'too', 'tip', 'grab', 'theori', ',', 'build', 'dumb', '(', 'doubl', 'clearli', 'way', 'there', 'tara', 'cpu', 'trailer', 'u', 'carri', 'star', 'trump', 'money', 'control', 'even', 'mag', 'fuck', 'card', 'poor', \"'ll\", 'lolla', 'about', 'rest', 'blackwidow', 'north', 'stabil', 'tinfoil', 'korea', 'so', 'convers', 'bread', 'subreddit', 'proven', 'indiana', 'aurelia', 'never', 'angri', 'taint', '-get', 'role', 'two', '%', 'everyon', 'traction', 'definit', 'fair', 'like', 'war', 'record', 'pgt', 'or', \"'\", 'sinc', 'alpha', 'hous', 'simpl', 'hey', 'it', 'east', 'shield', 'wd', 'today', 'rant', 'ram', 'spec', 'thank', 'mainli', 'trick', 'sc', 'format', 'show', 'argument', 'may', 'confus', 'refus', 'hi', 'have', 'accus', '31st', 'hint', '212', 'fbi', 'treat', 'make', 'easi', 'charg', 'onc', \"'blatant\", 'standard', '5', 'just', 'relief', 'moodi', 'what', 'cm', 'respons', 'energi', 'bother', 'could', 'take', 'individu', 'live', 'le', 'hug', 'you', 'gb', 'account', 'instead', 'go', 'man', 'noth', 'season', 'buy', 'digniti', 'lpx', 'deadass', 'happen', 'touch', 'dure', 'switch', '480', 'includ', 'nc', 'sign', 'wikileak', 'leak', '!', 'gpu', 'drink', 'enough', 'thread', 'quiet', 'no', 'hillari', 'new', 'petti', 'hat', 'run', 'colleg', 'buzz', 'more', 'gtx', 'huge', 'end', 'do', 'abl', 'if', 'conserv', 'benq', 'anywher', 'purchas', 'ever', '1tb', 'lash', 'forget', 'as', 'tool', 'give', 'quit', 'seed', 'liber', 'comment', 'email', 'creat', 'team', 'around', 'someth', 'russian', 'equival', 'last', 'at', 'my', \"''\", 'monitor', 'zone', 'of', '-replac', 'keyboard', 'bill', 'act', 'community/th', 'dislik', 'open', \"'m\", 'maverick', 'a', 'use', 'specif', 'thing', '8gb', '$', 'him', '*', 'imo', 'realli', 'i5-6600k', 'know', 'umm', 'gay', 'twitter', 'post', 'boy', 'probabl', 'weak', 'guess', 'sephiroth', 'appreci', 'becaus', '.', 'subscript', 'kill', 'need', 'storag', 'into', 'easports_mut', ')', 'opt-out', 'that', 'claus', 'anoth', 'best', 'exercis', 'lack', 'be', 'brown', 'mean', 'loi', 'should', '650w', 'offer', 'alway', 'conservat', 'find', 'she', 'think', 'over', 'loaf', 'manag', 'fernando', \"n't\", 'explan', 'let', 'how', 'psu', 'chang', 'scandal', \"'d\", 'confirm', 'xl2411z', '-', 'will', 'gain', 'but', 'with', 'read', 'straight', 'shock', 'fan', 'when', 'place', 'vice', 'tbh', 'clean', 'tm', 'chowex', 'unsupport', 'up', 'hope', 'butt', 'worldi', 'struggl', 'then', 'modern', 'ca', '-buy', 'pour', 'to', 'unsettl', 'sticki', 'prefer', 'equip', 'appli', 'befor', 'peopl', '...', '?', 'not', 'right', 'p2', '1,571,048', 'can', 'debt', 'evga', 'repres', 'who', 'tri', 'pro', 'from', 'versa', 'good', 'emo', 'game', 'defeat', 'west', '2400mhz', 'medium', 'cooler', 'lie', 'i', 'stop', 'tweet', 'watch', '-save', 'tartl', 'he', 'thought', 'worri', 'sure', 'corsair', 'jesu', 'some', 'blazer', '70', 'health', 'insight', 'wo', 'piec', 'red', 'articl', 'box', 'see', 'vs.', 'in', 'podesta', 'kany', 'tour', 'cabl', 'clark', 'saw', 'clinton', 'guilt', 'cancel', 'alreadi', 'great', 'recur', 'releas', 'bad', 'seller', 'seem', 'down', 'get', 'again', 'razer', 'xpascal', 'mod', 'stand', 'exampl', 'incred', 'indian', 'campaign', '81', 'moment', 'decent', 'love', 'monthli', 'nfc', 'onli', 'tournament', 'point', 'coffe', 'doubt', 'we', 'rodney', 'time', '9/4', 'girl', 'playoff', 'evo', 'everyth', 'favor', 'spend', 'loud', 'still', \"'s\", 'shhh', 'win', ':', \"'re\", 'would', 'by', 'long', 'year', 'hesit', 'our', 'famili', 'pull', 'jam', 'your', 'nfl', '3d', 'blue', 'mani', 'play', 'ye', 'ariana', 'grow', 'accolad', 'florida', 'also', '467'}\n"
     ]
    }
   ],
   "source": [
    "from nltk.stem import PorterStemmer\n",
    "def stemm(tokens):\n",
    "    ps = PorterStemmer()\n",
    "    stemmed_words = []\n",
    "    for w in tokens:\n",
    "        stemmed_words.append(ps.stem(w))\n",
    "    return stemmed_words\n",
    "\n",
    "stemm_tokens = stemm(tokens_lematized)\n",
    "print(len(stemm_tokens))\n",
    "print(stemm_tokens)\n",
    "print(len(set(stemm_tokens)))\n",
    "print(set(stemm_tokens))"
   ],
   "metadata": {
    "collapsed": false,
    "pycharm": {
     "name": "#%%\n"
    }
   }
  },
  {
   "cell_type": "code",
   "execution_count": 25,
   "outputs": [
    {
     "name": "stdout",
     "output_type": "stream",
     "text": [
      "0.3940578577013292\n"
     ]
    }
   ],
   "source": [
    "# b.3). type/tokens ratio\n",
    "def tt_ratio(tokens):\n",
    "    #print(type(tokens))\n",
    "    unique_tokens = set(tokens)\n",
    "    #print(unique_tokens)\n",
    "    type_tokens_ratio = len(unique_tokens) / len(stemm_tokens)\n",
    "    return type_tokens_ratio\n",
    "\n",
    "print(tt_ratio(stemm_tokens))"
   ],
   "metadata": {
    "collapsed": false,
    "pycharm": {
     "name": "#%%\n"
    }
   }
  },
  {
   "cell_type": "code",
   "execution_count": null,
   "outputs": [],
   "source": [],
   "metadata": {
    "collapsed": false,
    "pycharm": {
     "name": "#%%\n"
    }
   }
  },
  {
   "cell_type": "code",
   "execution_count": 27,
   "outputs": [
    {
     "name": "stdout",
     "output_type": "stream",
     "text": [
      "[('.', 58), (\"''\", 36), ('be', 34), ('a', 33), ('the', 31), ('i', 29), (',', 28), ('to', 22), ('you', 21), ('of', 20), ('``', 18), ('and', 18), ('do', 16), ('for', 15), ('that', 14), ('it', 14), (\"n't\", 12), ('*', 12), (':', 12), ('thi', 11)]\n"
     ]
    }
   ],
   "source": [
    "# c) frequency of each tokens & top 20 frequency\n",
    "from nltk.probability import FreqDist\n",
    "\n",
    "def frequency(tokens):\n",
    "    freq = FreqDist(tokens)\n",
    "    return freq\n",
    "#print(freq.values())\n",
    "freq = frequency(stemm_tokens)\n",
    "print(freq.most_common(20))\n",
    "#print(freq.items())"
   ],
   "metadata": {
    "collapsed": false,
    "pycharm": {
     "name": "#%%\n"
    }
   }
  },
  {
   "cell_type": "code",
   "execution_count": 85,
   "outputs": [
    {
     "name": "stdout",
     "output_type": "stream",
     "text": [
      "342\n"
     ]
    }
   ],
   "source": [
    "# d). once frequency\n",
    "from collections import Counter\n",
    "def count_freq(frequency, n):\n",
    "    value_list = [v for _, v in frequency.items()]\n",
    "    count = Counter(value_list)\n",
    "    return count[n]\n",
    "print(count_freq(freq,1))"
   ],
   "metadata": {
    "collapsed": false,
    "pycharm": {
     "name": "#%%\n"
    }
   }
  },
  {
   "cell_type": "code",
   "execution_count": 22,
   "outputs": [
    {
     "name": "stdout",
     "output_type": "stream",
     "text": [
      "524\n",
      "['yeah', 'i', 'get', 'that', 'argument', 'at', 'this', 'point', 'i', \"'d\", 'prefer', 'is', 'she', 'lived', 'in', 'nc', 'as', 'well', 'the', 'blazers', 'and', 'mavericks', 'the', 'wests', 'and', 'seed', 'did', 'not', 'even', 'carry', 'a', 'good', 'enough', 'record', 'to', 'make', 'the', 'playoffs', 'in', 'the', 'east', 'last', 'year', 'they', \"'re\", 'favored', 'to', 'win', 'yeah', 'i', 'get', 'that', 'argument', 'at', 'this', 'point', 'i', \"'d\", 'prefer', 'is', 'she', 'lived', 'in', 'nc', 'as', 'well', 'the', 'blazers', 'and', 'mavericks', 'the', 'wests', 'and', 'seed', 'did', 'not', 'even', 'carry', 'a', 'good', 'enough', 'record', 'to', 'make', 'the', 'playoffs', 'in', 'the', 'east', 'last', 'year', 'they', \"'re\", 'favored', 'to', 'win', 'deadass', 'do', \"n't\", 'kill', 'my', 'buzz', 'yep', 'can', 'confirm', 'i', 'saw', 'the', 'tool', 'they', 'use', 'for', 'that', 'it', 'was', 'made', 'by', 'our', 'boy', 'easports_mut', 'do', 'you', 'find', 'ariana', 'grande', 'sexy', 'what', \"'s\", 'your', 'weird', 'or', 'unsettling', 'trick', 'or', 'treat', 'story', 'probably', 'sephiroth', 'i', 'refuse', 'to', 'taint', 'his', 'greatness', 'with', 'my', 'weak', 'builds', 'he', 'should', 'equip', 'only', 'the', 'best', 'tms', 'what', 'to', 'upgrade', 'i', 'have', 'to', 'spend', 'mainly', 'because', 'it', \"'s\", 'my', 'birthday', 'on', 'the', '31st', 'and', 'i', \"'m\", 'not', 'really', 'sure', 'what', 'to', 'upgrade', 'i', 'do', \"n't\", 'have', 'to', 'spend', 'all', 'i', 'could', 'spend', 'as', 'little', 'or', 'all', 'of', 'it', 'if', 'i', 'want', 'specs', 'are', 'cpu', 'i5-6600k', 'cooler', 'cm', 'evo', 'ram', '8gb', 'corsair', 'vengence', 'lpx', '2400mhz', 'gpu', 'evga', 'gtx', 'sc', 'case', 'corsair', 'spec', 'alpha', 'psu', 'evga', 'p2', '650w', 'storage', 'one', 'gb', 'corsair', 'force', 'le', 'monitor', 'benq', 'xl2411z', 'keyboard', 'razer', 'blackwidow', 'tournament', 'edition', 'what', 'i', \"'m\", 'thinking', 'of', 'right', 'now', 'is', '-get', 'a', '1tb', 'wd', 'blue', '-buy', 'another', '8gb', 'of', 'ram', '-replace', 'my', 'razer', 'blackwidow', 'with', 'a', 'keyboard', 'with', 'actual', 'cherry', 'mx', 'switches', '-replace', 'my', 'case', 'does', \"n't\", 'really', 'offer', 'features', 'for', 'good', 'cable', 'management', '-save', 'up', 'for', 'a', 'volta', 'card', 'probably', 'count', 'kanye', 'out', 'since', 'the', 'rest', 'of', 'his', 'tour', 'is', 'canceled', 'it', 'does', \"n't\", 'seem', 'in', 'the', 'cards', 'but', 'he', \"'s\", 'also', 'so', 'unpredictable', 'it', 'could', 'change', 'thankfully', 'i', 'saw', 'him', 'before', 'he', 'started', 'canceling', 'shows', 'going', 'on', 'long', 'rants', 'and', 'showing', 'up', 'late', 'but', 'i', \"'d\", 'love', 'to', 'see', 'him', 'again', 'especially', 'at', 'lolla', 'thoughts', 'i', 'bet', 'if', 'that', 'money', 'was', 'poured', 'into', 'college', 'debt', 'or', 'health', 'debt', 'relief', 'of', 'americans', 'would', 'have', 'been', 'for', 'it', 'instead', 'james', 'shields', 'will', 'not', 'exercise', 'opt-out', 'clause', 'there', \"'s\", 'no', 'time', 'to', 'worry', 'about', 'leaks', 'when', 'they', 'gays', 'are', 'already', 'out', 'to', 'get', 'you', 'team', 'specific', 'threads', 'no', 'matter', 'how', 'many', 'articles', 'you', 'read', 'or', 'how', 'many', 'hours', 'of', 'red', 'zone', 'you', 'watch', 'nothing', 'quite', 'makes', 'up', 'for', 'watching', 'every', 'play', 'of', 'a', 'game', 'would', 'the', 'members', 'of', 'this', 'community/the', 'mods', 'be', 'open', 'to', 'creating', 'a', 'sticky', 'post', 'that', 'has', 'a', 'team', 'individual', 'thread', 'for', 'every', 'team', 'in', 'the', 'nfl', 'where', 'team', 'specific', 'conversation', 'can', 'take', 'place', 'and', 'people', 'that', 'watch', 'individual', 'games', 'can', 'comment', 'we', 'may', 'even', 'be', 'able', 'to', 'get', 'some', 'guys', 'from', 'team', 'specific', 'subreddits', 'to', 'stop', 'by', 'and', 'give', 'us', 'some', 'new', 'insight', 'ill', 'give', 'you', 'a', 'hint', 'they', 'commented', 'in', 'this', 'thread', 'star', 'wars', 'easy', 'i', \"'m\", 'not', 'that', 'bothered', 'about', 'indiana', 'jones', 'tbh', 'you', \"'re\", 'adorable', 'he', 'actually', 'acts', 'like', 'a', 'moody', 'emo', 'girl', 'on', 'twitter', 'he', 'lashes', 'out', 'over', 'incredibly', 'petty', 'things', 'and', 'takes', 'it', 'out', 'on', 'social', 'media', 'he', \"'s\", 'a', 'year', 'old', 'man', 'doing', 'this', 'grow', 'the', 'fuck', 'up', 'and', 'think', 'of', 'your', 'dignity', 'man', 'clinton', 'struggles', 'to', 'gain', 'traction', 'in', 'florida', 'despite', 'spending', 'clinton', 'shocked', 'money', 'ca', \"n't\", 'buy', 'everything', 'is', 'that', 'the', 'older', 'clark', 'and', 'older', 'lois', 'guilt', 'roles', 'over', 'mel', 'and', 'he', 'hesitates', 'for', 'a', 'moment', 'before', 'pulling', 'the', 'girl', 'into', 'a', 'hug', 'shhh', 'it', \"'s\", 'okay', 'tara', 'you', 'two', 'are', \"n't\", 'going', 'anywhere', 'this', 'time', 'aurelia', 'and', 'i', 'wo', \"n't\", 'let', 'that', 'happen', 'they', 'will', 'never', 'get', 'the', 'stability', 'of', 'the', '3ds', 'i', 'still', 'doubt', 'that', 'all', 'conservatives', 'stand', 'for', 'is', 'defeating', 'liberals', 'if', 'you', 'use', 'the', 'election', 'of', 'trump', 'as', 'an', 'example', 'for', 'the', 'failure', 'of', 'modern', 'conservatism', 'is', 'it', 'also', 'fair', 'to', 'use', 'the', 'election', 'of', 'hillary', 'clinton', 'as', 'a', 'representative', 'for', 'modern', 'liberalism', 'i', 'guess', 'not', 'and', 'the', 'all', 'conservatives', 'stand', 'for', 'is', 'defeating', 'liberals', 'could', 'be', 'applied', 'vice', 'versa', 'if', 'you', 'only', 'listen', 'to', 'people', 'who', 'are', 'the', 'loudest', 'today', 'russian', 'media', 'tweeted', 'out', 'that', 'wikileaks', 'had', 'released', 'more', 'of', 'podesta', \"'s\", 'emails', 'before', 'wikileaks', 'even', 'did', 'it', 'there', 'is', 'some', 'control', 'here', 'thank', 'you', 'jagex', 'for', 'being', 'cool', 'jagex', 'has', 'always', 'been', 'a', 'cool', 'company', 'and', 'we', 'could', 'thank', 'them', 'for', 'tons', 'of', 'things', 'but', 'i', 'just', 'noticed', 'that', 'they', 'do', \"n't\", 'charge', 'your', 'card', 'as', 'a', 'recurring', 'subscription', 'so', 'many', 'companies', 'today', 'do', 'scummy', 'things', 'where', 'they', 'try', 'to', 'get', 'you', 'to', 'sign', 'up', 'for', 'something', 'so', 'they', 'can', 'bill', 'you', 'monthly', 'and', 'hope', 'you', \"'ll\", 'forget', 'about', 'it', 'but', 'jagex', 'only', 'runs', 'your', 'subscription', 'for', 'as', 'long', 'as', 'you', 'purchased', 'i', 'know', 'it', \"'s\", 'nothing', 'huge', 'but', 'it', \"'s\", 'something', 'i', 'appreciate', 'a', 'lovely', 'way', 'jesus', 'got', 'you', 'are', 'like', 'the', 'end', 'piece', 'of', 'bread', 'in', 'a', 'loaf', 'everyone', 'touches', 'you', 'but', 'no', 'one', 'wants', 'you', 'found', 'this', 'under', 'a', 'box', 'of', 'porno', 'mags', 'well', 'cleaning', 'out', 'a', 'trailer', 'who', 'but', 'what', 'format', 'pro', 'tip', 'fool', 'around', 'with', 'worldy', 'girls', 'is', 'confused', 'why', 'so', 'many', 'people', 'dislike', 'nickelback', 'not', 'that', 'i', \"'m\", 'a', 'fan', 'but', 'imo', 'the', 'music', 'is', 'decent', 'enough', 'the', 'dumb', 'thing', 'is', 'they', 'are', 'risking', 'their', 'seller', 'account', 'too', 'pgt', '9/4', 'vs.', 'indians', 'all', 'rants', 'and', 'angry', 'posts', 'go', 'here', 'i', \"'ll\", 'start', 'fuck', 'fernando', 'rodney', 'this', 'is', 'a', 'great', 'response', 'too', 'bad', 'about', 'the', 'lack', 'of', 'accolades', 'north', 'korea', 'has', 'never', 'lied', 'not', 'once', 'your', 'house', 'is', 'burning', 'down', 'and', 'you', 'only', 'have', 'time', 'to', 'grab', 'one', 'thing', 'not', 'including', 'family', 'or', 'pets', 'what', 'do', 'you', 'grab', 'poor', 'dan', 'he', 'looks', 'like', 'he', 'needs', 'some', 'coffee', 'or', 'a', 'energy', 'drink', 'i', 'do', \"n't\", 'think', 'i', \"'ve\", 'ever', 'seen', 'him', 'be', 'this', 'quiet', 'during', 'a', 'live', 'stream', 'this', 'season', \"'s\", 'nfc', 'equivalent', 'of', 'the', 'browns', 'is', 'straight', 'up', 'butt', 'fucking', 'us', 'i', 'do', \"n't\", 'know', 'how', 'to', 'handle', 'this', 'umm', 'yes', 'it', 'was', 'a', 'huge', 'scandal', 'do', 'you', 'not', 'member', 'hey', 'do', \"n't\", 'are', \"n't\", 'you', 'know', 'that', 'a', 'convoluted', 'unsupported', 'theory', 'which', 'is', 'only', 'proven', 'by', 'a', 'reddit', 'comment', 'is', 'a', 'definite', 'fact', 'i', 'mean', 'how', 'can', 'a', 'simple', 'explanation', 'make', 'more', 'sense', 'clearly', 'the', 'tinfoil', 'hat', 'explanation', 'always', 'make', 'more', 'sense', 'always', '1,571,048', 'but', 'i', 'liked', 'xpascal', 'better', 'with', 'tartle', 'then', 'with', 'chowex', 'clinton', 'campaign', 'accuses', 'fbi', 'of', \"'blatant\", 'double', 'standard']\n"
     ]
    }
   ],
   "source": [
    "# e). Words-only tokens\n",
    "def is_number(s):\n",
    "    try:\n",
    "        float(s)\n",
    "        return True\n",
    "    except ValueError:\n",
    "        pass\n",
    "    try:\n",
    "        import unicodedata\n",
    "        unicodedata.numeric(s)\n",
    "        return True\n",
    "    except (TypeError, ValueError):\n",
    "        pass\n",
    "    return False\n",
    "\n",
    "characters = [' ',',', '.','DBSCAN', ':', ';', '?', '(', ')', '[', ']', '&', '!', '*', '@', '#', '$', '%','-','...','^','{','}', \"''\", '``', \"'\"]\n",
    "words_list = [word for word in tokens if word not in characters and not is_number(word)]\n",
    "\n",
    "print(len(set(words_list)))\n",
    "print(words_list)"
   ],
   "metadata": {
    "collapsed": false,
    "pycharm": {
     "name": "#%%\n"
    }
   }
  },
  {
   "cell_type": "code",
   "execution_count": null,
   "outputs": [],
   "source": [
    "# pattern = r\"\\w+ |\\w+(?:[-']\\w+)* |\\w+[.,?!:]\"\n",
    "# word_tokens = regexp_tokenize(read_data, pattern = pattern)\n",
    "# print(word_tokens)"
   ],
   "metadata": {
    "collapsed": false,
    "pycharm": {
     "name": "#%%\n"
    }
   }
  },
  {
   "cell_type": "code",
   "execution_count": 28,
   "outputs": [
    {
     "name": "stdout",
     "output_type": "stream",
     "text": [
      "0.3752931978107897\n",
      "[('be', 34), ('a', 33), ('the', 31), ('i', 29), ('to', 22), ('you', 21), ('of', 20), ('and', 18), ('do', 16), ('for', 15), ('that', 14), ('it', 14), (\"n't\", 12), ('thi', 11), ('not', 10), ('they', 10), (\"'s\", 10), ('in', 9), ('he', 9), ('but', 9)]\n"
     ]
    }
   ],
   "source": [
    "words_only = lematizer(words_list)\n",
    "words_only = stemm(words_only)\n",
    "\n",
    "words_only_ratio = tt_ratio(words_only)\n",
    "print(words_only_ratio)\n",
    "\n",
    "words_only_freq = frequency(words_only)\n",
    "print(words_only_freq.most_common(20))"
   ],
   "metadata": {
    "collapsed": false,
    "pycharm": {
     "name": "#%%\n"
    }
   }
  },
  {
   "cell_type": "code",
   "execution_count": null,
   "outputs": [],
   "source": [
    "#('*', 'NNP'), ('my', 'PRP$'), ('*', 'JJ'), ('weak', 'JJ'), ('builds', 'NNS'), ('.', '.'), ('He', 'PRP'), ('should', 'MD'), ('equip', 'VB'), ('*', 'NNP'), ('ONLY', 'NNP'), ('*', 'VBZ')"
   ],
   "metadata": {
    "collapsed": false,
    "pycharm": {
     "name": "#%%\n"
    }
   }
  },
  {
   "cell_type": "code",
   "execution_count": 29,
   "outputs": [
    {
     "name": "stdout",
     "output_type": "stream",
     "text": [
      "518\n",
      "{'thi', 'upgrad', 'jone', 'hour', 'porno', 'featur', 'forc', 'volta', 'scummi', 'look', 'burn', 'actual', 'reddit', 'risk', 'edit', 'member', 'birthday', 'mel', 'ador', 'social', 'mx', 'matter', 'start', 'ton', 'nickelback', 'cool', 'music', 'ill', 'grand', 'stori', 'american', 'compani', 'convolut', 'failur', 'sens', 'handl', 'vengenc', 'despit', 'pet', 'guy', 'count', 'elect', 'listen', 'sexi', 'dan', 'everi', 'jagex', 'yep', 'case', 'unpredict', 'especi', \"'ve\", 'littl', 'cherri', 'stream', 'fool', 'notic', 'bet', 'late', 'whi', 'okay', 'weird', 'yeah', 'tip', 'grab', 'theori', 'build', 'dumb', 'doubl', 'clearli', 'tara', 'cpu', 'trailer', 'carri', 'star', 'trump', 'money', 'control', 'mag', 'fuck', 'card', 'poor', \"'ll\", 'lolla', 'rest', 'blackwidow', 'north', 'stabil', 'tinfoil', 'korea', 'convers', 'bread', 'subreddit', 'indiana', 'aurelia', 'angri', 'taint', '-get', 'role', 'everyon', 'traction', 'definit', 'fair', 'war', 'record', 'pgt', 'sinc', 'alpha', 'hous', 'simpl', 'hey', 'east', 'shield', 'wd', 'today', 'rant', 'ram', 'spec', 'thank', 'mainli', 'trick', 'sc', 'format', 'argument', 'confus', 'refus', 'hi', 'accus', '31st', 'hint', 'fbi', 'treat', 'easi', 'charg', 'onc', \"'blatant\", 'standard', 'relief', 'moodi', 'cm', 'respons', 'energi', 'bother', 'individu', 'live', 'hug', 'gb', 'account', 'man', 'noth', 'season', 'buy', 'digniti', 'lpx', 'deadass', 'happen', 'touch', 'dure', 'switch', 'includ', 'nc', 'sign', 'wikileak', 'leak', 'gpu', 'drink', 'thread', 'quiet', 'hillari', 'petti', 'hat', 'run', 'colleg', 'buzz', 'huge', 'gtx', 'abl', 'conserv', 'benq', 'anywher', 'purchas', '1tb', 'lash', 'forget', 'tool', 'quit', 'seed', 'liber', 'comment', 'email', 'creat', 'team', 'someth', 'russian', 'equival', 'monitor', 'zone', '-replac', 'keyboard', 'bill', 'act', 'community/th', 'dislik', 'open', \"'m\", 'maverick', 'specif', '8gb', 'imo', 'realli', 'i5-6600k', 'know', 'umm', 'gay', 'twitter', 'post', 'boy', 'probabl', 'weak', 'guess', 'sephiroth', 'appreci', 'becaus', 'subscript', 'kill', 'storag', 'easports_mut', 'opt-out', 'claus', 'anoth', 'exercis', 'lack', 'brown', 'mean', 'loi', '650w', 'offer', 'alway', 'conservat', 'find', 'think', 'loaf', 'manag', 'fernando', \"n't\", 'explan', 'psu', 'chang', 'scandal', \"'d\", 'confirm', 'xl2411z', 'gain', 'read', 'straight', 'shock', 'fan', 'place', 'vice', 'tbh', 'clean', 'tm', 'chowex', 'unsupport', 'hope', 'butt', 'worldi', 'struggl', 'modern', 'ca', '-buy', 'unsettl', 'prove', 'sticki', 'prefer', 'equip', 'appli', 'befor', 'peopl', 'right', 'p2', '1,571,048', 'debt', 'evga', 'repres', 'tri', 'versa', 'emo', 'game', 'defeat', 'west', '2400mhz', 'medium', 'cooler', 'lie', 'tweet', 'watch', '-save', 'tartl', 'thought', 'worri', 'sure', 'corsair', 'jesu', 'blazer', 'health', 'insight', 'wo', 'piec', 'red', 'articl', 'box', 'vs.', 'podesta', 'kany', 'tour', 'cabl', 'clark', 'clinton', 'guilt', 'cancel', 'alreadi', 'recur', 'releas', 'bad', 'seller', 'xpascal', 'razer', 'mod', 'indian', 'stand', 'incred', 'exampl', 'campaign', 'moment', 'decent', 'love', 'monthli', 'nfc', 'onli', 'tournament', 'point', 'coffe', 'doubt', 'rodney', '9/4', 'girl', 'playoff', 'evo', 'everyth', 'favor', 'spend', 'loud', \"'s\", 'shhh', 'win', \"'re\", 'hesit', 'famili', 'pull', 'jam', 'nfl', '3d', 'blue', 'mani', 'play', 'ariana', 'grow', 'accolad', 'florida'}\n"
     ]
    }
   ],
   "source": [
    "## f). without stopwords\n",
    "def preprocess_text(tokens):\n",
    "    new_content_lines=[]\n",
    "    stopwords = pd.read_csv(\"Dataset/StopWords.txt\", index_col=False, quoting=3, sep='\\t', names=['stopword'], encoding='utf-8')\n",
    "    stopwords = list(stopwords['stopword'].values)\n",
    "\n",
    "    filtered_tokens = [w for w in tokens if not w in stopwords]\n",
    "    return filtered_tokens\n",
    "\n",
    "filtered_words_tokens = preprocess_text(words_only)\n",
    "#print(type(filtered_words_tokens))\n",
    "# test\n",
    "print(len(filtered_words_tokens))\n",
    "#print(filtered_words_tokens)\n",
    "print(set(filtered_words_tokens))\n",
    "words_only_ratio = tt_ratio(filtered_words_tokens)\n",
    "#print(words_only_ratio)\n",
    "\n"
   ],
   "metadata": {
    "collapsed": false,
    "pycharm": {
     "name": "#%%\n"
    }
   }
  },
  {
   "cell_type": "code",
   "execution_count": 30,
   "outputs": [
    {
     "name": "stdout",
     "output_type": "stream",
     "text": [
      "[(('team', 'specif'), 3), (('yeah', 'argument'), 2), (('argument', 'thi'), 2), (('thi', 'point'), 2), (('point', \"'d\"), 2), ((\"'d\", 'prefer'), 2), (('prefer', 'live'), 2), (('live', 'nc'), 2), (('nc', 'blazer'), 2), (('blazer', 'maverick'), 2), (('maverick', 'west'), 2), (('west', 'seed'), 2), (('seed', 'carri'), 2), (('carri', 'record'), 2), (('record', 'playoff'), 2), (('playoff', 'east'), 2), (('east', \"'re\"), 2), ((\"'re\", 'favor'), 2), (('favor', 'win'), 2), (('razer', 'blackwidow'), 2)]\n"
     ]
    }
   ],
   "source": [
    "bigrams_list = [bigram for bigram in nltk.bigrams(filtered_words_tokens)]\n",
    "freq_bigrams = frequency(bigrams_list)\n",
    "print(freq_bigrams.most_common(20))"
   ],
   "metadata": {
    "collapsed": false,
    "pycharm": {
     "name": "#%%\n"
    }
   }
  },
  {
   "cell_type": "markdown",
   "source": [],
   "metadata": {
    "collapsed": false,
    "pycharm": {
     "name": "#%% md\n"
    }
   }
  }
 ],
 "metadata": {
  "kernelspec": {
   "display_name": "Python 3",
   "language": "python",
   "name": "python3"
  },
  "language_info": {
   "codemirror_mode": {
    "name": "ipython",
    "version": 2
   },
   "file_extension": ".py",
   "mimetype": "text/x-python",
   "name": "python",
   "nbconvert_exporter": "python",
   "pygments_lexer": "ipython2",
   "version": "2.7.6"
  }
 },
 "nbformat": 4,
 "nbformat_minor": 0
}